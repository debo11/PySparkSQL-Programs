{
 "cells": [
  {
   "cell_type": "code",
   "execution_count": 35,
   "id": "24615fba",
   "metadata": {},
   "outputs": [],
   "source": [
    "from pyspark.sql import SparkSession\n",
    "from pyspark.sql.functions import col,desc\n",
    "from pyspark.sql import functions as F"
   ]
  },
  {
   "cell_type": "code",
   "execution_count": 36,
   "id": "c7aca3f6",
   "metadata": {},
   "outputs": [],
   "source": [
    "spark = SparkSession.builder.appName('Call Declines').getOrCreate()"
   ]
  },
  {
   "cell_type": "code",
   "execution_count": 37,
   "id": "63b54688",
   "metadata": {},
   "outputs": [
    {
     "name": "stdout",
     "output_type": "stream",
     "text": [
      "+-------+-------------------+-------+\n",
      "|user_id|               date|call_id|\n",
      "+-------+-------------------+-------+\n",
      "|   1218|2020-04-19 01:06:46|      0|\n",
      "|   1554|2020-03-01 16:51:01|      1|\n",
      "|   1857|2020-03-29 07:06:13|      2|\n",
      "|   1525|2020-03-07 02:01:12|      3|\n",
      "|   1271|2020-04-28 21:39:12|      4|\n",
      "|   1181|2020-03-18 04:49:36|      5|\n",
      "|   1950|2020-04-12 23:57:03|      6|\n",
      "|   1339|2020-04-11 02:15:43|      7|\n",
      "|   1910|2020-03-21 08:56:38|      8|\n",
      "|   1093|2020-03-07 15:47:46|      9|\n",
      "|   1859|2020-04-25 13:55:44|     10|\n",
      "|   1079|2020-04-17 16:38:00|     11|\n",
      "|   1519|2020-04-15 12:14:22|     12|\n",
      "|   1854|2020-04-25 19:59:22|     13|\n",
      "|   1968|2020-03-16 21:19:39|     14|\n",
      "|   1891|2020-03-30 23:11:06|     15|\n",
      "|   1575|2020-03-14 15:21:45|     16|\n",
      "|   1162|2020-04-06 18:39:32|     17|\n",
      "|   1503|2020-04-01 18:31:36|     18|\n",
      "|   1884|2020-04-08 08:44:19|     19|\n",
      "+-------+-------------------+-------+\n",
      "only showing top 20 rows\n",
      "\n",
      "+-------+--------+----------+\n",
      "|user_id|  status|company_id|\n",
      "+-------+--------+----------+\n",
      "|   1218|    free|         1|\n",
      "|   1554|inactive|         1|\n",
      "|   1857|    free|         2|\n",
      "|   1525|    paid|         1|\n",
      "|   1271|inactive|         2|\n",
      "|   1181|inactive|         2|\n",
      "|   1950|    free|         1|\n",
      "|   1339|    free|         2|\n",
      "|   1910|    free|         2|\n",
      "|   1093|    paid|         3|\n",
      "|   1859|    free|         1|\n",
      "|   1079|    paid|         2|\n",
      "|   1519|inactive|         2|\n",
      "|   1854|    paid|         1|\n",
      "|   1968|inactive|         2|\n",
      "|   1891|    paid|         2|\n",
      "|   1575|    free|         2|\n",
      "|   1162|    paid|         2|\n",
      "|   1503|inactive|         3|\n",
      "|   1884|    free|         1|\n",
      "+-------+--------+----------+\n",
      "\n"
     ]
    }
   ],
   "source": [
    "df_call_input = spark.read.options(header='True', InferSchema='True').csv('rc_calls.csv')\n",
    "df_status_input = spark.read.options(header='True', InferSchema='True').csv('rc_users.csv')\n",
    "df_call_input.show()\n",
    "df_status_input.show()"
   ]
  },
  {
   "cell_type": "code",
   "execution_count": 38,
   "id": "419d0087",
   "metadata": {},
   "outputs": [
    {
     "name": "stdout",
     "output_type": "stream",
     "text": [
      "+-------+-------------------+-------+\n",
      "|user_id|               date|call_id|\n",
      "+-------+-------------------+-------+\n",
      "|   1554|2020-03-01 16:51:01|      1|\n",
      "|   1181|2020-03-02 17:07:11|     22|\n",
      "|   1525|2020-03-04 14:44:47|     21|\n",
      "|   1525|2020-03-07 02:01:12|      3|\n",
      "|   1093|2020-03-07 15:47:46|      9|\n",
      "|   1162|2020-03-08 06:47:32|     36|\n",
      "|   1854|2020-03-10 10:04:19|     20|\n",
      "|   1910|2020-03-11 08:33:37|     39|\n",
      "|   1859|2020-03-13 23:52:34|     25|\n",
      "|   1575|2020-03-14 15:21:45|     16|\n",
      "|   1968|2020-03-16 21:19:39|     14|\n",
      "|   1950|2020-03-17 11:17:04|     34|\n",
      "|   1181|2020-03-18 04:49:36|      5|\n",
      "|   1884|2020-03-20 14:41:15|     33|\n",
      "|   1910|2020-03-21 08:56:38|      8|\n",
      "|   1854|2020-03-28 00:35:52|     27|\n",
      "|   1857|2020-03-29 07:06:13|      2|\n",
      "|   1503|2020-03-29 11:17:26|     23|\n",
      "|   1891|2020-03-30 23:11:06|     15|\n",
      "+-------+-------------------+-------+\n",
      "\n",
      "+-------+--------+----------+\n",
      "|user_id|  status|company_id|\n",
      "+-------+--------+----------+\n",
      "|   1554|inactive|         1|\n",
      "|   1271|inactive|         2|\n",
      "|   1181|inactive|         2|\n",
      "|   1519|inactive|         2|\n",
      "|   1968|inactive|         2|\n",
      "|   1503|inactive|         3|\n",
      "+-------+--------+----------+\n",
      "\n"
     ]
    }
   ],
   "source": [
    "##filtering out records from March to April 2020 from call table and also filtering inactive records from status table\n",
    "df_filtered_calls = df_call_input.filter(F.col('date').between('2020-03-01 00:00:00','2020-03-31 23:59:59')).selectExpr('user_id','date','call_id').orderBy('date')\n",
    "df_filtered_inactive_users = df_status_input.filter(df_status_input.status == \"inactive\").selectExpr('user_id','status','company_id')\n",
    "df_filtered.show(20)\n",
    "df_filtered_inactive_users.show(20)"
   ]
  },
  {
   "cell_type": "code",
   "execution_count": 39,
   "id": "0f519d1c",
   "metadata": {},
   "outputs": [],
   "source": [
    "##Merging both dataframe to get the call_id wrt to user_id for Mar-Apr for Inactive users\n",
    "df_output = df_filtered_inactive_users.join(df_filtered, df_filtered_inactive_users.user_id == df_filtered.user_id, 'inner')\n",
    "#df_output.show()"
   ]
  },
  {
   "cell_type": "code",
   "execution_count": 40,
   "id": "b02b20b4",
   "metadata": {},
   "outputs": [
    {
     "name": "stdout",
     "output_type": "stream",
     "text": [
      "+----------+-----------+\n",
      "|company_id|total_count|\n",
      "+----------+-----------+\n",
      "|         2|          3|\n",
      "|         1|          1|\n",
      "|         3|          1|\n",
      "+----------+-----------+\n",
      "\n"
     ]
    }
   ],
   "source": [
    "df_output = df_output.groupBy('company_id').count().select(col('company_id'), col('count').alias('total_count')).sort(desc('total_count')).show()"
   ]
  },
  {
   "cell_type": "code",
   "execution_count": null,
   "id": "bdf59737",
   "metadata": {},
   "outputs": [],
   "source": []
  }
 ],
 "metadata": {
  "kernelspec": {
   "display_name": "Python 3 (ipykernel)",
   "language": "python",
   "name": "python3"
  },
  "language_info": {
   "codemirror_mode": {
    "name": "ipython",
    "version": 3
   },
   "file_extension": ".py",
   "mimetype": "text/x-python",
   "name": "python",
   "nbconvert_exporter": "python",
   "pygments_lexer": "ipython3",
   "version": "3.9.7"
  }
 },
 "nbformat": 4,
 "nbformat_minor": 5
}
