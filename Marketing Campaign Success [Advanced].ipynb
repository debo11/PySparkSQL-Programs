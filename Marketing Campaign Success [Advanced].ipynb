{
 "cells": [
  {
   "cell_type": "code",
   "execution_count": 332,
   "id": "b3d103d5",
   "metadata": {},
   "outputs": [],
   "source": [
    "from pyspark.sql import SparkSession\n",
    "from pyspark.sql import functions as F\n",
    "from pyspark.sql.functions import lag\n",
    "from pyspark.sql.functions import collect_list,when\n",
    "from pyspark.sql.functions import array_distinct"
   ]
  },
  {
   "cell_type": "code",
   "execution_count": 333,
   "id": "8d8d1ad8",
   "metadata": {},
   "outputs": [],
   "source": [
    "spark = SparkSession.builder.appName('Marketing Campaign Success').getOrCreate()"
   ]
  },
  {
   "cell_type": "code",
   "execution_count": 348,
   "id": "91ba681b",
   "metadata": {},
   "outputs": [
    {
     "name": "stdout",
     "output_type": "stream",
     "text": [
      "+-------+----------+----------+--------+-----+\n",
      "|user_id|created_at|product_id|quantity|price|\n",
      "+-------+----------+----------+--------+-----+\n",
      "|     10|2019-01-01|       101|       3|   55|\n",
      "|     10|2019-01-02|       119|       5|   29|\n",
      "|     10|2019-03-31|       111|       2|  149|\n",
      "|     11|2019-01-02|       105|       3|  234|\n",
      "|     11|2019-03-31|       120|       3|   99|\n",
      "|     12|2019-01-02|       112|       2|  200|\n",
      "|     12|2019-03-31|       110|       2|  299|\n",
      "|     13|2019-01-05|       113|       1|   67|\n",
      "|     13|2019-03-31|       118|       3|   35|\n",
      "|     14|2019-01-06|       109|       5|  199|\n",
      "|     14|2019-01-06|       107|       2|   27|\n",
      "|     14|2019-03-31|       112|       3|  200|\n",
      "|     15|2019-01-08|       105|       4|  234|\n",
      "|     15|2019-01-09|       110|       4|  299|\n",
      "|     15|2019-03-31|       116|       2|  499|\n",
      "|     16|2019-01-10|       113|       2|   67|\n",
      "|     16|2019-03-31|       107|       4|   27|\n",
      "|     17|2019-01-11|       116|       2|  499|\n",
      "|     17|2019-03-31|       104|       1|  154|\n",
      "|     18|2019-01-12|       114|       2|  248|\n",
      "+-------+----------+----------+--------+-----+\n",
      "only showing top 20 rows\n",
      "\n"
     ]
    }
   ],
   "source": [
    "df_input = spark.read.options(header='True', InferSchema='True').csv('marketing_campaign.csv')\n",
    "df_input.show()"
   ]
  },
  {
   "cell_type": "code",
   "execution_count": 335,
   "id": "5429494d",
   "metadata": {},
   "outputs": [],
   "source": [
    "#users that only made one or multiple purchases on the first day do not count\n",
    "df_input.createOrReplaceTempView(\"campaign\")\n",
    "df_second_purchase= spark.sql(\"select user_id,created_at,product_id,rn from \"+ \" (select  user_id,created_at,product_id, RANK() OVER (PARTITION BY user_id ORDER BY created_at ASC) as rn \" +\" FROM campaign) tmp where rn >1 \")\n",
    "#df_second_purchase.show()"
   ]
  },
  {
   "cell_type": "code",
   "execution_count": 336,
   "id": "beec9be9",
   "metadata": {},
   "outputs": [],
   "source": [
    "#first day purchase\n",
    "df_input.createOrReplaceTempView(\"campaign\")\n",
    "df_first_purchase= spark.sql(\"select user_id,created_at,product_id,rn from \"+ \" (select  user_id,created_at,product_id, RANK() OVER (PARTITION BY user_id ORDER BY created_at ASC) as rn \" +\" FROM campaign) tmp where rn=1\")\n",
    "#df_first_purchase.show()"
   ]
  },
  {
   "cell_type": "code",
   "execution_count": 337,
   "id": "15033836",
   "metadata": {},
   "outputs": [],
   "source": [
    "#creating list of all product_id groupby user_id and also removing duplicate product_id\n",
    "first_grouped_df = df_first_purchase.groupby('user_id').agg(collect_list('product_id').alias(\"first_product_list\")).select(col(\"first_product_list\"), col(\"user_id\").alias(\"first_user_id\"))\n",
    "first_grouped_df = first_grouped_df.withColumn(\"first_product\", array_distinct(\"first_product_list\"))\n",
    "second_grouped_df = df_second_purchase.groupby('user_id').agg(collect_list('product_id').alias(\"sec_product_list\")).select(col(\"sec_product_list\"), col(\"user_id\").alias(\"sec_user_id\"))\n",
    "second_grouped_df = second_grouped_df.withColumn(\"sec_product\", array_distinct(\"sec_product_list\"))"
   ]
  },
  {
   "cell_type": "code",
   "execution_count": 338,
   "id": "be5cb13d",
   "metadata": {},
   "outputs": [],
   "source": [
    "##joining above df\n",
    "df_combined = first_grouped_df.join(second_grouped_df, first_grouped_df.first_user_id == second_grouped_df.sec_user_id , 'inner').selectExpr('first_user_id','first_product','sec_product')"
   ]
  },
  {
   "cell_type": "code",
   "execution_count": 339,
   "id": "f0597c32",
   "metadata": {},
   "outputs": [],
   "source": [
    "df_output = df_combined.withColumn(\"Status_Flag\", when(df_combined.first_product == df_combined.sec_product,\"InActive\").otherwise(\"Active\"))\n",
    "#df_output.show()"
   ]
  },
  {
   "cell_type": "code",
   "execution_count": 340,
   "id": "c404f600",
   "metadata": {},
   "outputs": [],
   "source": [
    "df_output = df_output.filter(df_output.Status_Flag == 'Active')"
   ]
  },
  {
   "cell_type": "code",
   "execution_count": 341,
   "id": "a569543a",
   "metadata": {},
   "outputs": [
    {
     "data": {
      "text/plain": [
       "23"
      ]
     },
     "execution_count": 341,
     "metadata": {},
     "output_type": "execute_result"
    }
   ],
   "source": [
    "df_output.select('first_user_id').distinct().count()"
   ]
  }
 ],
 "metadata": {
  "kernelspec": {
   "display_name": "Python 3 (ipykernel)",
   "language": "python",
   "name": "python3"
  },
  "language_info": {
   "codemirror_mode": {
    "name": "ipython",
    "version": 3
   },
   "file_extension": ".py",
   "mimetype": "text/x-python",
   "name": "python",
   "nbconvert_exporter": "python",
   "pygments_lexer": "ipython3",
   "version": "3.9.7"
  }
 },
 "nbformat": 4,
 "nbformat_minor": 5
}
