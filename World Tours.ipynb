{
 "cells": [
  {
   "cell_type": "code",
   "execution_count": 19,
   "id": "90502c1b",
   "metadata": {},
   "outputs": [],
   "source": [
    "from pyspark.sql import SparkSession\n",
    "from pyspark.sql.functions import col"
   ]
  },
  {
   "cell_type": "code",
   "execution_count": 20,
   "id": "38a72e3b",
   "metadata": {},
   "outputs": [],
   "source": [
    "spark = SparkSession.builder.appName('World Tours').getOrCreate()"
   ]
  },
  {
   "cell_type": "code",
   "execution_count": 21,
   "id": "c034bc27",
   "metadata": {},
   "outputs": [],
   "source": [
    "df_input = spark.read.options(header='True', InferSchema='True').csv('travel_history.csv')\n",
    "#df_input.show()"
   ]
  },
  {
   "cell_type": "code",
   "execution_count": 22,
   "id": "99038cc1",
   "metadata": {},
   "outputs": [],
   "source": [
    "##using dense_rank to get the first and last rank based on traveller and date\n",
    "df_input.createOrReplaceTempView('fb')\n",
    "df_start = spark.sql('select traveler,start_city,end_city,date,rnk from (select traveler,start_city,end_city,date, DENSE_RANK() over(partition by traveler order by date) as rnk from fb) where rnk =1')\n",
    "df_end = spark.sql('select traveler,start_city,end_city,date,rnk from (select traveler,start_city,end_city,date, DENSE_RANK() over(partition by traveler order by date desc) as rnk from fb) where rnk=1')\n",
    "#df_start.show(20)\n",
    "#df_end.show(20)"
   ]
  },
  {
   "cell_type": "code",
   "execution_count": 23,
   "id": "7f28666b",
   "metadata": {},
   "outputs": [],
   "source": [
    "##merging both dataframe w.r.t traveller,start_place,end_place w.r.t date\n",
    "df_start = df_start.withColumnRenamed(\"traveler\",\"traveller\")\n",
    "df_start = df_start.withColumnRenamed(\"start_city\",\"starting_city\")\n",
    "df_start = df_start.withColumnRenamed(\"end_city\",\"ending_city\")\n",
    "df_start = df_start.withColumnRenamed(\"date\",\"starting_travel_date\")\n",
    "df_end = df_end.withColumnRenamed(\"date\",\"ending_travel_date\")\n",
    "df_output = df_start.join(df_end, df_start.traveller == df_end.traveler, 'inner').selectExpr('traveller','starting_city','end_city','starting_travel_date','ending_travel_date')\n",
    "#df_output.show()"
   ]
  },
  {
   "cell_type": "code",
   "execution_count": 24,
   "id": "c11d9260",
   "metadata": {},
   "outputs": [
    {
     "name": "stdout",
     "output_type": "stream",
     "text": [
      "+---------+\n",
      "|traveller|\n",
      "+---------+\n",
      "|     Alan|\n",
      "|     Carl|\n",
      "|     John|\n",
      "+---------+\n",
      "\n"
     ]
    }
   ],
   "source": [
    "##filtering out traveller who did reached home destination\n",
    "df_output = df_output.filter('starting_city == end_city').select(col('traveller'))\n",
    "df_output.show()"
   ]
  },
  {
   "cell_type": "code",
   "execution_count": null,
   "id": "2f9e9e38",
   "metadata": {},
   "outputs": [],
   "source": []
  }
 ],
 "metadata": {
  "kernelspec": {
   "display_name": "Python 3 (ipykernel)",
   "language": "python",
   "name": "python3"
  },
  "language_info": {
   "codemirror_mode": {
    "name": "ipython",
    "version": 3
   },
   "file_extension": ".py",
   "mimetype": "text/x-python",
   "name": "python",
   "nbconvert_exporter": "python",
   "pygments_lexer": "ipython3",
   "version": "3.9.7"
  }
 },
 "nbformat": 4,
 "nbformat_minor": 5
}
