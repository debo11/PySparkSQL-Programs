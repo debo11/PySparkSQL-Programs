{
 "cells": [
  {
   "cell_type": "code",
   "execution_count": 6,
   "id": "697f1335",
   "metadata": {},
   "outputs": [],
   "source": [
    "from pyspark.sql import SparkSession\n",
    "from pyspark.sql import functions as F\n",
    "from pyspark.sql.functions import col"
   ]
  },
  {
   "cell_type": "code",
   "execution_count": 7,
   "id": "941cadb2",
   "metadata": {},
   "outputs": [],
   "source": [
    "spark = SparkSession.builder.appName('Wind Statistics').getOrCreate()"
   ]
  },
  {
   "cell_type": "code",
   "execution_count": 33,
   "id": "dfdfc75e",
   "metadata": {},
   "outputs": [
    {
     "name": "stdout",
     "output_type": "stream",
     "text": [
      "+--------------------------------------------------------------------------------+\n",
      "|Yr Mo Dy   RPT   VAL   ROS   KIL   SHA   BIR   DUB   CLA   MUL   CLO   BEL   MAL|\n",
      "+--------------------------------------------------------------------------------+\n",
      "|                                                            61  1  1 15.04 14...|\n",
      "|                                                            61  1  2 14.71   ...|\n",
      "|                                                            61  1  3 18.50 16...|\n",
      "|                                                            61  1  4 10.58  6...|\n",
      "|                                                            61  1  5 13.33 13...|\n",
      "|                                                            61  1  6 13.21  8...|\n",
      "|                                                            61  1  7 13.50 14...|\n",
      "|                                                            61  1  8 10.96  9...|\n",
      "|                                                            61  1  9 12.58 10...|\n",
      "|                                                            61  1 10 13.37 11...|\n",
      "|                                                            61  1 11 10.58  9...|\n",
      "|                                                            61  1 12 19.75 12...|\n",
      "|                                                            61  1 13  9.92  3...|\n",
      "|                                                            61  1 14  9.04  5...|\n",
      "|                                                            61  1 15 12.04  9...|\n",
      "|                                                            61  1 16 16.42 11...|\n",
      "|                                                            61  1 17 17.75 14...|\n",
      "|                                                            61  1 18 19.83 12...|\n",
      "|                                                            61  1 19  4.92  3...|\n",
      "|                                                            61  1 20  9.59 11...|\n",
      "+--------------------------------------------------------------------------------+\n",
      "only showing top 20 rows\n",
      "\n"
     ]
    }
   ],
   "source": [
    "df_input = spark.read.options(header ='True', InferSchema='True', delimter= \"\\t\").csv('wind_data.csv').show()"
   ]
  },
  {
   "cell_type": "code",
   "execution_count": null,
   "id": "436dd5b3",
   "metadata": {},
   "outputs": [],
   "source": []
  }
 ],
 "metadata": {
  "kernelspec": {
   "display_name": "Python 3 (ipykernel)",
   "language": "python",
   "name": "python3"
  },
  "language_info": {
   "codemirror_mode": {
    "name": "ipython",
    "version": 3
   },
   "file_extension": ".py",
   "mimetype": "text/x-python",
   "name": "python",
   "nbconvert_exporter": "python",
   "pygments_lexer": "ipython3",
   "version": "3.9.7"
  }
 },
 "nbformat": 4,
 "nbformat_minor": 5
}
