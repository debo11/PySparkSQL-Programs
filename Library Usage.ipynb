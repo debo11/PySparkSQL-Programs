{
 "cells": [
  {
   "cell_type": "code",
   "execution_count": 1,
   "id": "0f0c985c",
   "metadata": {},
   "outputs": [],
   "source": [
    "from pyspark.sql import SparkSession\n",
    "from pyspark.sql.functions import col,when"
   ]
  },
  {
   "cell_type": "code",
   "execution_count": 2,
   "id": "928a1aa2",
   "metadata": {},
   "outputs": [],
   "source": [
    "spark = SparkSession.builder.master('local').appName('Library Usage').getOrCreate()"
   ]
  },
  {
   "cell_type": "code",
   "execution_count": 6,
   "id": "6ebbe9df",
   "metadata": {},
   "outputs": [
    {
     "name": "stdout",
     "output_type": "stream",
     "text": [
      "+----------------+----------------------+---------------+--------------+--------------+-----------------+-----------------------+------------------------+-----------------------+----------------------+----------------------------+----------------------+----------------------+-----------------+-------------------+\n",
      "|patron_type_code|patron_type_definition|total_checkouts|total_renewals|     age_range|home_library_code|home_library_definition|circulation_active_month|circulation_active_year|notice_preference_code|notice_preference_definition|provided_email_address|year_patron_registered|outside_of_county|supervisor_district|\n",
      "+----------------+----------------------+---------------+--------------+--------------+-----------------+-----------------------+------------------------+-----------------------+----------------------+----------------------------+----------------------+----------------------+-----------------+-------------------+\n",
      "|               0|                 ADULT|              6|             0|10 to 19 years|               W4|       Western Addition|                    July|                   2015|                     z|                       email|                  true|                  2012|            false|                  8|\n",
      "+----------------+----------------------+---------------+--------------+--------------+-----------------+-----------------------+------------------------+-----------------------+----------------------+----------------------------+----------------------+----------------------+-----------------+-------------------+\n",
      "only showing top 1 row\n",
      "\n"
     ]
    }
   ],
   "source": [
    "df_input = spark.read.options(header='True', InferSchema='True').csv('library_usage.csv')\n",
    "df_input.show()"
   ]
  },
  {
   "cell_type": "code",
   "execution_count": 13,
   "id": "430bacf9",
   "metadata": {},
   "outputs": [
    {
     "name": "stdout",
     "output_type": "stream",
     "text": [
      "+-----------------+\n",
      "|home_library_code|\n",
      "+-----------------+\n",
      "|               E9|\n",
      "|               P7|\n",
      "|               R3|\n",
      "|                X|\n",
      "+-----------------+\n",
      "\n"
     ]
    }
   ],
   "source": [
    "df_mail_filter = df_input.filter(df_input.notice_preference_definition == 'email')\n",
    "df_address_filter = df_mail_filter.filter(df_mail_filter.provided_email_address == 'FALSE').selectExpr('home_library_code').distinct().show()"
   ]
  },
  {
   "cell_type": "code",
   "execution_count": null,
   "id": "c1ace84b",
   "metadata": {},
   "outputs": [],
   "source": []
  }
 ],
 "metadata": {
  "kernelspec": {
   "display_name": "Python 3 (ipykernel)",
   "language": "python",
   "name": "python3"
  },
  "language_info": {
   "codemirror_mode": {
    "name": "ipython",
    "version": 3
   },
   "file_extension": ".py",
   "mimetype": "text/x-python",
   "name": "python",
   "nbconvert_exporter": "python",
   "pygments_lexer": "ipython3",
   "version": "3.9.7"
  }
 },
 "nbformat": 4,
 "nbformat_minor": 5
}
