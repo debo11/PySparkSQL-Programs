{
 "cells": [
  {
   "cell_type": "code",
   "execution_count": 27,
   "id": "c10a5011",
   "metadata": {},
   "outputs": [],
   "source": [
    "from pyspark.sql import SparkSession"
   ]
  },
  {
   "cell_type": "code",
   "execution_count": 28,
   "id": "7da5cc5f",
   "metadata": {},
   "outputs": [],
   "source": [
    "spark = SparkSession.builder.master('local').appName('Countries Combination').getOrCreate()"
   ]
  },
  {
   "cell_type": "code",
   "execution_count": 29,
   "id": "175b5e8e",
   "metadata": {},
   "outputs": [
    {
     "name": "stdout",
     "output_type": "stream",
     "text": [
      "+---------+\n",
      "|    teams|\n",
      "+---------+\n",
      "|    India|\n",
      "| Pakistan|\n",
      "| SriLanka|\n",
      "|Australia|\n",
      "+---------+\n",
      "\n"
     ]
    }
   ],
   "source": [
    "df_input = spark.read.options(header='True', InferSchema='True').csv('countries.csv')\n",
    "df_input.show()"
   ]
  },
  {
   "cell_type": "code",
   "execution_count": 31,
   "id": "a31013f1",
   "metadata": {},
   "outputs": [
    {
     "name": "stdout",
     "output_type": "stream",
     "text": [
      "+-----------------------+\n",
      "|concat(teams,  , teams)|\n",
      "+-----------------------+\n",
      "|         India Pakistan|\n",
      "|         India SriLanka|\n",
      "|      Pakistan SriLanka|\n",
      "|        Australia India|\n",
      "|     Australia Pakistan|\n",
      "|     Australia SriLanka|\n",
      "+-----------------------+\n",
      "\n"
     ]
    }
   ],
   "source": [
    "df_input.createOrReplaceTempView(\"fb\")\n",
    "df_most_flagged_video = spark.sql(\"select concat(t1.teams, ' ', t2.teams) from fb t1 join fb t2 on t1.teams < t2.teams\")\n",
    "df_most_flagged_video.show()"
   ]
  },
  {
   "cell_type": "code",
   "execution_count": null,
   "id": "9ccf43cf",
   "metadata": {},
   "outputs": [],
   "source": []
  }
 ],
 "metadata": {
  "kernelspec": {
   "display_name": "Python 3 (ipykernel)",
   "language": "python",
   "name": "python3"
  },
  "language_info": {
   "codemirror_mode": {
    "name": "ipython",
    "version": 3
   },
   "file_extension": ".py",
   "mimetype": "text/x-python",
   "name": "python",
   "nbconvert_exporter": "python",
   "pygments_lexer": "ipython3",
   "version": "3.9.7"
  }
 },
 "nbformat": 4,
 "nbformat_minor": 5
}
