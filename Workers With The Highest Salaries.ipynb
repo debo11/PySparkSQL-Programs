{
 "cells": [
  {
   "cell_type": "code",
   "execution_count": 80,
   "id": "6e8fbcd8",
   "metadata": {},
   "outputs": [],
   "source": [
    "from pyspark.sql import SparkSession\n",
    "spark = SparkSession.builder.appName(\"Workers With The Highest Salaries\").getOrCreate()"
   ]
  },
  {
   "cell_type": "code",
   "execution_count": 87,
   "id": "86335679",
   "metadata": {},
   "outputs": [
    {
     "name": "stdout",
     "output_type": "stream",
     "text": [
      "+---------+----------+---------+------+----------------+----------+\n",
      "|worker_id|first_name|last_name|salary|    joining_date|department|\n",
      "+---------+----------+---------+------+----------------+----------+\n",
      "|        1|    Monika|    Arora|100000|20-02-2014 09:00|        HR|\n",
      "|        2|  Niharika|    Verma| 80000|11-06-2014 09:00|     Admin|\n",
      "|        3|    Vishal|  Singhal|300000|20-02-2014 09:00|        HR|\n",
      "|        4|    Amitah|    Singh|500000|20-02-2014 09:00|     Admin|\n",
      "|        5|     Vivek|    Bhati|500000|11-06-2014 09:00|     Admin|\n",
      "+---------+----------+---------+------+----------------+----------+\n",
      "\n",
      "+-------------+-------------+----------------+\n",
      "|worker_ref_id| worker_title|   affected_from|\n",
      "+-------------+-------------+----------------+\n",
      "|            1|      Manager|20-02-2016 00:00|\n",
      "|            2|    Executive|11-06-2016 00:00|\n",
      "|            8|    Executive|11-06-2016 00:00|\n",
      "|            5|      Manager|11-06-2016 00:00|\n",
      "|            4|Asst. Manager|11-06-2016 00:00|\n",
      "+-------------+-------------+----------------+\n",
      "\n"
     ]
    }
   ],
   "source": [
    "df_worker_input = spark.read.options(header='true', InferSchema='true', delimiter=',').csv('workers.csv')\n",
    "df_title_input = spark.read.options(header='true', InferSchema='true', delimiter=',').csv('title.csv')\n",
    "df_worker_input.show()\n",
    "df_title_input.show()"
   ]
  },
  {
   "cell_type": "code",
   "execution_count": 89,
   "id": "1bf306eb",
   "metadata": {},
   "outputs": [],
   "source": [
    "df_worker_input.createOrReplaceTempView(\"worker\")\n",
    "df_max_sal= spark.sql(\"select worker_id,salary from worker where salary = (select max(salary) from worker) \")"
   ]
  },
  {
   "cell_type": "code",
   "execution_count": 90,
   "id": "ee76f22c",
   "metadata": {},
   "outputs": [],
   "source": [
    "df_max_sal= spark.sql(\"select worker_id,salary from worker where salary = (select max(salary) from worker) \")"
   ]
  },
  {
   "cell_type": "code",
   "execution_count": 91,
   "id": "4f24ff6c",
   "metadata": {},
   "outputs": [
    {
     "name": "stdout",
     "output_type": "stream",
     "text": [
      "+-------------+\n",
      "| worker_title|\n",
      "+-------------+\n",
      "|      Manager|\n",
      "|Asst. Manager|\n",
      "+-------------+\n",
      "\n"
     ]
    }
   ],
   "source": [
    "df_output = df_title_input.join(df_max_sal, df_title_input.worker_ref_id == df_max_sal.worker_id, 'inner').selectExpr('worker_title').show()"
   ]
  },
  {
   "cell_type": "code",
   "execution_count": 100,
   "id": "ffbdc211",
   "metadata": {},
   "outputs": [
    {
     "data": {
      "text/plain": [
       "39.97821499509995"
      ]
     },
     "execution_count": 100,
     "metadata": {},
     "output_type": "execute_result"
    }
   ],
   "source": [
    "((1332636 - 952031)/952031 )*100"
   ]
  },
  {
   "cell_type": "code",
   "execution_count": 101,
   "id": "cb34b91f",
   "metadata": {},
   "outputs": [
    {
     "data": {
      "text/plain": [
       "-28.560312043198593"
      ]
     },
     "execution_count": 101,
     "metadata": {},
     "output_type": "execute_result"
    }
   ],
   "source": [
    "((952031-1332636)/1332636 )*100"
   ]
  },
  {
   "cell_type": "code",
   "execution_count": null,
   "id": "2190b999",
   "metadata": {},
   "outputs": [],
   "source": []
  }
 ],
 "metadata": {
  "kernelspec": {
   "display_name": "Python 3 (ipykernel)",
   "language": "python",
   "name": "python3"
  },
  "language_info": {
   "codemirror_mode": {
    "name": "ipython",
    "version": 3
   },
   "file_extension": ".py",
   "mimetype": "text/x-python",
   "name": "python",
   "nbconvert_exporter": "python",
   "pygments_lexer": "ipython3",
   "version": "3.9.7"
  }
 },
 "nbformat": 4,
 "nbformat_minor": 5
}
