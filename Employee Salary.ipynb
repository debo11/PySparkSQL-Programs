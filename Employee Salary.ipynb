{
 "cells": [
  {
   "cell_type": "code",
   "execution_count": 1,
   "id": "387cfe07",
   "metadata": {},
   "outputs": [],
   "source": [
    "from pyspark.sql import SparkSession\n",
    "import pandas as pd\n",
    "from pyspark.sql.functions import *\n",
    "spark = SparkSession.builder.appName(\"Employee Salary\").getOrCreate()"
   ]
  },
  {
   "cell_type": "code",
   "execution_count": 9,
   "id": "2c682705",
   "metadata": {},
   "outputs": [
    {
     "name": "stdout",
     "output_type": "stream",
     "text": [
      "+-----+------+\n",
      "|Name |Salary|\n",
      "+-----+------+\n",
      "|  ABC| 10000|\n",
      "|  DEF| 20000|\n",
      "+-----+------+\n",
      "\n"
     ]
    }
   ],
   "source": [
    "df_input = spark.read.options(header ='True', InferSchema ='True').csv(\"salary.csv\")\n",
    "#df_input.show()"
   ]
  },
  {
   "cell_type": "code",
   "execution_count": 8,
   "id": "d254a02e",
   "metadata": {},
   "outputs": [],
   "source": [
    "df_input.createOrReplaceTempView(\"EMP\")\n",
    "df_salary=spark.sql(\"select a.* ,avg(salary)  OVER (ORDER BY salary DESC rows between unbounded preceding and unbounded following) as avg_salary \" +\" FROM EMP a\")"
   ]
  },
  {
   "cell_type": "code",
   "execution_count": 161,
   "id": "f4ebb5a4",
   "metadata": {},
   "outputs": [
    {
     "name": "stdout",
     "output_type": "stream",
     "text": [
      "+-----+\n",
      "|Name |\n",
      "+-----+\n",
      "|  DEF|\n",
      "+-----+\n",
      "\n"
     ]
    }
   ],
   "source": [
    "df_salary.filter('salary > avg_salary').selectExpr('`Name `').show()"
   ]
  },
  {
   "cell_type": "code",
   "execution_count": null,
   "id": "78e5f2e5",
   "metadata": {},
   "outputs": [],
   "source": []
  }
 ],
 "metadata": {
  "kernelspec": {
   "display_name": "Python 3 (ipykernel)",
   "language": "python",
   "name": "python3"
  },
  "language_info": {
   "codemirror_mode": {
    "name": "ipython",
    "version": 3
   },
   "file_extension": ".py",
   "mimetype": "text/x-python",
   "name": "python",
   "nbconvert_exporter": "python",
   "pygments_lexer": "ipython3",
   "version": "3.9.7"
  }
 },
 "nbformat": 4,
 "nbformat_minor": 5
}
