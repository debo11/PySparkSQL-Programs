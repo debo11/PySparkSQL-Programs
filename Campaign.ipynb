{
 "cells": [
  {
   "cell_type": "code",
   "execution_count": 1,
   "id": "d92de7c4",
   "metadata": {},
   "outputs": [],
   "source": [
    "from pyspark.sql import SparkSession\n",
    "from pyspark.sql.functions import col,lit"
   ]
  },
  {
   "cell_type": "code",
   "execution_count": 2,
   "id": "d625131d",
   "metadata": {},
   "outputs": [],
   "source": [
    "spark = SparkSession.builder.master('local').appName('Campaign').getOrCreate()"
   ]
  },
  {
   "cell_type": "code",
   "execution_count": 3,
   "id": "f2d7e530",
   "metadata": {},
   "outputs": [
    {
     "data": {
      "text/plain": [
       "387567"
      ]
     },
     "execution_count": 3,
     "metadata": {},
     "output_type": "execute_result"
    }
   ],
   "source": [
    "df_input = spark.read.options(header='True', InferSchema='True',  quote = \"\\\"\", escape = \"\\\"\").csv('events.csv')\n",
    "df_input.count()"
   ]
  },
  {
   "cell_type": "code",
   "execution_count": 47,
   "id": "aeef8b9d",
   "metadata": {},
   "outputs": [
    {
     "name": "stdout",
     "output_type": "stream",
     "text": [
      "+----------------+--------------------+--------------------+-----+\n",
      "|            city|            campaign|    customer_user_id|count|\n",
      "+----------------+--------------------+--------------------+-----+\n",
      "|           Abbur|App Installs_iOS_BLR|d44a70bc-967f-4d3...|    4|\n",
      "|        Adilabad|App Installs_Andr...|659a7a18-14a6-46f...|    4|\n",
      "|        Adilabad|ET-004-TOF-LAL-Pu...|d1483dbf-efcb-4e9...|    4|\n",
      "|        Adilabad|TOI_BLRTIMES_DR25...|1de1a83e-a305-471...|    4|\n",
      "|      Adraspalli|ET-005-TOF-Broad-...|37029dee-b8e1-495...|    4|\n",
      "|            Agra|                  NA|8462e155-04e7-457...|    4|\n",
      "|            Agra|                None|583ce738-356e-461...|    4|\n",
      "|Airforce Academy|ET-001-App-Purcha...|168ce030-497a-44c...|    4|\n",
      "|Airforce Academy|                  NA|ae54a5d1-a95b-4f8...|    4|\n",
      "|Airforce Academy|                  NA|02138e31-30fa-49a...|    4|\n",
      "+----------------+--------------------+--------------------+-----+\n",
      "only showing top 10 rows\n",
      "\n"
     ]
    }
   ],
   "source": [
    "##filtered records where customer having all 4 events\n",
    "df_input.createOrReplaceTempView(\"event\")\n",
    "df_event_customer_count = spark.sql(\"select city ,campaign,customer_user_id,count(distinct event_name) as count from  event where event_name ='app_launch' OR event_name ='add_to_cart' OR event_name ='create_order' OR event_name ='payment_success' group by city,campaign,customer_user_id  having count = 4 order by city,campaign  \")\n",
    "df_event_customer_count.show(10)"
   ]
  },
  {
   "cell_type": "code",
   "execution_count": 44,
   "id": "1a1af506",
   "metadata": {},
   "outputs": [
    {
     "name": "stdout",
     "output_type": "stream",
     "text": [
      "+---------+--------------------+-----+\n",
      "|     city|            campaign|count|\n",
      "+---------+--------------------+-----+\n",
      "|Bangalore|App Purchase_Andr...|  387|\n",
      "|Hyderabad|ET-001-App-Purcha...|  184|\n",
      "|Bangalore|App Installs_Andr...|  113|\n",
      "|Bangalore|Website Download ...|  100|\n",
      "|Bangalore|App Installs_iOS_BLR|   89|\n",
      "|Hyderabad|ET-004-TOF-LAL-Pu...|   64|\n",
      "|Hyderabad|App Installs_Andr...|   60|\n",
      "|Bangalore|TOI_BangaloreTime...|   45|\n",
      "|Bangalore|ET-005-ATC-Androi...|   42|\n",
      "|Hyderabad|App Installs_iOS_HYD|   37|\n",
      "+---------+--------------------+-----+\n",
      "only showing top 10 rows\n",
      "\n"
     ]
    }
   ],
   "source": [
    "##total customer per campaign\n",
    "df_event_customer_count.createOrReplaceTempView(\"event2\")\n",
    "df = spark.sql(\"select city,campaign ,count(distinct customer_user_id) as count from event2 where campaign !='NA' and campaign!='None' group by city,campaign order by count desc\")\n",
    "df.show(10)"
   ]
  },
  {
   "cell_type": "code",
   "execution_count": null,
   "id": "3008bf1d",
   "metadata": {},
   "outputs": [],
   "source": []
  }
 ],
 "metadata": {
  "kernelspec": {
   "display_name": "Python 3 (ipykernel)",
   "language": "python",
   "name": "python3"
  },
  "language_info": {
   "codemirror_mode": {
    "name": "ipython",
    "version": 3
   },
   "file_extension": ".py",
   "mimetype": "text/x-python",
   "name": "python",
   "nbconvert_exporter": "python",
   "pygments_lexer": "ipython3",
   "version": "3.9.7"
  }
 },
 "nbformat": 4,
 "nbformat_minor": 5
}
