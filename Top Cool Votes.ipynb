{
 "cells": [
  {
   "cell_type": "code",
   "execution_count": 2,
   "id": "2f0423f3",
   "metadata": {},
   "outputs": [],
   "source": [
    "import pandas as pd\n",
    "from pyspark.sql.functions import *\n",
    "from pyspark.sql.window import Window\n",
    "from pyspark.sql.functions import col, row_number\n",
    "from pyspark.sql import SparkSession\n",
    "spark = SparkSession.builder.appName(\"Top Cool Votes\").getOrCreate()"
   ]
  },
  {
   "cell_type": "code",
   "execution_count": 3,
   "id": "67b886bc",
   "metadata": {},
   "outputs": [],
   "source": [
    "df_order_input = spark.read.options(header='true', InferSchema='true').csv('yelp_reviews.csv')\n",
    "#df_order_input.show()"
   ]
  },
  {
   "cell_type": "code",
   "execution_count": 4,
   "id": "49047cb4",
   "metadata": {},
   "outputs": [
    {
     "data": {
      "text/plain": [
       "[('business_name', 'string'),\n",
       " ('review_id', 'string'),\n",
       " ('user_id', 'string'),\n",
       " ('stars', 'int'),\n",
       " ('review_date', 'string'),\n",
       " ('review_text', 'string'),\n",
       " ('funny', 'int'),\n",
       " ('useful', 'int'),\n",
       " ('cool', 'int')]"
      ]
     },
     "execution_count": 4,
     "metadata": {},
     "output_type": "execute_result"
    }
   ],
   "source": [
    "df_order_input.agg({\"cool\": \"max\"})\n",
    "df_order_input.dtypes"
   ]
  },
  {
   "cell_type": "code",
   "execution_count": 5,
   "id": "473139a5",
   "metadata": {},
   "outputs": [
    {
     "name": "stdout",
     "output_type": "stream",
     "text": [
      "+----------------+--------------------+\n",
      "|   business_name|         review_text|\n",
      "+----------------+--------------------+\n",
      "|Tammie Coe Cakes|Overrated. The tr...|\n",
      "+----------------+--------------------+\n",
      "\n"
     ]
    }
   ],
   "source": [
    "df_order_input.createOrReplaceTempView(\"EMP\")\n",
    "spark.sql(\"select business_name, review_text from \"+ \" (select business_name, review_text,cool, row_number() OVER (ORDER BY cool DESC) as rn \" +\" FROM EMP) tmp where rn = 1\").show()"
   ]
  },
  {
   "cell_type": "code",
   "execution_count": null,
   "id": "58d255f9",
   "metadata": {},
   "outputs": [],
   "source": []
  }
 ],
 "metadata": {
  "kernelspec": {
   "display_name": "Python 3 (ipykernel)",
   "language": "python",
   "name": "python3"
  },
  "language_info": {
   "codemirror_mode": {
    "name": "ipython",
    "version": 3
   },
   "file_extension": ".py",
   "mimetype": "text/x-python",
   "name": "python",
   "nbconvert_exporter": "python",
   "pygments_lexer": "ipython3",
   "version": "3.9.7"
  }
 },
 "nbformat": 4,
 "nbformat_minor": 5
}
