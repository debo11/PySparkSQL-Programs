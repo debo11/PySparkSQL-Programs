{
 "cells": [
  {
   "cell_type": "code",
   "execution_count": 97,
   "id": "5ec253dd",
   "metadata": {},
   "outputs": [],
   "source": [
    "from pyspark.sql import SparkSession\n",
    "from pyspark.sql.functions import col"
   ]
  },
  {
   "cell_type": "code",
   "execution_count": 98,
   "id": "e0e1a972",
   "metadata": {},
   "outputs": [],
   "source": [
    "spark = SparkSession.builder.appName('SMS Confirmations From Users').getOrCreate()"
   ]
  },
  {
   "cell_type": "code",
   "execution_count": 99,
   "id": "1b805d0d",
   "metadata": {},
   "outputs": [],
   "source": [
    "df_fb_sms_sends_input = spark.read.options(header='True', InferSchema='True').csv('fb_sms_sends.csv')\n",
    "df_fb_confirmers_input = spark.read.options(header='True', InferSchema='True').csv('fb_confirmers.csv')\n",
    "#df_fb_sms_sends_input.show()\n",
    "#df_fb_confirmers_input.show()"
   ]
  },
  {
   "cell_type": "code",
   "execution_count": 100,
   "id": "95930821",
   "metadata": {},
   "outputs": [],
   "source": [
    "##filtering out confirmation and friend_req records and  record for date August 4, 2020\n",
    "df_fr_con = df_fb_sms_sends_input.filter((col(\"type\") != \"confirmation\") & (col(\"type\") != \"friend_request\") & (col(\"ds\") == \"2020-08-04\") )\n",
    "#df_fr_con.show()"
   ]
  },
  {
   "cell_type": "code",
   "execution_count": 101,
   "id": "d1e49958",
   "metadata": {},
   "outputs": [],
   "source": [
    "##joining with confirmer table to list out all valid records\n",
    "df_fr_con = df_fr_con.withColumnRenamed(\"phone_number\",\"phn_no\")\n",
    "cond = [df_fb_confirmers_input.date == df_fr_con.ds, df_fb_confirmers_input.phone_number == df_fr_con.phn_no]\n",
    "df_valid_records = df_fb_confirmers_input.join(df_fr_con , cond , 'inner').selectExpr('date','phone_number','type')\n",
    "#df_valid_records.show()"
   ]
  },
  {
   "cell_type": "code",
   "execution_count": 102,
   "id": "42bdc882",
   "metadata": {},
   "outputs": [
    {
     "name": "stdout",
     "output_type": "stream",
     "text": [
      "20.0\n"
     ]
    }
   ],
   "source": [
    "##calculating percentage of confirmation\n",
    "cofirmation_percentage = (df_valid_records.count() / df_fr_con.count() * 100)\n",
    "print(cofirmation_percentage)"
   ]
  },
  {
   "cell_type": "code",
   "execution_count": null,
   "id": "1692a12a",
   "metadata": {},
   "outputs": [],
   "source": []
  }
 ],
 "metadata": {
  "kernelspec": {
   "display_name": "Python 3 (ipykernel)",
   "language": "python",
   "name": "python3"
  },
  "language_info": {
   "codemirror_mode": {
    "name": "ipython",
    "version": 3
   },
   "file_extension": ".py",
   "mimetype": "text/x-python",
   "name": "python",
   "nbconvert_exporter": "python",
   "pygments_lexer": "ipython3",
   "version": "3.9.7"
  }
 },
 "nbformat": 4,
 "nbformat_minor": 5
}
