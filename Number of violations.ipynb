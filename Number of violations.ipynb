{
 "cells": [
  {
   "cell_type": "code",
   "execution_count": 27,
   "id": "cc3ce74b",
   "metadata": {},
   "outputs": [],
   "source": [
    "from pyspark.sql import SparkSession\n",
    "from pyspark.sql import functions as F\n",
    "from pyspark.sql.functions import substring,col"
   ]
  },
  {
   "cell_type": "code",
   "execution_count": 28,
   "id": "85b11c3e",
   "metadata": {},
   "outputs": [],
   "source": [
    "spark = SparkSession.builder.master('local').appName('Number of violations').getOrCreate()"
   ]
  },
  {
   "cell_type": "code",
   "execution_count": 35,
   "id": "40885489",
   "metadata": {},
   "outputs": [],
   "source": [
    "df_input = spark.read.options(header='True', InferSchema='True').csv('sf_restaurant_health_violations.csv')\n",
    "#df_input.show(1)"
   ]
  },
  {
   "cell_type": "code",
   "execution_count": 36,
   "id": "d20af1b3",
   "metadata": {},
   "outputs": [],
   "source": [
    "req_col_df = df_input.select(\"inspection_date\",\"business_name\",\"violation_id\")\n",
    "req_col_df = req_col_df.filter(req_col_df.business_name == 'Roxanne Cafe')"
   ]
  },
  {
   "cell_type": "code",
   "execution_count": 37,
   "id": "206e5332",
   "metadata": {},
   "outputs": [],
   "source": [
    "date_df = req_col_df.withColumn('year', substring('inspection_date', 7,10))"
   ]
  },
  {
   "cell_type": "code",
   "execution_count": 38,
   "id": "8f9c5ae1",
   "metadata": {},
   "outputs": [
    {
     "name": "stdout",
     "output_type": "stream",
     "text": [
      "+----+-------------+\n",
      "|year|n_inspections|\n",
      "+----+-------------+\n",
      "|2015|            5|\n",
      "|2016|            2|\n",
      "|2018|            3|\n",
      "+----+-------------+\n",
      "\n"
     ]
    }
   ],
   "source": [
    "df_output = date_df.groupBy('year').count().select(col(\"year\"),col(\"count\").alias(\"n_inspections\")).orderBy('year').show()"
   ]
  },
  {
   "cell_type": "code",
   "execution_count": null,
   "id": "0b3b778f",
   "metadata": {},
   "outputs": [],
   "source": []
  }
 ],
 "metadata": {
  "kernelspec": {
   "display_name": "Python 3 (ipykernel)",
   "language": "python",
   "name": "python3"
  },
  "language_info": {
   "codemirror_mode": {
    "name": "ipython",
    "version": 3
   },
   "file_extension": ".py",
   "mimetype": "text/x-python",
   "name": "python",
   "nbconvert_exporter": "python",
   "pygments_lexer": "ipython3",
   "version": "3.9.7"
  }
 },
 "nbformat": 4,
 "nbformat_minor": 5
}
