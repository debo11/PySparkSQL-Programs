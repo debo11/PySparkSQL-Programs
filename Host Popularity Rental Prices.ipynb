{
 "cells": [
  {
   "cell_type": "code",
   "execution_count": 126,
   "id": "a382023e",
   "metadata": {},
   "outputs": [],
   "source": [
    "from pyspark.sql import SparkSession\n",
    "from pyspark.sql import functions as F\n",
    "from pyspark.sql.window import Window\n",
    "from pyspark.sql.functions import when,col,concat,lit"
   ]
  },
  {
   "cell_type": "code",
   "execution_count": 127,
   "id": "c5d8d5dc",
   "metadata": {},
   "outputs": [],
   "source": [
    "spark = SparkSession.builder.appName('Host Popularity Rental Prices').getOrCreate()"
   ]
  },
  {
   "cell_type": "code",
   "execution_count": 132,
   "id": "832918f7",
   "metadata": {},
   "outputs": [
    {
     "name": "stdout",
     "output_type": "stream",
     "text": [
      "+--------+------+-------------+---------------+--------------------+------------+---------+--------+-------------------+------------+-------+----------------------+------------------+----------+------------------+-----------------+--------------------+-------+--------+----+\n",
      "|      id| price|property_type|      room_type|           amenities|accommodates|bathrooms|bed_type|cancellation_policy|cleaning_fee|   city|host_identity_verified|host_response_rate|host_since|     neighbourhood|number_of_reviews|review_scores_rating|zipcode|bedrooms|beds|\n",
      "+--------+------+-------------+---------------+--------------------+------------+---------+--------+-------------------+------------+-------+----------------------+------------------+----------+------------------+-----------------+--------------------+-------+--------+----+\n",
      "| 8284881|621.46|        House|Entire home/apt|{TV,\"Cable TV\",In...|           8|        3|Real Bed|             strict|        true|     LA|                     f|              100%|01-11-2016| Pacific Palisades|                1|                null|  90272|       4|   6|\n",
      "| 8284882|621.46|        House|Entire home/apt|{TV,\"Cable TV\",In...|           8|        3|Real Bed|             strict|        true|     LA|                     f|              100%|01-11-2016| Pacific Palisades|                1|                null|  90272|       4|   6|\n",
      "| 9479348| 598.9|    Apartment|Entire home/apt|{\"Wireless Intern...|           7|        2|Real Bed|             strict|       false|    NYC|                     f|              100%|03-07-2017|    Hell's Kitchen|                1|                  60|  10036|       3|   4|\n",
      "| 8596057|420.47|        House|   Private room|{\"Wireless Intern...|           1|        2|Real Bed|           flexible|       false|     LA|                     f|              100%|20-04-2016|              null|                0|                null|  91748|       1|   1|\n",
      "|11525500|478.75|    Apartment|Entire home/apt|{\"Wireless Intern...|           2|        1|Real Bed|           flexible|        true|    NYC|                     f|              100%|07-10-2017|      Williamsburg|                2|                 100|  11206|       1|   1|\n",
      "|  533884|662.01|    Apartment|Entire home/apt|{TV,Internet,\"Wir...|           6|        1|Real Bed|           flexible|       false|     SF|                     f|              null|20-01-2016|        Cow Hollow|                0|                null|  94123|       3|   3|\n",
      "| 1404510|534.71|    Townhouse|Entire home/apt|{TV,\"Wireless Int...|           6|        2|Real Bed|           moderate|        true|     LA|                     t|              100%|02-09-2015|  West Los Angeles|               10|                  95|  90025|       3|   3|\n",
      "| 4691130|444.27|        House|   Private room|{TV,\"Wireless Int...|           2|        1|Real Bed|           flexible|        true|     LA|                     t|                0%|28-10-2013|              null|                0|                null|  91324|       1|   1|\n",
      "|16449480|468.21|    Apartment|   Private room|{TV,\"Cable TV\",In...|           2|        1|Real Bed|           moderate|        true|    NYC|                     f|              100%|26-03-2012|       East Harlem|                4|                  90|  10029|       1|   1|\n",
      "|12513361|555.68|    Apartment|Entire home/apt|{TV,\"Wireless Int...|           2|        1|Real Bed|           flexible|       false|    NYC|                     t|               89%|18-11-2015|       East Harlem|                3|                  87|  10029|       0|   1|\n",
      "|15149374|444.27|     Bungalow|   Private room|{\"Wireless Intern...|           3|        1|Real Bed|             strict|        true|     LA|                     t|               97%|17-08-2012|            Venice|                3|                 100|  90291|       0|   1|\n",
      "|11972209|548.06|    Apartment|Entire home/apt|{TV,\"Cable TV\",In...|           7|        1|Real Bed|             strict|        true|    NYC|                     t|              100%|29-01-2014|       East Harlem|              140|                  94|  10029|       3|   3|\n",
      "| 6689195|433.07|    Apartment|Entire home/apt|{TV,Internet,\"Wir...|           4|        1|Real Bed|             strict|       false|     LA|                     t|              null|30-05-2013|           Burbank|                1|                null|  91504|       2|   2|\n",
      "|17009057|552.15|        House|Entire home/apt|{TV,\"Cable TV\",In...|           4|        2|Real Bed|           moderate|        true|     SF|                     t|               80%|23-02-2014|    Bernal Heights|               25|                  98|  94110|       2|   2|\n",
      "|18333003|570.04|    Apartment|   Private room|{TV,\"Wireless Int...|           4|        2|Real Bed|           flexible|       false|Chicago|                     f|               80%|30-06-2015|              Loop|                0|                null|  60606|       2|   2|\n",
      "|16274069|482.83|    Apartment|Entire home/apt|{TV,Internet,\"Wir...|           4|        1|Real Bed|           moderate|        true|    NYC|                     f|              100%|11-02-2014|Bedford-Stuyvesant|               13|                  92|  11216|       2|   3|\n",
      "|13121821|501.06|    Apartment|   Private room|{TV,\"Cable TV\",In...|           1|        1|Real Bed|           flexible|       false|    NYC|                     f|              null|20-09-2014|        Park Slope|                0|                null|  11215|       1|   1|\n",
      "|15705947|478.75|    Apartment|Entire home/apt|{\"Wireless Intern...|           4|        1|Real Bed|           moderate|        true|    NYC|                     f|               80%|09-07-2015|   Upper East Side|                7|                  90|  10065|       1|   2|\n",
      "|11456592|529.83|         Loft|   Private room|{\"Wireless Intern...|           2|        1|Real Bed|           moderate|       false|    NYC|                     f|              100%|23-02-2011|      Williamsburg|                0|                null|  11211|       0|   2|\n",
      "|11456593|529.83|         Loft|   Private room|{\"Wireless Intern...|           2|        1|Real Bed|           moderate|       false|    NYC|                     f|              100%|23-02-2011|      Williamsburg|                0|                null|  11211|       0|   2|\n",
      "+--------+------+-------------+---------------+--------------------+------------+---------+--------+-------------------+------------+-------+----------------------+------------------+----------+------------------+-----------------+--------------------+-------+--------+----+\n",
      "only showing top 20 rows\n",
      "\n"
     ]
    }
   ],
   "source": [
    "df_input = spark.read.options(header='True' , InferSchema='True', quote= '\"',escape= '\"').csv('airbnb_host_searches.csv')\n",
    "df_input.show()"
   ]
  },
  {
   "cell_type": "code",
   "execution_count": 129,
   "id": "cf443132",
   "metadata": {},
   "outputs": [],
   "source": [
    "df_pop_rating = df_input.withColumn(\"host_pop_rating\", when(df_input.number_of_reviews == 0,\"New\").when(df_input.number_of_reviews.between(0,5),\"New\").when(df_input.number_of_reviews.between(0,5),\"Rising\").when(df_input.number_of_reviews.between(6,15),\"Trending Up\").when(df_input.number_of_reviews.between(16,40),\"Popular\").when(df_input.number_of_reviews > 40 ,\"Hot\").otherwise(\"\"))\n",
    "df_pop_rating = df_pop_rating.withColumn(\"host_id\", concat(col(\"price\"), lit(\"-\"), col(\"room_type\"), lit(\"-\"), col(\"host_since\"), col(\"zipcode\"), col(\"number_of_reviews\"))).select('host_id','id','host_pop_rating','price')"
   ]
  },
  {
   "cell_type": "code",
   "execution_count": 130,
   "id": "e122c8e5",
   "metadata": {},
   "outputs": [],
   "source": [
    "df_stats_avg = df_pop_rating.groupBy('host_pop_rating').avg('price').select(col(\"host_pop_rating\").alias(\"host_pop_rating_avg\"),col(\"avg(price)\").alias(\"avg_price\"))\n",
    "df_stats_max = df_pop_rating.groupBy('host_pop_rating').max('price').select(col(\"host_pop_rating\").alias(\"host_pop_rating_max\"),col(\"max(price)\").alias(\"max_price\"))\n",
    "df_stats_min = df_pop_rating.groupBy('host_pop_rating').min('price').select(col(\"host_pop_rating\").alias(\"host_pop_rating_min\"),col(\"min(price)\").alias(\"min_price\"))"
   ]
  },
  {
   "cell_type": "code",
   "execution_count": 131,
   "id": "828bac56",
   "metadata": {},
   "outputs": [
    {
     "name": "stdout",
     "output_type": "stream",
     "text": [
      "+---------------+---------+------------------+---------+\n",
      "|host_pop_rating|min_price|         avg_price|max_price|\n",
      "+---------------+---------+------------------+---------+\n",
      "|    Trending Up|   361.09| 476.2771794871794|   685.65|\n",
      "|        Popular|   270.81|           472.815|   667.83|\n",
      "|            Hot|   340.12| 467.4673913043479|   633.51|\n",
      "|            New|   313.55|511.34202531645565|   741.76|\n",
      "+---------------+---------+------------------+---------+\n",
      "\n"
     ]
    }
   ],
   "source": [
    "df_join1 = df_stats_avg.join(df_stats_max, df_stats_avg.host_pop_rating_avg == df_stats_max.host_pop_rating_max ,'inner')\n",
    "df_output = df_join1.join(df_stats_min, df_join1.host_pop_rating_avg == df_stats_min.host_pop_rating_min ,'inner').select(col(\"host_pop_rating_avg\").alias(\"host_pop_rating\"),col(\"min_price\"),col(\"avg_price\"),col(\"max_price\"))\n",
    "df_output.show()"
   ]
  },
  {
   "cell_type": "code",
   "execution_count": null,
   "id": "d09486fe",
   "metadata": {},
   "outputs": [],
   "source": []
  }
 ],
 "metadata": {
  "kernelspec": {
   "display_name": "Python 3 (ipykernel)",
   "language": "python",
   "name": "python3"
  },
  "language_info": {
   "codemirror_mode": {
    "name": "ipython",
    "version": 3
   },
   "file_extension": ".py",
   "mimetype": "text/x-python",
   "name": "python",
   "nbconvert_exporter": "python",
   "pygments_lexer": "ipython3",
   "version": "3.9.7"
  }
 },
 "nbformat": 4,
 "nbformat_minor": 5
}
