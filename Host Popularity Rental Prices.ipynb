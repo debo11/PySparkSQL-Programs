{
 "cells": [
  {
   "cell_type": "code",
   "execution_count": 126,
   "id": "9f9edad0",
   "metadata": {},
   "outputs": [],
   "source": [
    "from pyspark.sql import SparkSession\n",
    "from pyspark.sql import functions as F\n",
    "from pyspark.sql.window import Window\n",
    "from pyspark.sql.functions import when,col,concat,lit"
   ]
  },
  {
   "cell_type": "code",
   "execution_count": 127,
   "id": "728ba148",
   "metadata": {},
   "outputs": [],
   "source": [
    "spark = SparkSession.builder.appName('Host Popularity Rental Prices').getOrCreate()"
   ]
  },
  {
   "cell_type": "code",
   "execution_count": 128,
   "id": "b03637d2",
   "metadata": {},
   "outputs": [],
   "source": [
    "df_input = spark.read.options(header='True' , InferSchema='True', quote= '\"',escape= '\"').csv('airbnb_host_searches.csv')\n",
    "#df_input.show()"
   ]
  },
  {
   "cell_type": "code",
   "execution_count": 129,
   "id": "0ba8ce35",
   "metadata": {},
   "outputs": [],
   "source": [
    "df_pop_rating = df_input.withColumn(\"host_pop_rating\", when(df_input.number_of_reviews == 0,\"New\").when(df_input.number_of_reviews.between(0,5),\"New\").when(df_input.number_of_reviews.between(0,5),\"Rising\").when(df_input.number_of_reviews.between(6,15),\"Trending Up\").when(df_input.number_of_reviews.between(16,40),\"Popular\").when(df_input.number_of_reviews > 40 ,\"Hot\").otherwise(\"\"))\n",
    "df_pop_rating = df_pop_rating.withColumn(\"host_id\", concat(col(\"price\"), lit(\"-\"), col(\"room_type\"), lit(\"-\"), col(\"host_since\"), col(\"zipcode\"), col(\"number_of_reviews\"))).select('host_id','id','host_pop_rating','price')"
   ]
  },
  {
   "cell_type": "code",
   "execution_count": 130,
   "id": "c03fb369",
   "metadata": {},
   "outputs": [],
   "source": [
    "df_stats_avg = df_pop_rating.groupBy('host_pop_rating').avg('price').select(col(\"host_pop_rating\").alias(\"host_pop_rating_avg\"),col(\"avg(price)\").alias(\"avg_price\"))\n",
    "df_stats_max = df_pop_rating.groupBy('host_pop_rating').max('price').select(col(\"host_pop_rating\").alias(\"host_pop_rating_max\"),col(\"max(price)\").alias(\"max_price\"))\n",
    "df_stats_min = df_pop_rating.groupBy('host_pop_rating').min('price').select(col(\"host_pop_rating\").alias(\"host_pop_rating_min\"),col(\"min(price)\").alias(\"min_price\"))"
   ]
  },
  {
   "cell_type": "code",
   "execution_count": 131,
   "id": "6e76c0b6",
   "metadata": {},
   "outputs": [
    {
     "name": "stdout",
     "output_type": "stream",
     "text": [
      "+---------------+---------+------------------+---------+\n",
      "|host_pop_rating|min_price|         avg_price|max_price|\n",
      "+---------------+---------+------------------+---------+\n",
      "|    Trending Up|   361.09| 476.2771794871794|   685.65|\n",
      "|        Popular|   270.81|           472.815|   667.83|\n",
      "|            Hot|   340.12| 467.4673913043479|   633.51|\n",
      "|            New|   313.55|511.34202531645565|   741.76|\n",
      "+---------------+---------+------------------+---------+\n",
      "\n"
     ]
    }
   ],
   "source": [
    "df_join1 = df_stats_avg.join(df_stats_max, df_stats_avg.host_pop_rating_avg == df_stats_max.host_pop_rating_max ,'inner')\n",
    "df_output = df_join1.join(df_stats_min, df_join1.host_pop_rating_avg == df_stats_min.host_pop_rating_min ,'inner').select(col(\"host_pop_rating_avg\").alias(\"host_pop_rating\"),col(\"min_price\"),col(\"avg_price\"),col(\"max_price\"))\n",
    "df_output.show()"
   ]
  },
  {
   "cell_type": "code",
   "execution_count": null,
   "id": "969a2558",
   "metadata": {},
   "outputs": [],
   "source": []
  }
 ],
 "metadata": {
  "kernelspec": {
   "display_name": "Python 3 (ipykernel)",
   "language": "python",
   "name": "python3"
  },
  "language_info": {
   "codemirror_mode": {
    "name": "ipython",
    "version": 3
   },
   "file_extension": ".py",
   "mimetype": "text/x-python",
   "name": "python",
   "nbconvert_exporter": "python",
   "pygments_lexer": "ipython3",
   "version": "3.9.7"
  }
 },
 "nbformat": 4,
 "nbformat_minor": 5
}
