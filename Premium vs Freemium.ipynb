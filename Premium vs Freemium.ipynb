{
 "cells": [
  {
   "cell_type": "code",
   "execution_count": 123,
   "id": "8d78ff1b",
   "metadata": {},
   "outputs": [],
   "source": [
    "from pyspark.sql import SparkSession\n",
    "from pyspark.sql import functions as F\n",
    "from pyspark.sql.functions import col, max as max_\n",
    "from pyspark.sql.window import Window\n",
    "from pyspark.sql.functions import lag\n",
    "from pyspark.sql.functions import countDistinct"
   ]
  },
  {
   "cell_type": "code",
   "execution_count": 4,
   "id": "04712b80",
   "metadata": {},
   "outputs": [],
   "source": [
    "spark = SparkSession.builder.appName(\"Premium vs Freemium\").getOrCreate()"
   ]
  },
  {
   "cell_type": "code",
   "execution_count": 5,
   "id": "ec9761cd",
   "metadata": {},
   "outputs": [],
   "source": [
    "df_acc_input = spark.read.options(header ='True', InferSchema='True').csv('ms_acc_dimension.csv')\n",
    "df_user_input = spark.read.options(header ='True', InferSchema='True').csv('ms_user_dimension.csv')\n",
    "df_download_input = spark.read.options(header ='True', InferSchema='True').csv('ms_download_facts.csv')"
   ]
  },
  {
   "cell_type": "code",
   "execution_count": 6,
   "id": "cd7cbaa8",
   "metadata": {},
   "outputs": [
    {
     "name": "stdout",
     "output_type": "stream",
     "text": [
      "+------+---------------+\n",
      "|acc_id|paying_customer|\n",
      "+------+---------------+\n",
      "|   700|             no|\n",
      "|   701|             no|\n",
      "|   702|             no|\n",
      "|   703|             no|\n",
      "|   704|             no|\n",
      "|   705|             no|\n",
      "|   706|             no|\n",
      "|   707|             no|\n",
      "|   708|             no|\n",
      "|   709|             no|\n",
      "|   710|             no|\n",
      "|   711|             no|\n",
      "|   712|             no|\n",
      "|   713|             no|\n",
      "|   714|             no|\n",
      "|   715|             no|\n",
      "|   716|             no|\n",
      "|   717|             no|\n",
      "|   718|             no|\n",
      "|   719|             no|\n",
      "+------+---------------+\n",
      "only showing top 20 rows\n",
      "\n",
      "+-------+------+\n",
      "|user_id|acc_id|\n",
      "+-------+------+\n",
      "|      1|   716|\n",
      "|      2|   749|\n",
      "|      3|   713|\n",
      "|      4|   744|\n",
      "|      5|   726|\n",
      "|      6|   706|\n",
      "|      7|   750|\n",
      "|      8|   732|\n",
      "|      9|   706|\n",
      "|     10|   729|\n",
      "|     11|   748|\n",
      "|     12|   731|\n",
      "|     13|   739|\n",
      "|     14|   740|\n",
      "|     15|   705|\n",
      "|     16|   706|\n",
      "|     17|   701|\n",
      "|     18|   746|\n",
      "|     19|   726|\n",
      "|     20|   748|\n",
      "+-------+------+\n",
      "only showing top 20 rows\n",
      "\n",
      "+----------+-------+---------+\n",
      "|      date|user_id|downloads|\n",
      "+----------+-------+---------+\n",
      "|24-08-2020|      1|        6|\n",
      "|22-08-2020|      2|        6|\n",
      "|18-08-2020|      3|        2|\n",
      "|24-08-2020|      4|        4|\n",
      "|19-08-2020|      5|        7|\n",
      "|21-08-2020|      6|        3|\n",
      "|24-08-2020|      7|        1|\n",
      "|24-08-2020|      8|        8|\n",
      "|17-08-2020|      9|        5|\n",
      "|16-08-2020|     10|        4|\n",
      "|22-08-2020|     11|        8|\n",
      "|19-08-2020|     12|        6|\n",
      "|15-08-2020|     13|        3|\n",
      "|21-08-2020|     14|        0|\n",
      "|24-08-2020|     15|        0|\n",
      "|15-08-2020|     16|        5|\n",
      "|18-08-2020|     17|        5|\n",
      "|23-08-2020|     18|        8|\n",
      "|15-08-2020|     19|        6|\n",
      "|25-08-2020|     20|        4|\n",
      "+----------+-------+---------+\n",
      "only showing top 20 rows\n",
      "\n"
     ]
    }
   ],
   "source": [
    "df_acc_input.show()\n",
    "df_user_input.show()\n",
    "df_download_input.show()"
   ]
  },
  {
   "cell_type": "code",
   "execution_count": 27,
   "id": "17aa78f8",
   "metadata": {},
   "outputs": [],
   "source": [
    "df_acc_user = df_acc_input.join(df_user_input, df_acc_input.acc_id == df_user_input.acc_id, 'inner').orderBy('user_id').select(df_acc_input['acc_id'],'user_id','paying_customer')"
   ]
  },
  {
   "cell_type": "code",
   "execution_count": 44,
   "id": "2df3d75e",
   "metadata": {},
   "outputs": [],
   "source": [
    "df_user_download =  df_acc_user.join(df_download_input, df_acc_user.user_id == df_download_input.user_id, 'inner').orderBy(df_acc_user['user_id']).select(df_acc_user['user_id'],df_acc_input['acc_id'],'paying_customer','date','downloads')"
   ]
  },
  {
   "cell_type": "code",
   "execution_count": 45,
   "id": "b18ddfbc",
   "metadata": {},
   "outputs": [
    {
     "name": "stdout",
     "output_type": "stream",
     "text": [
      "+-------+------+---------------+----------+---------+\n",
      "|user_id|acc_id|paying_customer|      date|downloads|\n",
      "+-------+------+---------------+----------+---------+\n",
      "|      1|   716|             no|24-08-2020|        6|\n",
      "|      2|   749|            yes|22-08-2020|        6|\n",
      "|      3|   713|             no|18-08-2020|        2|\n",
      "|      4|   744|            yes|24-08-2020|        4|\n",
      "|      5|   726|            yes|19-08-2020|        7|\n",
      "|      6|   706|             no|21-08-2020|        3|\n",
      "|      7|   750|            yes|24-08-2020|        1|\n",
      "|      8|   732|            yes|24-08-2020|        8|\n",
      "|      9|   706|             no|17-08-2020|        5|\n",
      "|     10|   729|            yes|16-08-2020|        4|\n",
      "|     11|   748|            yes|22-08-2020|        8|\n",
      "|     12|   731|            yes|19-08-2020|        6|\n",
      "|     13|   739|            yes|15-08-2020|        3|\n",
      "|     14|   740|            yes|21-08-2020|        0|\n",
      "|     15|   705|             no|24-08-2020|        0|\n",
      "|     16|   706|             no|15-08-2020|        5|\n",
      "|     17|   701|             no|18-08-2020|        5|\n",
      "|     18|   746|            yes|23-08-2020|        8|\n",
      "|     19|   726|            yes|15-08-2020|        6|\n",
      "|     20|   748|            yes|25-08-2020|        4|\n",
      "+-------+------+---------------+----------+---------+\n",
      "only showing top 20 rows\n",
      "\n"
     ]
    }
   ],
   "source": [
    "df_user_download.show()"
   ]
  },
  {
   "cell_type": "code",
   "execution_count": 117,
   "id": "37de9e91",
   "metadata": {},
   "outputs": [],
   "source": [
    "df_sum = df_user_download.groupBy('date','paying_customer').sum('downloads').orderBy('date').select('date','paying_customer',col(\"sum(downloads)\").alias(\"total\"))"
   ]
  },
  {
   "cell_type": "code",
   "execution_count": 130,
   "id": "e5076c22",
   "metadata": {},
   "outputs": [],
   "source": [
    "df_payable = df_sum.filter(df_sum.paying_customer == 'yes').select('date','paying_customer',col(\"total\").alias(\"paying\"))\n",
    "df_non_payable = df_sum.filter(df_sum.paying_customer == 'no').select('date','paying_customer',col(\"total\").alias(\"non_paying\"))"
   ]
  },
  {
   "cell_type": "code",
   "execution_count": 135,
   "id": "114c698d",
   "metadata": {},
   "outputs": [
    {
     "name": "stdout",
     "output_type": "stream",
     "text": [
      "+----------+---------------+------+\n",
      "|      date|paying_customer|paying|\n",
      "+----------+---------------+------+\n",
      "|15-08-2020|            yes|    19|\n",
      "|16-08-2020|            yes|    14|\n",
      "|17-08-2020|            yes|     9|\n",
      "|18-08-2020|            yes|     7|\n",
      "|19-08-2020|            yes|    13|\n",
      "|20-08-2020|            yes|    28|\n",
      "|21-08-2020|            yes|    17|\n",
      "|22-08-2020|            yes|    48|\n",
      "|23-08-2020|            yes|    23|\n",
      "|24-08-2020|            yes|    39|\n",
      "|25-08-2020|            yes|    30|\n",
      "+----------+---------------+------+\n",
      "\n",
      "+----------+---------------+----------+\n",
      "|      date|paying_customer|non_paying|\n",
      "+----------+---------------+----------+\n",
      "|15-08-2020|             no|        11|\n",
      "|16-08-2020|             no|        15|\n",
      "|17-08-2020|             no|        45|\n",
      "|18-08-2020|             no|        10|\n",
      "|19-08-2020|             no|        13|\n",
      "|20-08-2020|             no|        13|\n",
      "|21-08-2020|             no|        32|\n",
      "|22-08-2020|             no|        15|\n",
      "|23-08-2020|             no|        12|\n",
      "|24-08-2020|             no|         6|\n",
      "|25-08-2020|             no|        23|\n",
      "+----------+---------------+----------+\n",
      "\n"
     ]
    }
   ],
   "source": [
    "df_payable.show()\n",
    "df_non_payable.show()"
   ]
  },
  {
   "cell_type": "code",
   "execution_count": 134,
   "id": "afb2949b",
   "metadata": {},
   "outputs": [
    {
     "name": "stdout",
     "output_type": "stream",
     "text": [
      "+----------+----------+------+\n",
      "|      date|non_paying|paying|\n",
      "+----------+----------+------+\n",
      "|15-08-2020|        11|    19|\n",
      "|16-08-2020|        15|    14|\n",
      "|17-08-2020|        45|     9|\n",
      "|18-08-2020|        10|     7|\n",
      "|19-08-2020|        13|    13|\n",
      "|20-08-2020|        13|    28|\n",
      "|21-08-2020|        32|    17|\n",
      "|22-08-2020|        15|    48|\n",
      "|23-08-2020|        12|    23|\n",
      "|24-08-2020|         6|    39|\n",
      "|25-08-2020|        23|    30|\n",
      "+----------+----------+------+\n",
      "\n"
     ]
    }
   ],
   "source": [
    "df_output = df_payable.join(df_non_payable, df_payable.date == df_non_payable.date, 'inner').orderBy(df_payable['date']).select(df_payable['date'],df_non_payable['non_paying'],df_payable['paying']).show()"
   ]
  },
  {
   "cell_type": "code",
   "execution_count": null,
   "id": "4d7caebf",
   "metadata": {},
   "outputs": [],
   "source": []
  }
 ],
 "metadata": {
  "kernelspec": {
   "display_name": "Python 3 (ipykernel)",
   "language": "python",
   "name": "python3"
  },
  "language_info": {
   "codemirror_mode": {
    "name": "ipython",
    "version": 3
   },
   "file_extension": ".py",
   "mimetype": "text/x-python",
   "name": "python",
   "nbconvert_exporter": "python",
   "pygments_lexer": "ipython3",
   "version": "3.9.7"
  }
 },
 "nbformat": 4,
 "nbformat_minor": 5
}
