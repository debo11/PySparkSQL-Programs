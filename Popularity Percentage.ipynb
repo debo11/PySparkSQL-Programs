{
 "cells": [
  {
   "cell_type": "code",
   "execution_count": 125,
   "id": "62f52d9e",
   "metadata": {},
   "outputs": [],
   "source": [
    "from pyspark.sql import SparkSession\n",
    "from pyspark.sql import functions as F\n",
    "from pyspark.sql.window import Window\n",
    "from pyspark.sql.functions import lag\n",
    "from pyspark.sql.functions import col, when, lit"
   ]
  },
  {
   "cell_type": "code",
   "execution_count": 126,
   "id": "b4ebc2eb",
   "metadata": {},
   "outputs": [],
   "source": [
    "spark = SparkSession.builder.appName('Popularity Percentage').getOrCreate()"
   ]
  },
  {
   "cell_type": "code",
   "execution_count": 127,
   "id": "0ce2d2b1",
   "metadata": {},
   "outputs": [
    {
     "name": "stdout",
     "output_type": "stream",
     "text": [
      "+-----+-----+\n",
      "|user1|user2|\n",
      "+-----+-----+\n",
      "|    2|    1|\n",
      "|    1|    3|\n",
      "|    4|    1|\n",
      "|    1|    5|\n",
      "|    1|    6|\n",
      "|    2|    6|\n",
      "|    7|    2|\n",
      "|    8|    3|\n",
      "|    3|    9|\n",
      "+-----+-----+\n",
      "\n"
     ]
    }
   ],
   "source": [
    "df_input = spark.read.options(header= 'True', InferSchema='True').csv('facebook_friends.csv')\n",
    "df_input.show()"
   ]
  },
  {
   "cell_type": "code",
   "execution_count": 138,
   "id": "e4f08c3c",
   "metadata": {},
   "outputs": [],
   "source": [
    "df_input.createOrReplaceTempView(\"dept\")\n",
    "df_mutliple_user1_records = spark.sql(\"select user1 from dept where user1 in(select user2 from dept)\");\n",
    "df_mutliple_user2_records = spark.sql(\"select user2 from dept where user2 in(select user1 from dept)\");\n",
    "df_single_user1_records = spark.sql(\"select user1 from dept where user1 not in(select user2 from dept)\");\n",
    "df_single_user2_records = spark.sql(\"select user2 from dept where user2 not in(select user1 from dept)\");"
   ]
  },
  {
   "cell_type": "code",
   "execution_count": 139,
   "id": "608a428a",
   "metadata": {},
   "outputs": [],
   "source": [
    "df_merged = df_mutliple_user1_records.union(df_mutliple_user2_records).union(df_single_user1_records).union(df_single_user2_records)"
   ]
  },
  {
   "cell_type": "code",
   "execution_count": 140,
   "id": "d142308a",
   "metadata": {},
   "outputs": [],
   "source": [
    "df_merged = df_merged.groupBy('user1').count().orderBy('user1').select(col(\"user1\"), col(\"count\").alias(\"popularity_count\"))"
   ]
  },
  {
   "cell_type": "code",
   "execution_count": 143,
   "id": "5b3f0b93",
   "metadata": {},
   "outputs": [],
   "source": [
    "## calculating percentage\n",
    "df_output = df_merged.withColumn(\"popularity_percent\", (df_merged['popularity_count']/df_merged.count())*100)"
   ]
  },
  {
   "cell_type": "code",
   "execution_count": 144,
   "id": "0a634810",
   "metadata": {},
   "outputs": [
    {
     "name": "stdout",
     "output_type": "stream",
     "text": [
      "+-----+------------------+\n",
      "|user1|popularity_percent|\n",
      "+-----+------------------+\n",
      "|    1| 55.55555555555556|\n",
      "|    2| 33.33333333333333|\n",
      "|    3| 33.33333333333333|\n",
      "|    4| 11.11111111111111|\n",
      "|    5| 11.11111111111111|\n",
      "|    6| 22.22222222222222|\n",
      "|    7| 11.11111111111111|\n",
      "|    8| 11.11111111111111|\n",
      "|    9| 11.11111111111111|\n",
      "+-----+------------------+\n",
      "\n"
     ]
    }
   ],
   "source": [
    "df_output.selectExpr('user1','popularity_percent').show()"
   ]
  },
  {
   "cell_type": "code",
   "execution_count": null,
   "id": "996d3f2d",
   "metadata": {},
   "outputs": [],
   "source": []
  }
 ],
 "metadata": {
  "kernelspec": {
   "display_name": "Python 3 (ipykernel)",
   "language": "python",
   "name": "python3"
  },
  "language_info": {
   "codemirror_mode": {
    "name": "ipython",
    "version": 3
   },
   "file_extension": ".py",
   "mimetype": "text/x-python",
   "name": "python",
   "nbconvert_exporter": "python",
   "pygments_lexer": "ipython3",
   "version": "3.9.7"
  }
 },
 "nbformat": 4,
 "nbformat_minor": 5
}
