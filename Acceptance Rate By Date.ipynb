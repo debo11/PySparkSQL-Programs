{
 "cells": [
  {
   "cell_type": "code",
   "execution_count": 187,
   "id": "888140e2",
   "metadata": {},
   "outputs": [],
   "source": [
    "from pyspark.sql import SparkSession\n",
    "from pyspark.sql import functions as F\n",
    "from pyspark.sql.functions import col, when, count\n",
    "from pyspark.sql.window import Window\n",
    "from pyspark.sql.functions import lag"
   ]
  },
  {
   "cell_type": "code",
   "execution_count": 188,
   "id": "dbe4a6d7",
   "metadata": {},
   "outputs": [],
   "source": [
    "spark = SparkSession.builder.appName(\"Acceptance Rate By Date\").getOrCreate()"
   ]
  },
  {
   "cell_type": "code",
   "execution_count": 189,
   "id": "a3783f0a",
   "metadata": {},
   "outputs": [],
   "source": [
    "df_input = spark.read.options(header='True', InferSchema='True').csv('fb_friend_requests.csv')\n",
    "#df_input.show()"
   ]
  },
  {
   "cell_type": "code",
   "execution_count": 190,
   "id": "6c2006cc",
   "metadata": {},
   "outputs": [],
   "source": [
    "df_accepted = df_input.filter(df_input['action'] == 'accepted')\n",
    "df_sent = df_input.filter(df_input['action'] == 'sent')"
   ]
  },
  {
   "cell_type": "code",
   "execution_count": 191,
   "id": "84128432",
   "metadata": {},
   "outputs": [
    {
     "name": "stdout",
     "output_type": "stream",
     "text": [
      "+--------------+----------------+----------+--------+\n",
      "|user_id_sender|user_id_receiver|      date|  action|\n",
      "+--------------+----------------+----------+--------+\n",
      "|     ad4943sdz|      948ksx123d|06-01-2020|accepted|\n",
      "|   fffkfld9499|     993lsldidif|10-01-2020|accepted|\n",
      "|    fg503kdsdd|       ofp049dkd|10-01-2020|accepted|\n",
      "|    r4gfgf2344|      234ddr4545|11-01-2020|accepted|\n",
      "|    dfdfxf9483|      9djjjd9283|15-01-2020|accepted|\n",
      "+--------------+----------------+----------+--------+\n",
      "\n",
      "+--------------+----------------+----------+------+\n",
      "|user_id_sender|user_id_receiver|      date|action|\n",
      "+--------------+----------------+----------+------+\n",
      "|     ad4943sdz|      948ksx123d|04-01-2020|  sent|\n",
      "|    dfdfxf9483|      9djjjd9283|04-01-2020|  sent|\n",
      "|    fg503kdsdd|       ofp049dkd|04-01-2020|  sent|\n",
      "|    hh643dfert|      847jfkf203|04-01-2020|  sent|\n",
      "| ffdfff4234234|     lpjzjdi4949|06-01-2020|  sent|\n",
      "|   fffkfld9499|     993lsldidif|06-01-2020|  sent|\n",
      "|    r4gfgf2344|      234ddr4545|06-01-2020|  sent|\n",
      "+--------------+----------------+----------+------+\n",
      "\n"
     ]
    }
   ],
   "source": [
    "df_accepted.show()\n",
    "df_sent.show()"
   ]
  },
  {
   "cell_type": "code",
   "execution_count": 235,
   "id": "7342f51c",
   "metadata": {},
   "outputs": [],
   "source": [
    "##creating concat column with user_id_sender and receiver\n",
    "df_accepted_concat = df_accepted.withColumn('accepted_concat',F.concat(F.col('user_id_sender'),F.lit('_'), F.col('user_id_receiver')))\n",
    "df_sent_concat = df_sent.withColumn('sent_concat',F.concat(F.col('user_id_sender'),F.lit('_'), F.col('user_id_receiver')))"
   ]
  },
  {
   "cell_type": "code",
   "execution_count": 236,
   "id": "29514795",
   "metadata": {},
   "outputs": [],
   "source": [
    "##joining above df\n",
    "df_joined = df_sent_concat.join(df_accepted_concat, df_sent_concat.sent_concat == df_accepted_concat.accepted_concat , 'left').select(df_sent_concat['user_id_sender'],df_sent_concat['user_id_receiver'],df_sent_concat['date'],df_accepted_concat['accepted_concat'])"
   ]
  },
  {
   "cell_type": "code",
   "execution_count": 237,
   "id": "3981b0fb",
   "metadata": {},
   "outputs": [],
   "source": [
    "## total count of records after group by date\n",
    "df_total = df_joined.groupBy('date').count().select(col(\"date\").alias(\"date1\"),col(\"count\").alias(\"total_count\"))"
   ]
  },
  {
   "cell_type": "code",
   "execution_count": 238,
   "id": "4288b7a3",
   "metadata": {},
   "outputs": [],
   "source": [
    "## total accepted count of records after group by date\n",
    "df_joined = df_joined.filter(\"accepted_concat IS NOT NULL\")\n",
    "df_joined = df_joined.groupBy('date').count().select(col(\"date\").alias(\"date2\"),col(\"count\").alias(\"accepted_count\"))"
   ]
  },
  {
   "cell_type": "code",
   "execution_count": 239,
   "id": "f16e5609",
   "metadata": {},
   "outputs": [],
   "source": [
    "##joining above df\n",
    "df_output = df_joined.join(df_total, df_total.date1 == df_joined.date2 , 'inner').selectExpr('date2','accepted_count','total_count')"
   ]
  },
  {
   "cell_type": "code",
   "execution_count": 240,
   "id": "6d8b5e53",
   "metadata": {},
   "outputs": [],
   "source": [
    "## calculating percentage\n",
    "df_output = df_output.withColumn(\"percentage_acceptance\", df_output['accepted_count']/df_output['total_count'])"
   ]
  },
  {
   "cell_type": "code",
   "execution_count": 241,
   "id": "0d5c18e4",
   "metadata": {},
   "outputs": [
    {
     "name": "stdout",
     "output_type": "stream",
     "text": [
      "+----------+---------------------+\n",
      "|     date2|percentage_acceptance|\n",
      "+----------+---------------------+\n",
      "|04-01-2020|                 0.75|\n",
      "|06-01-2020|   0.6666666666666666|\n",
      "+----------+---------------------+\n",
      "\n"
     ]
    }
   ],
   "source": [
    "df_output.select('date2','percentage_acceptance').orderBy('date2').show()"
   ]
  },
  {
   "cell_type": "code",
   "execution_count": null,
   "id": "cfdb4d4b",
   "metadata": {},
   "outputs": [],
   "source": []
  }
 ],
 "metadata": {
  "kernelspec": {
   "display_name": "Python 3 (ipykernel)",
   "language": "python",
   "name": "python3"
  },
  "language_info": {
   "codemirror_mode": {
    "name": "ipython",
    "version": 3
   },
   "file_extension": ".py",
   "mimetype": "text/x-python",
   "name": "python",
   "nbconvert_exporter": "python",
   "pygments_lexer": "ipython3",
   "version": "3.9.7"
  }
 },
 "nbformat": 4,
 "nbformat_minor": 5
}
