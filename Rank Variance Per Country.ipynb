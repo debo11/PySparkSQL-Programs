{
 "cells": [
  {
   "cell_type": "code",
   "execution_count": 2,
   "id": "c85087de",
   "metadata": {},
   "outputs": [],
   "source": [
    "from pyspark.sql import SparkSession\n",
    "from pyspark.sql.functions import col,substring,desc"
   ]
  },
  {
   "cell_type": "code",
   "execution_count": 3,
   "id": "0628d552",
   "metadata": {},
   "outputs": [],
   "source": [
    "spark = SparkSession.builder.master('local').appName('Rank Variance Per Country').getOrCreate()"
   ]
  },
  {
   "cell_type": "code",
   "execution_count": 4,
   "id": "62c36ccf",
   "metadata": {},
   "outputs": [
    {
     "name": "stdout",
     "output_type": "stream",
     "text": [
      "+-------+----------+------------------+\n",
      "|user_id|created_at|number_of_comments|\n",
      "+-------+----------+------------------+\n",
      "|     18|29-12-2019|                 1|\n",
      "|     25|21-12-2019|                 1|\n",
      "|     78|04-01-2020|                 1|\n",
      "|     37|01-02-2020|                 1|\n",
      "|     41|23-12-2019|                 1|\n",
      "|     99|02-02-2020|                 1|\n",
      "|     21|28-12-2019|                 1|\n",
      "|     18|31-01-2020|                 1|\n",
      "|     37|11-02-2020|                 1|\n",
      "|     58|26-01-2020|                 1|\n",
      "+-------+----------+------------------+\n",
      "only showing top 10 rows\n",
      "\n",
      "+-------+----------------+------+----------+\n",
      "|user_id|            name|status|   country|\n",
      "+-------+----------------+------+----------+\n",
      "|     33|     Amanda Leon|  open| Australia|\n",
      "|     27| Jessica Farrell|  open|Luxembourg|\n",
      "|     18|   Wanda Ramirez|  open|       USA|\n",
      "|     50|   Samuel Miller|closed|    Brazil|\n",
      "|     16|      Jacob York|  open| Australia|\n",
      "|     25|Natasha Bradford|closed|       USA|\n",
      "|     34|     Donald Ross|closed|     China|\n",
      "|     52|Michelle Jimenez|  open|       USA|\n",
      "|     11|    Theresa John|  open|     China|\n",
      "|     37|  Michael Turner|closed| Australia|\n",
      "+-------+----------------+------+----------+\n",
      "only showing top 10 rows\n",
      "\n"
     ]
    }
   ],
   "source": [
    "df_fb_comments = spark.read.options(header='True', InferSchema='True').csv('fb_comments_count.csv')\n",
    "df_fb_active_users = spark.read.options(header='True', InferSchema='True').csv('fb_active_users.csv')\n",
    "df_fb_comments.show(10)\n",
    "df_fb_active_users.show(10)"
   ]
  },
  {
   "cell_type": "code",
   "execution_count": 46,
   "id": "e9e4890f",
   "metadata": {},
   "outputs": [],
   "source": [
    "##joining both tables to get country name together\n",
    "df_fb_comments = df_fb_comments.withColumnRenamed(\"user_id\",\"userID\")\n",
    "df_merged = df_fb_active_users.join(df_fb_comments, df_fb_active_users.user_id == df_fb_comments.userID, 'left')\n",
    "df_merged = df_merged.withColumn(\"time_period\", substring('created_at', 1,7))\n",
    "#df_merged.show(5)"
   ]
  },
  {
   "cell_type": "code",
   "execution_count": 47,
   "id": "d4a3666e",
   "metadata": {},
   "outputs": [],
   "source": [
    "##calculating comment sum per user based on created_at and country\n",
    "df_comment_sum = df_merged.groupBy('country','time_period').sum('number_of_comments').sort(desc('sum(number_of_comments)'))\n",
    "#df_comment_sum.show()"
   ]
  },
  {
   "cell_type": "code",
   "execution_count": 87,
   "id": "d8b6ff73",
   "metadata": {},
   "outputs": [],
   "source": [
    "##filtering out 2019-12 and 2020-01\n",
    "df_tp_filtered_dec_2019 = df_comment_sum.filter((col(\"time_period\") == '2019-12'))\n",
    "df_tp_filtered_jan_2020 = df_comment_sum.filter((col(\"time_period\") == '2020-01'))\n",
    "df_tp_filtered_dec_2019 = df_tp_filtered_dec_2019.withColumnRenamed(\"sum(number_of_comments)\",\"total_comments_december\")\n",
    "df_tp_filtered_jan_2020 = df_tp_filtered_jan_2020.withColumnRenamed(\"sum(number_of_comments)\",\"total_comments_jan\")\n",
    "#df_tp_filtered_dec_2019.show()\n",
    "#df_tp_filtered_jan_2020.show()"
   ]
  },
  {
   "cell_type": "code",
   "execution_count": 94,
   "id": "8b544a49",
   "metadata": {},
   "outputs": [],
   "source": [
    "#join above both df \n",
    "df_tp_filtered_dec_2019 = df_tp_filtered_dec_2019.withColumnRenamed(\"time_period\",\"tp\")\n",
    "df_tp_filtered_dec_2019 = df_tp_filtered_dec_2019.withColumnRenamed(\"country\",\"country_name\")\n",
    "df_comparsion = df_tp_filtered_jan_2020.join(df_tp_filtered_dec_2019, df_tp_filtered_dec_2019.country_name == df_tp_filtered_jan_2020.country, 'left').selectExpr('Country','tp','total_comments_december','time_period','total_comments_jan').sort(desc('total_comments_jan'))\n",
    "#df_comparsion.show()"
   ]
  },
  {
   "cell_type": "code",
   "execution_count": 95,
   "id": "280ecf77",
   "metadata": {},
   "outputs": [
    {
     "name": "stdout",
     "output_type": "stream",
     "text": [
      "+----------+\n",
      "|   country|\n",
      "+----------+\n",
      "|      Mali|\n",
      "|   Denmark|\n",
      "|Luxembourg|\n",
      "| Australia|\n",
      "+----------+\n",
      "\n"
     ]
    }
   ],
   "source": [
    "##filtering out countries with raised comments\n",
    "df_comparsion = df_comparsion.na.fill(value=0,subset=[\"total_comments_december\"])\n",
    "df_comparsion = df_comparsion.na.fill(value=0,subset=[\"total_comments_jan\"])\n",
    "df_comparsion = df_comparsion.withColumn(\"status\", col('total_comments_jan') - col('total_comments_december'))\n",
    "df_comparsion = df_comparsion.filter(df_comparsion.status > 0).sort(desc('status')) .show()"
   ]
  },
  {
   "cell_type": "code",
   "execution_count": null,
   "id": "40b40ce9",
   "metadata": {},
   "outputs": [],
   "source": []
  }
 ],
 "metadata": {
  "kernelspec": {
   "display_name": "Python 3 (ipykernel)",
   "language": "python",
   "name": "python3"
  },
  "language_info": {
   "codemirror_mode": {
    "name": "ipython",
    "version": 3
   },
   "file_extension": ".py",
   "mimetype": "text/x-python",
   "name": "python",
   "nbconvert_exporter": "python",
   "pygments_lexer": "ipython3",
   "version": "3.9.7"
  }
 },
 "nbformat": 4,
 "nbformat_minor": 5
}
