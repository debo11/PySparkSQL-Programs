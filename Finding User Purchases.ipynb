{
 "cells": [
  {
   "cell_type": "code",
   "execution_count": 251,
   "id": "9e182013",
   "metadata": {},
   "outputs": [],
   "source": [
    "from pyspark.sql import SparkSession\n",
    "from pyspark.sql.window import Window\n",
    "from pyspark.sql.functions import lag\n",
    "from pyspark.sql.functions import *\n",
    "spark = SparkSession.builder.appName(\"Finding User Purchases\").getOrCreate()"
   ]
  },
  {
   "cell_type": "code",
   "execution_count": 255,
   "id": "9da07ad9",
   "metadata": {},
   "outputs": [],
   "source": [
    "df_input = spark.read.options(header='true', InferSchema='true', delimiter=',').csv('amazon_transactions.csv')"
   ]
  },
  {
   "cell_type": "code",
   "execution_count": 256,
   "id": "635bab70",
   "metadata": {},
   "outputs": [],
   "source": [
    "df_input.createOrReplaceTempView(\"transaction\")\n",
    "df_max_sal= spark.sql(\"select user_id,created_at, _date,rn from \"+ \" (select user_id,created_at,substring(created_at, 1,10) as _date, row_number() OVER (PARTITION BY user_id ORDER BY created_at ASC) as rn \" +\" FROM transaction) tmp \")\n",
    "#df_max_sal.show()"
   ]
  },
  {
   "cell_type": "code",
   "execution_count": 257,
   "id": "5ad56488",
   "metadata": {},
   "outputs": [],
   "source": [
    "df_date_format= df_max_sal.select(col(\"user_id\"),col(\"rn\"),to_date(col(\"_date\"),\"dd-MM-yyyy\").alias(\"date_format_updated\"))"
   ]
  },
  {
   "cell_type": "code",
   "execution_count": 258,
   "id": "c1388ace",
   "metadata": {},
   "outputs": [],
   "source": [
    "df_td= df_date_format.withColumn(\"time_intertweet\", datediff(df_date_format.date_format_updated, lag(df_date_format.date_format_updated, 1).over(Window.partitionBy(\"user_id\").orderBy(\"date_format_updated\"))))"
   ]
  },
  {
   "cell_type": "code",
   "execution_count": 259,
   "id": "7b6603b9",
   "metadata": {},
   "outputs": [
    {
     "name": "stdout",
     "output_type": "stream",
     "text": [
      "+-------+---+-------------------+---------------+\n",
      "|user_id| rn|date_format_updated|time_intertweet|\n",
      "+-------+---+-------------------+---------------+\n",
      "|    108|  1|         2020-03-18|           null|\n",
      "|    108|  2|         2020-03-28|             10|\n",
      "|    109|  1|         2020-03-03|           null|\n",
      "|    109|  2|         2020-03-08|              5|\n",
      "|    120|  1|         2020-03-18|           null|\n",
      "+-------+---+-------------------+---------------+\n",
      "\n"
     ]
    }
   ],
   "source": [
    "df_td.show()"
   ]
  },
  {
   "cell_type": "code",
   "execution_count": 263,
   "id": "fc2aac6d",
   "metadata": {},
   "outputs": [],
   "source": [
    "df_output= df_td.withColumn(\"Status\", when(df_td.time_intertweet <= \"7\",\"Active\").when(df_td.time_intertweet.isNull() ,\"\").otherwise(\"In-Active\"))"
   ]
  },
  {
   "cell_type": "code",
   "execution_count": 261,
   "id": "11e62722",
   "metadata": {},
   "outputs": [
    {
     "name": "stdout",
     "output_type": "stream",
     "text": [
      "+-------+\n",
      "|user_id|\n",
      "+-------+\n",
      "|    109|\n",
      "+-------+\n",
      "\n"
     ]
    }
   ],
   "source": [
    "df_output.filter(df_output.Status == \"Active\").selectExpr('user_id').show()"
   ]
  },
  {
   "cell_type": "code",
   "execution_count": null,
   "id": "fe804490",
   "metadata": {},
   "outputs": [],
   "source": []
  }
 ],
 "metadata": {
  "kernelspec": {
   "display_name": "Python 3 (ipykernel)",
   "language": "python",
   "name": "python3"
  },
  "language_info": {
   "codemirror_mode": {
    "name": "ipython",
    "version": 3
   },
   "file_extension": ".py",
   "mimetype": "text/x-python",
   "name": "python",
   "nbconvert_exporter": "python",
   "pygments_lexer": "ipython3",
   "version": "3.9.7"
  }
 },
 "nbformat": 4,
 "nbformat_minor": 5
}
