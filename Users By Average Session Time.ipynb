{
 "cells": [
  {
   "cell_type": "code",
   "execution_count": 275,
   "id": "3c053881",
   "metadata": {},
   "outputs": [],
   "source": [
    "from pyspark.sql import SparkSession\n",
    "from pyspark.sql import functions as F\n",
    "from pyspark.sql.functions import col, max as max_\n",
    "spark = SparkSession.builder.appName(\"Users By Average Session Time\").getOrCreate()"
   ]
  },
  {
   "cell_type": "code",
   "execution_count": 276,
   "id": "baa51b8f",
   "metadata": {},
   "outputs": [],
   "source": [
    "df_input = spark.read.options(header='True', InferSchema='True').csv('facebook_web_log.csv')"
   ]
  },
  {
   "cell_type": "code",
   "execution_count": 277,
   "id": "48eddd6b",
   "metadata": {},
   "outputs": [],
   "source": [
    "##create 2 df having one action as page_load another as page_exist\n",
    "## take the min and max based on user_id and action "
   ]
  },
  {
   "cell_type": "code",
   "execution_count": 278,
   "id": "3998fa8a",
   "metadata": {},
   "outputs": [],
   "source": [
    "df_input.createOrReplaceTempView(\"fb\")\n",
    "df_page_exit= spark.sql(\"select user_id,timestamp,action,rn from \"+ \" (select user_id,timestamp,action, row_number() OVER (PARTITION BY user_id,timestamp ORDER BY timestamp ASC) as rn \" +\" FROM fb) tmp where action in('page_exit')\")\n",
    "df_page_load= spark.sql(\"select user_id,timestamp,action,rn from \"+ \" (select user_id,timestamp,action, row_number() OVER (PARTITION BY user_id,timestamp ORDER BY timestamp ASC) as rn \" +\" FROM fb) tmp where action in('page_load')\")"
   ]
  },
  {
   "cell_type": "code",
   "execution_count": 279,
   "id": "70c496cd",
   "metadata": {},
   "outputs": [
    {
     "name": "stdout",
     "output_type": "stream",
     "text": [
      "+-------+-------------------+---------+---+\n",
      "|user_id|          timestamp|   action| rn|\n",
      "+-------+-------------------+---------+---+\n",
      "|      0|2019-04-25 13:30:15|page_load|  1|\n",
      "|      0|2019-04-25 13:30:18|page_load|  1|\n",
      "|      0|2019-04-28 14:30:10|page_load|  1|\n",
      "|      0|2019-04-28 14:30:15|page_load|  1|\n",
      "|      1|2019-04-25 13:40:00|page_load|  1|\n",
      "|      1|2019-04-26 11:15:00|page_load|  1|\n",
      "|      2|2019-04-25 13:41:21|page_load|  1|\n",
      "|      3|2020-06-30 13:41:15|page_load|  1|\n",
      "|      3|2020-06-30 14:20:12|page_load|  1|\n",
      "+-------+-------------------+---------+---+\n",
      "\n",
      "+-------+-------------------+---------+---+\n",
      "|user_id|          timestamp|   action| rn|\n",
      "+-------+-------------------+---------+---+\n",
      "|      0|2019-04-25 13:31:40|page_exit|  1|\n",
      "|      0|2019-04-28 15:31:40|page_exit|  1|\n",
      "|      1|2019-04-25 13:40:35|page_exit|  1|\n",
      "|      1|2019-04-26 11:15:35|page_exit|  1|\n",
      "|      3|2020-06-30 15:20:11|page_exit|  1|\n",
      "|      3|2020-06-30 16:44:11|page_exit|  1|\n",
      "+-------+-------------------+---------+---+\n",
      "\n"
     ]
    }
   ],
   "source": [
    "df_page_load.show()\n",
    "df_page_exit.show()"
   ]
  },
  {
   "cell_type": "code",
   "execution_count": 280,
   "id": "cefb7b4b",
   "metadata": {},
   "outputs": [],
   "source": [
    "df_page_load.createOrReplaceTempView(\"page_load\")\n",
    "df_load= spark.sql(\"select user_id,substring(timestamp,1,10) as _date,substring(timestamp,12,19) as _time,timestamp,action,rn from \"+ \" (select user_id,timestamp,action, row_number() OVER (PARTITION BY user_id,timestamp ORDER BY timestamp DESC) as rn \" +\" FROM page_load) tmp where rn = 1\")\n",
    "df_page_exit.createOrReplaceTempView(\"page_exit\")\n",
    "df_exit= spark.sql(\"select user_id,substring(timestamp,1,10) as _date,substring(timestamp,12,19) as _time,timestamp,action,rn from \"+ \" (select user_id,timestamp,action, row_number() OVER (PARTITION BY user_id,timestamp ORDER BY timestamp DESC) as rn \" +\" FROM page_exit) tmp where rn = 1\")"
   ]
  },
  {
   "cell_type": "code",
   "execution_count": 281,
   "id": "792e343c",
   "metadata": {},
   "outputs": [
    {
     "name": "stdout",
     "output_type": "stream",
     "text": [
      "+-------+----------+--------+-------------------+---------+---+\n",
      "|user_id|     _date|   _time|          timestamp|   action| rn|\n",
      "+-------+----------+--------+-------------------+---------+---+\n",
      "|      0|2019-04-25|13:30:15|2019-04-25 13:30:15|page_load|  1|\n",
      "|      0|2019-04-25|13:30:18|2019-04-25 13:30:18|page_load|  1|\n",
      "|      0|2019-04-28|14:30:10|2019-04-28 14:30:10|page_load|  1|\n",
      "|      0|2019-04-28|14:30:15|2019-04-28 14:30:15|page_load|  1|\n",
      "|      1|2019-04-25|13:40:00|2019-04-25 13:40:00|page_load|  1|\n",
      "|      1|2019-04-26|11:15:00|2019-04-26 11:15:00|page_load|  1|\n",
      "|      2|2019-04-25|13:41:21|2019-04-25 13:41:21|page_load|  1|\n",
      "|      3|2020-06-30|13:41:15|2020-06-30 13:41:15|page_load|  1|\n",
      "|      3|2020-06-30|14:20:12|2020-06-30 14:20:12|page_load|  1|\n",
      "+-------+----------+--------+-------------------+---------+---+\n",
      "\n",
      "+-------+----------+--------+-------------------+---------+---+\n",
      "|user_id|     _date|   _time|          timestamp|   action| rn|\n",
      "+-------+----------+--------+-------------------+---------+---+\n",
      "|      0|2019-04-25|13:31:40|2019-04-25 13:31:40|page_exit|  1|\n",
      "|      0|2019-04-28|15:31:40|2019-04-28 15:31:40|page_exit|  1|\n",
      "|      1|2019-04-25|13:40:35|2019-04-25 13:40:35|page_exit|  1|\n",
      "|      1|2019-04-26|11:15:35|2019-04-26 11:15:35|page_exit|  1|\n",
      "|      3|2020-06-30|15:20:11|2020-06-30 15:20:11|page_exit|  1|\n",
      "|      3|2020-06-30|16:44:11|2020-06-30 16:44:11|page_exit|  1|\n",
      "+-------+----------+--------+-------------------+---------+---+\n",
      "\n"
     ]
    }
   ],
   "source": [
    "df_load.show()\n",
    "df_exit.show()"
   ]
  },
  {
   "cell_type": "code",
   "execution_count": 282,
   "id": "6ca65cd3",
   "metadata": {},
   "outputs": [],
   "source": [
    "df_load.createOrReplaceTempView(\"page_load_max\")\n",
    "df_page_load_max= spark.sql(\"select user_id as load_user_id,timestamp as page_load_timestamp,action,substring(timestamp,1,10) as page_load_date,substring(timestamp,12,19) as page_load_time,rn from \"+ \" (select user_id,timestamp,action, row_number() OVER (PARTITION BY user_id,_date ORDER BY _time DESC) as rn \" +\" FROM page_load_max) tmp where rn=1\")\n",
    "df_exit.createOrReplaceTempView(\"page_exit_max\")\n",
    "df_page_exit_max= spark.sql(\"select user_id as exit_user_id,timestamp as page_exit_timestamp,action,substring(timestamp,1,10) as page_exit_date,substring(timestamp,12,19) as page_exit_time,rn from \"+ \" (select user_id,timestamp,action, row_number() OVER (PARTITION BY user_id,_date ORDER BY _time ASC) as rn \" +\" FROM page_exit_max) tmp where rn=1\")"
   ]
  },
  {
   "cell_type": "code",
   "execution_count": 283,
   "id": "f359d99c",
   "metadata": {},
   "outputs": [
    {
     "name": "stdout",
     "output_type": "stream",
     "text": [
      "+------------+-------------------+---------+--------------+--------------+---+\n",
      "|load_user_id|page_load_timestamp|   action|page_load_date|page_load_time| rn|\n",
      "+------------+-------------------+---------+--------------+--------------+---+\n",
      "|           0|2019-04-25 13:30:18|page_load|    2019-04-25|      13:30:18|  1|\n",
      "|           0|2019-04-28 14:30:15|page_load|    2019-04-28|      14:30:15|  1|\n",
      "|           1|2019-04-25 13:40:00|page_load|    2019-04-25|      13:40:00|  1|\n",
      "|           1|2019-04-26 11:15:00|page_load|    2019-04-26|      11:15:00|  1|\n",
      "|           2|2019-04-25 13:41:21|page_load|    2019-04-25|      13:41:21|  1|\n",
      "|           3|2020-06-30 14:20:12|page_load|    2020-06-30|      14:20:12|  1|\n",
      "+------------+-------------------+---------+--------------+--------------+---+\n",
      "\n",
      "+------------+-------------------+---------+--------------+--------------+---+\n",
      "|exit_user_id|page_exit_timestamp|   action|page_exit_date|page_exit_time| rn|\n",
      "+------------+-------------------+---------+--------------+--------------+---+\n",
      "|           0|2019-04-25 13:31:40|page_exit|    2019-04-25|      13:31:40|  1|\n",
      "|           0|2019-04-28 15:31:40|page_exit|    2019-04-28|      15:31:40|  1|\n",
      "|           1|2019-04-25 13:40:35|page_exit|    2019-04-25|      13:40:35|  1|\n",
      "|           1|2019-04-26 11:15:35|page_exit|    2019-04-26|      11:15:35|  1|\n",
      "|           3|2020-06-30 15:20:11|page_exit|    2020-06-30|      15:20:11|  1|\n",
      "+------------+-------------------+---------+--------------+--------------+---+\n",
      "\n"
     ]
    }
   ],
   "source": [
    "df_page_load_max.show()\n",
    "df_page_exit_max.show()"
   ]
  },
  {
   "cell_type": "code",
   "execution_count": 284,
   "id": "72202472",
   "metadata": {},
   "outputs": [],
   "source": [
    "df_page_output = df_page_load_max.join(df_page_exit_max, ((df_page_load_max.load_user_id == df_page_exit_max.exit_user_id) & (df_page_load_max.page_load_date == df_page_exit_max.page_exit_date)) ,'inner').selectExpr('load_user_id','page_load_timestamp','page_exit_timestamp','page_load_time','page_exit_time')"
   ]
  },
  {
   "cell_type": "code",
   "execution_count": 285,
   "id": "59e44741",
   "metadata": {},
   "outputs": [],
   "source": [
    "timeFmt = \"yyyy-MM-dd' 'HH:mm:ss\"\n",
    "timeDiff = (F.unix_timestamp('page_exit_timestamp', format=timeFmt)- F.unix_timestamp('page_load_timestamp', format=timeFmt))\n",
    "df_td = df_page_output.withColumn(\"DiffInSeconds\", timeDiff)"
   ]
  },
  {
   "cell_type": "code",
   "execution_count": 286,
   "id": "992ae21e",
   "metadata": {},
   "outputs": [
    {
     "name": "stdout",
     "output_type": "stream",
     "text": [
      "+-------+------+\n",
      "|user_id|   avg|\n",
      "+-------+------+\n",
      "|      1|  35.0|\n",
      "|      3|3599.0|\n",
      "|      0|1883.5|\n",
      "+-------+------+\n",
      "\n"
     ]
    }
   ],
   "source": [
    "df_output = df_td.groupBy('load_user_id').avg('DiffInSeconds').select(col(\"load_user_id\").alias(\"user_id\"),col(\"avg(DiffInSeconds)\").alias(\"avg\")).show()"
   ]
  },
  {
   "cell_type": "code",
   "execution_count": null,
   "id": "6114cb4a",
   "metadata": {},
   "outputs": [],
   "source": []
  }
 ],
 "metadata": {
  "kernelspec": {
   "display_name": "Python 3 (ipykernel)",
   "language": "python",
   "name": "python3"
  },
  "language_info": {
   "codemirror_mode": {
    "name": "ipython",
    "version": 3
   },
   "file_extension": ".py",
   "mimetype": "text/x-python",
   "name": "python",
   "nbconvert_exporter": "python",
   "pygments_lexer": "ipython3",
   "version": "3.9.7"
  }
 },
 "nbformat": 4,
 "nbformat_minor": 5
}
