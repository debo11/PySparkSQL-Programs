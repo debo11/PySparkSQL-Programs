{
 "cells": [
  {
   "cell_type": "code",
   "execution_count": 3,
   "id": "aa315c93",
   "metadata": {},
   "outputs": [],
   "source": [
    "from pyspark.sql import SparkSession\n",
    "from pyspark.sql import functions as F\n",
    "from pyspark.sql.window import Window\n",
    "from pyspark.sql.functions import lag"
   ]
  },
  {
   "cell_type": "code",
   "execution_count": 4,
   "id": "880a7560",
   "metadata": {},
   "outputs": [],
   "source": [
    "spark = SparkSession.builder.appName('Ranking Most Active Guests').getOrCreate()"
   ]
  },
  {
   "cell_type": "code",
   "execution_count": 20,
   "id": "ae3bda65",
   "metadata": {},
   "outputs": [],
   "source": [
    "df_input = spark.read.options(header ='True', InferSchema='True').csv('airbnb_contacts.csv')\n",
    "#df_input.show()"
   ]
  },
  {
   "cell_type": "code",
   "execution_count": 21,
   "id": "63a83147",
   "metadata": {},
   "outputs": [
    {
     "name": "stdout",
     "output_type": "stream",
     "text": [
      "+--------------------+---------------+\n",
      "|            id_guest|sum(n_messages)|\n",
      "+--------------------+---------------+\n",
      "|882f3764-05cc-436...|             20|\n",
      "|62d09c95-c3d2-44e...|             20|\n",
      "|91c2a883-04e3-4bb...|             17|\n",
      "|b8831610-31f2-4c5...|             17|\n",
      "|bdaf2e68-86dd-40d...|             16|\n",
      "|6133fb99-2391-4d4...|             16|\n",
      "|d328a4a0-df5f-485...|             15|\n",
      "|9b145027-2723-4c5...|             15|\n",
      "|94139517-e7e9-4af...|             15|\n",
      "|6c541a87-d864-4de...|             13|\n",
      "|136c10f8-af53-4e5...|             13|\n",
      "|5dacf820-a573-4ce...|             11|\n",
      "|8375dde4-0de9-402...|             11|\n",
      "|bd8f3dd6-fecc-479...|             10|\n",
      "|6a8cf97f-8a77-4b5...|             10|\n",
      "|b2fda15a-89bb-4e6...|             10|\n",
      "|29ef2346-5fda-45d...|              9|\n",
      "|5ed478e0-eae9-453...|              9|\n",
      "|125242de-91b4-43b...|              9|\n",
      "|845e3c1d-6c06-4ef...|              9|\n",
      "+--------------------+---------------+\n",
      "only showing top 20 rows\n",
      "\n"
     ]
    }
   ],
   "source": [
    "df_output = df_input.groupBy('id_guest').sum('n_messages').orderBy('sum(n_messages)' ,ascending=False).show()"
   ]
  },
  {
   "cell_type": "code",
   "execution_count": null,
   "id": "08cd29f7",
   "metadata": {},
   "outputs": [],
   "source": []
  }
 ],
 "metadata": {
  "kernelspec": {
   "display_name": "Python 3 (ipykernel)",
   "language": "python",
   "name": "python3"
  },
  "language_info": {
   "codemirror_mode": {
    "name": "ipython",
    "version": 3
   },
   "file_extension": ".py",
   "mimetype": "text/x-python",
   "name": "python",
   "nbconvert_exporter": "python",
   "pygments_lexer": "ipython3",
   "version": "3.9.7"
  }
 },
 "nbformat": 4,
 "nbformat_minor": 5
}
