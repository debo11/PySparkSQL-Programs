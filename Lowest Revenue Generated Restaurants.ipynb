{
 "cells": [
  {
   "cell_type": "code",
   "execution_count": 3,
   "id": "3eebbb0e",
   "metadata": {},
   "outputs": [],
   "source": [
    "from pyspark.sql import SparkSession\n",
    "from pyspark.sql.functions import col,substring\n",
    "from pyspark.sql import functions as F"
   ]
  },
  {
   "cell_type": "code",
   "execution_count": 4,
   "id": "1429411d",
   "metadata": {},
   "outputs": [],
   "source": [
    "spark = SparkSession.builder.appName('Lowest Revenue Generated Restaurants').getOrCreate()"
   ]
  },
  {
   "cell_type": "code",
   "execution_count": 5,
   "id": "b679dcf2",
   "metadata": {},
   "outputs": [],
   "source": [
    "df_input = spark.read.options(header='True', InferSchema='True').csv('doordash_delivery.csv')\n",
    "#df_input.show(10)"
   ]
  },
  {
   "cell_type": "code",
   "execution_count": 6,
   "id": "f6f496aa",
   "metadata": {},
   "outputs": [],
   "source": [
    "##filtering out May 2020 records\n",
    "df_filtered = df_input.filter(F.col('customer_placed_order_datetime').between('2020-05-01 00:00:00','2020-05-31 23:59:59')).selectExpr('customer_placed_order_datetime','restaurant_id','consumer_id','order_total')\n",
    "#df_filtered.show(10)"
   ]
  },
  {
   "cell_type": "code",
   "execution_count": 7,
   "id": "07b8b3ae",
   "metadata": {},
   "outputs": [],
   "source": [
    "##total_order for each restraunt\n",
    "df_order_res = df_filtered.groupBy('restaurant_id').sum('order_total').orderBy('sum(order_total)').select(col('restaurant_id'),col('sum(order_total)').alias('total_revenue'))\n",
    "#df_order_res.show(10)"
   ]
  },
  {
   "cell_type": "code",
   "execution_count": 8,
   "id": "07f23165",
   "metadata": {},
   "outputs": [
    {
     "name": "stdout",
     "output_type": "stream",
     "text": [
      "+-------------+-------------+\n",
      "|restaurant_id|total_revenue|\n",
      "+-------------+-------------+\n",
      "|           90|        14.16|\n",
      "|           26|        14.65|\n",
      "|          298|        15.27|\n",
      "|           83|        16.33|\n",
      "+-------------+-------------+\n",
      "\n"
     ]
    }
   ],
   "source": [
    "##getting bottom 2% by using ntile function which evenly distributes the cost for repsective buckets\n",
    "df_order_res.createOrReplaceTempView('fb')\n",
    "df_output = spark.sql('select restaurant_id,total_revenue from (select restaurant_id,total_revenue, NTILE(50) over(order by total_revenue) as rnk from fb) where rnk <=2')\n",
    "df_output.show()"
   ]
  },
  {
   "cell_type": "code",
   "execution_count": null,
   "id": "974cb3df",
   "metadata": {},
   "outputs": [],
   "source": []
  }
 ],
 "metadata": {
  "kernelspec": {
   "display_name": "Python 3 (ipykernel)",
   "language": "python",
   "name": "python3"
  },
  "language_info": {
   "codemirror_mode": {
    "name": "ipython",
    "version": 3
   },
   "file_extension": ".py",
   "mimetype": "text/x-python",
   "name": "python",
   "nbconvert_exporter": "python",
   "pygments_lexer": "ipython3",
   "version": "3.9.7"
  }
 },
 "nbformat": 4,
 "nbformat_minor": 5
}
