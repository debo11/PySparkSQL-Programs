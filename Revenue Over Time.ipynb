{
 "cells": [
  {
   "cell_type": "code",
   "execution_count": 2,
   "id": "6864e2a5",
   "metadata": {},
   "outputs": [],
   "source": [
    "from pyspark.sql import SparkSession\n",
    "from pyspark.sql.functions import col,substring,asc"
   ]
  },
  {
   "cell_type": "code",
   "execution_count": 3,
   "id": "4c17142a",
   "metadata": {},
   "outputs": [],
   "source": [
    "spark = SparkSession.builder.master('local').appName('Revenue Over Time').getOrCreate()"
   ]
  },
  {
   "cell_type": "code",
   "execution_count": 4,
   "id": "c077ca05",
   "metadata": {},
   "outputs": [
    {
     "name": "stdout",
     "output_type": "stream",
     "text": [
      "+-------+-------------------+------------+\n",
      "|user_id|         created_at|purchase_amt|\n",
      "+-------+-------------------+------------+\n",
      "|     10|2020-01-01 00:00:00|        3742|\n",
      "|     11|2020-01-04 00:00:00|        1290|\n",
      "|     12|2020-01-07 00:00:00|        4249|\n",
      "|     13|2020-01-10 00:00:00|        4899|\n",
      "|     14|2020-01-13 00:00:00|       -4656|\n",
      "|     15|2020-01-16 00:00:00|        -655|\n",
      "|     16|2020-01-19 00:00:00|        4659|\n",
      "|     17|2020-01-22 00:00:00|        3813|\n",
      "|     18|2020-01-25 00:00:00|       -2623|\n",
      "|     19|2020-01-28 00:00:00|        3640|\n",
      "|     20|2020-01-31 00:00:00|       -1028|\n",
      "|     21|2020-02-03 00:00:00|        2715|\n",
      "|     22|2020-02-06 00:00:00|        1592|\n",
      "|     23|2020-02-09 00:00:00|        1516|\n",
      "|     24|2020-02-12 00:00:00|        2700|\n",
      "|     25|2020-02-15 00:00:00|        1543|\n",
      "|     26|2020-02-18 00:00:00|        4210|\n",
      "|     27|2020-02-21 00:00:00|        -608|\n",
      "|     28|2020-02-24 00:00:00|        2855|\n",
      "|     29|2020-02-27 00:00:00|        3564|\n",
      "+-------+-------------------+------------+\n",
      "only showing top 20 rows\n",
      "\n"
     ]
    }
   ],
   "source": [
    "df_input = spark.read.options(header='True', InferSchema='True').csv('amazon_purchases.csv')\n",
    "#df_input.show()"
   ]
  },
  {
   "cell_type": "code",
   "execution_count": 19,
   "id": "df713ee4",
   "metadata": {},
   "outputs": [],
   "source": [
    "##removing all negative amounts and created column period with YYYY-MM\n",
    "df_purchase = df_input.filter(df_input.purchase_amt > 0)\n",
    "df_purchase = df_purchase.withColumn(\"period\", substring('created_at', 1,7)).sort(asc('period'))\n",
    "#df_purchase.show()"
   ]
  },
  {
   "cell_type": "code",
   "execution_count": 42,
   "id": "765c1765",
   "metadata": {},
   "outputs": [],
   "source": [
    "##finding avg for each period on 3 months roll period\n",
    "df_period_transaction = df_purchase.groupBy('period').sum('purchase_amt')\n",
    "df_period_average = df_period_transaction.groupBy('period').avg('sum(purchase_amt)').sort(asc('period'))\n",
    "df_period_average = df_period_average.withColumnRenamed(\"avg(sum(purchase_amt))\", \"avg_purchase\")\n",
    "#df_period_average.show()"
   ]
  },
  {
   "cell_type": "code",
   "execution_count": 55,
   "id": "48dbe286",
   "metadata": {},
   "outputs": [
    {
     "name": "stdout",
     "output_type": "stream",
     "text": [
      "+-------+--------------+\n",
      "| period|moving_average|\n",
      "+-------+--------------+\n",
      "|2020-01|       26292.0|\n",
      "|2020-02|       46987.0|\n",
      "|2020-03|       76607.0|\n",
      "|2020-04|       72248.0|\n",
      "|2020-05|       76253.0|\n",
      "|2020-06|       74320.0|\n",
      "|2020-07|       77696.0|\n",
      "|2020-08|       76492.0|\n",
      "|2020-09|       73632.0|\n",
      "|2020-10|       63633.0|\n",
      "+-------+--------------+\n",
      "\n"
     ]
    }
   ],
   "source": [
    "##calculating moving average\n",
    "df_period_average.createOrReplaceTempView(\"purchase\")\n",
    "df_revenue_output = spark.sql(\"SELECT period, SUM(avg_purchase) OVER ( ORDER BY period ROWS BETWEEN 2 PRECEDING AND CURRENT ROW) moving_average FROM purchase ORDER BY period\") \n",
    "df_revenue_output.show()"
   ]
  },
  {
   "cell_type": "code",
   "execution_count": null,
   "id": "a5e2158b",
   "metadata": {},
   "outputs": [],
   "source": []
  }
 ],
 "metadata": {
  "kernelspec": {
   "display_name": "Python 3 (ipykernel)",
   "language": "python",
   "name": "python3"
  },
  "language_info": {
   "codemirror_mode": {
    "name": "ipython",
    "version": 3
   },
   "file_extension": ".py",
   "mimetype": "text/x-python",
   "name": "python",
   "nbconvert_exporter": "python",
   "pygments_lexer": "ipython3",
   "version": "3.9.7"
  }
 },
 "nbformat": 4,
 "nbformat_minor": 5
}
