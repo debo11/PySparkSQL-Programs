{
 "cells": [
  {
   "cell_type": "code",
   "execution_count": 41,
   "id": "0e316e6a",
   "metadata": {},
   "outputs": [],
   "source": [
    "from pyspark.sql import SparkSession\n",
    "from pyspark.sql.functions import col,desc"
   ]
  },
  {
   "cell_type": "code",
   "execution_count": 42,
   "id": "14d7bb36",
   "metadata": {},
   "outputs": [],
   "source": [
    "spark = SparkSession.builder.master('local').appName('Viewers Turned Streamers').getOrCreate()"
   ]
  },
  {
   "cell_type": "code",
   "execution_count": 43,
   "id": "1b073759",
   "metadata": {},
   "outputs": [],
   "source": [
    "df_input = spark.read.options(header='True', InferSchema='True').csv('twitch_sessions.csv').orderBy('user_id', 'session_start')\n",
    "#df_input.show()"
   ]
  },
  {
   "cell_type": "code",
   "execution_count": 44,
   "id": "c3bba358",
   "metadata": {},
   "outputs": [],
   "source": [
    "##filtering out users whose first session where viewer\n",
    "df_input.createOrReplaceTempView(\"fb\")\n",
    "df_viewer = spark.sql(\"select user_id,session_start,session_type,rnk from ( select user_id,session_start,session_type, dense_rank() over(partition by user_id order by user_id, session_start) as rnk from fb) a where a.rnk =1 and a.session_type='viewer'\")\n",
    "#df_viewer.show()"
   ]
  },
  {
   "cell_type": "code",
   "execution_count": 45,
   "id": "3fee7db1",
   "metadata": {},
   "outputs": [],
   "source": [
    "##finding out total streaming session from above users whose first activity was not viewer\n",
    "df_input.createOrReplaceTempView(\"fb\")\n",
    "df_streamer = spark.sql(\"select user_id,session_start,session_type,rnk from ( select user_id,session_start,session_type, dense_rank() over(partition by user_id order by user_id, session_start) as rnk from fb) a where a.rnk > 1 and a.session_type!='viewer'\")\n",
    "df_streamer_count = df_streamer.groupBy('user_id').count().select(col('user_id'), col('count').alias('total_stream_count')).sort(desc('total_stream_count'))\n",
    "df_streamer_count = df_streamer_count.withColumnRenamed(\"user_id\",\"user_ids\")\n",
    "#df_streamer_count.show()"
   ]
  },
  {
   "cell_type": "code",
   "execution_count": 46,
   "id": "7a09e6ab",
   "metadata": {},
   "outputs": [
    {
     "name": "stdout",
     "output_type": "stream",
     "text": [
      "+-------+------------------+\n",
      "|user_id|total_stream_count|\n",
      "+-------+------------------+\n",
      "|      1|                 1|\n",
      "|      3|                 1|\n",
      "+-------+------------------+\n",
      "\n"
     ]
    }
   ],
   "source": [
    "##finding out users who turned into streamer from viewer\n",
    "df_output = df_viewer.join(df_streamer_count, df_viewer.user_id == df_streamer_count.user_ids , 'inner').orderBy('user_id').selectExpr('user_id','total_stream_count')\n",
    "df_output.show()"
   ]
  },
  {
   "cell_type": "code",
   "execution_count": null,
   "id": "80d9517f",
   "metadata": {},
   "outputs": [],
   "source": []
  }
 ],
 "metadata": {
  "kernelspec": {
   "display_name": "Python 3 (ipykernel)",
   "language": "python",
   "name": "python3"
  },
  "language_info": {
   "codemirror_mode": {
    "name": "ipython",
    "version": 3
   },
   "file_extension": ".py",
   "mimetype": "text/x-python",
   "name": "python",
   "nbconvert_exporter": "python",
   "pygments_lexer": "ipython3",
   "version": "3.9.7"
  }
 },
 "nbformat": 4,
 "nbformat_minor": 5
}
