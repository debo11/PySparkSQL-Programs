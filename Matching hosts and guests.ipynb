{
 "cells": [
  {
   "cell_type": "code",
   "execution_count": 1,
   "id": "1ee32bdc",
   "metadata": {},
   "outputs": [],
   "source": [
    "from pyspark.sql import SparkSession\n",
    "from pyspark.sql import functions as F"
   ]
  },
  {
   "cell_type": "code",
   "execution_count": 2,
   "id": "247985d2",
   "metadata": {},
   "outputs": [],
   "source": [
    "spark = SparkSession.builder.master('local').appName('Find matching hosts and guests in a way that they are both of the same gender and nationality').getOrCreate()"
   ]
  },
  {
   "cell_type": "code",
   "execution_count": 9,
   "id": "11a7c1cb",
   "metadata": {},
   "outputs": [],
   "source": [
    "df_host = spark.read.options(header='True' ,InferSchema='True').csv('airbnb_hosts.csv')\n",
    "df_guest = spark.read.options(header='True' ,InferSchema='True').csv('airbnb_guests.csv')\n",
    "#df_host.show()\n",
    "#df_guest.show()"
   ]
  },
  {
   "cell_type": "code",
   "execution_count": 1,
   "id": "c7cacf5b",
   "metadata": {},
   "outputs": [
    {
     "ename": "NameError",
     "evalue": "name 'df_host' is not defined",
     "output_type": "error",
     "traceback": [
      "\u001b[1;31m---------------------------------------------------------------------------\u001b[0m",
      "\u001b[1;31mNameError\u001b[0m                                 Traceback (most recent call last)",
      "Input \u001b[1;32mIn [1]\u001b[0m, in \u001b[0;36m<cell line: 1>\u001b[1;34m()\u001b[0m\n\u001b[1;32m----> 1\u001b[0m cond \u001b[38;5;241m=\u001b[39m [\u001b[43mdf_host\u001b[49m\u001b[38;5;241m.\u001b[39mnationality \u001b[38;5;241m==\u001b[39m df_guest\u001b[38;5;241m.\u001b[39mnationality, df_host\u001b[38;5;241m.\u001b[39mgender \u001b[38;5;241m==\u001b[39m df_guest\u001b[38;5;241m.\u001b[39mgender]\n\u001b[0;32m      2\u001b[0m df_output \u001b[38;5;241m=\u001b[39m df_host\u001b[38;5;241m.\u001b[39mjoin(df_guest, cond , \u001b[38;5;124m'\u001b[39m\u001b[38;5;124minner\u001b[39m\u001b[38;5;124m'\u001b[39m)\n\u001b[0;32m      3\u001b[0m df_output \u001b[38;5;241m=\u001b[39m df_output\u001b[38;5;241m.\u001b[39mselect(\u001b[38;5;124m'\u001b[39m\u001b[38;5;124mhost_id\u001b[39m\u001b[38;5;124m'\u001b[39m,\u001b[38;5;124m'\u001b[39m\u001b[38;5;124mguest_id\u001b[39m\u001b[38;5;124m'\u001b[39m)\u001b[38;5;241m.\u001b[39mdistinct()\u001b[38;5;241m.\u001b[39morderBy(\u001b[38;5;124m'\u001b[39m\u001b[38;5;124mhost_id\u001b[39m\u001b[38;5;124m'\u001b[39m)\u001b[38;5;241m.\u001b[39mshow()\n",
      "\u001b[1;31mNameError\u001b[0m: name 'df_host' is not defined"
     ]
    }
   ],
   "source": [
    "cond = [df_host.nationality == df_guest.nationality, df_host.gender == df_guest.gender]\n",
    "df_output = df_host.join(df_guest, cond , 'inner')\n",
    "df_output = df_output.select('host_id','guest_id').distinct().orderBy('host_id').show()"
   ]
  },
  {
   "cell_type": "code",
   "execution_count": null,
   "id": "f43cd9fe",
   "metadata": {},
   "outputs": [],
   "source": []
  }
 ],
 "metadata": {
  "kernelspec": {
   "display_name": "Python 3 (ipykernel)",
   "language": "python",
   "name": "python3"
  },
  "language_info": {
   "codemirror_mode": {
    "name": "ipython",
    "version": 3
   },
   "file_extension": ".py",
   "mimetype": "text/x-python",
   "name": "python",
   "nbconvert_exporter": "python",
   "pygments_lexer": "ipython3",
   "version": "3.9.7"
  }
 },
 "nbformat": 4,
 "nbformat_minor": 5
}
