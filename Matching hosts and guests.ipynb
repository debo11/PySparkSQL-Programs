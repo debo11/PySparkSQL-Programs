{
 "cells": [
  {
   "cell_type": "code",
   "execution_count": 1,
   "id": "1ee32bdc",
   "metadata": {},
   "outputs": [],
   "source": [
    "from pyspark.sql import SparkSession\n",
    "from pyspark.sql import functions as F"
   ]
  },
  {
   "cell_type": "code",
   "execution_count": 2,
   "id": "247985d2",
   "metadata": {},
   "outputs": [],
   "source": [
    "spark = SparkSession.builder.master('local').appName('Find matching hosts and guests in a way that they are both of the same gender and nationality').getOrCreate()"
   ]
  },
  {
   "cell_type": "code",
   "execution_count": 9,
   "id": "11a7c1cb",
   "metadata": {},
   "outputs": [],
   "source": [
    "df_host = spark.read.options(header='True' ,InferSchema='True').csv('airbnb_hosts.csv')\n",
    "df_guest = spark.read.options(header='True' ,InferSchema='True').csv('airbnb_guests.csv')\n",
    "#df_host.show()\n",
    "#df_guest.show()"
   ]
  },
  {
   "cell_type": "code",
   "execution_count": 20,
   "id": "c7cacf5b",
   "metadata": {},
   "outputs": [
    {
     "name": "stdout",
     "output_type": "stream",
     "text": [
      "+-------+--------+\n",
      "|host_id|guest_id|\n",
      "+-------+--------+\n",
      "|      0|       9|\n",
      "|      1|       5|\n",
      "|      2|       1|\n",
      "|      3|       7|\n",
      "|      4|       0|\n",
      "|      5|       2|\n",
      "|      6|       4|\n",
      "|      7|      10|\n",
      "|      8|       3|\n",
      "|      9|       8|\n",
      "|     10|       6|\n",
      "|     11|      11|\n",
      "+-------+--------+\n",
      "\n"
     ]
    }
   ],
   "source": [
    "cond = [df_host.nationality == df_guest.nationality, df_host.gender == df_guest.gender]\n",
    "df_output = df_host.join(df_guest, cond , 'inner')\n",
    "df_output = df_output.select('host_id','guest_id').distinct().orderBy('host_id').show()"
   ]
  },
  {
   "cell_type": "code",
   "execution_count": null,
   "id": "f43cd9fe",
   "metadata": {},
   "outputs": [],
   "source": []
  }
 ],
 "metadata": {
  "kernelspec": {
   "display_name": "Python 3 (ipykernel)",
   "language": "python",
   "name": "python3"
  },
  "language_info": {
   "codemirror_mode": {
    "name": "ipython",
    "version": 3
   },
   "file_extension": ".py",
   "mimetype": "text/x-python",
   "name": "python",
   "nbconvert_exporter": "python",
   "pygments_lexer": "ipython3",
   "version": "3.9.7"
  }
 },
 "nbformat": 4,
 "nbformat_minor": 5
}
