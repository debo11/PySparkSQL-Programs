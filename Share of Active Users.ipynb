{
 "cells": [
  {
   "cell_type": "code",
   "execution_count": 31,
   "id": "0a3db7b4",
   "metadata": {},
   "outputs": [],
   "source": [
    "from pyspark.sql import SparkSession\n",
    "from pyspark.sql.functions import col"
   ]
  },
  {
   "cell_type": "code",
   "execution_count": 32,
   "id": "b5d2f15f",
   "metadata": {},
   "outputs": [],
   "source": [
    "spark = SparkSession.builder.appName('Share of Active Users').getOrCreate()"
   ]
  },
  {
   "cell_type": "code",
   "execution_count": 33,
   "id": "74e6b6b2",
   "metadata": {},
   "outputs": [],
   "source": [
    "df_input = spark.read.options(header='True', InferSchema='True').csv('fb_active_user.csv')\n",
    "#df_input.show()"
   ]
  },
  {
   "cell_type": "code",
   "execution_count": 34,
   "id": "b6ce3d8c",
   "metadata": {},
   "outputs": [],
   "source": [
    "##filtering out records for USA and fiding out status counts\n",
    "df_count = df_input.filter(col('country') == 'USA').count()\n",
    "df_filtered = df_input.filter(col('country') == 'USA').groupBy('status').count()\n",
    "#df_filtered.show()"
   ]
  },
  {
   "cell_type": "code",
   "execution_count": 35,
   "id": "e389e587",
   "metadata": {},
   "outputs": [
    {
     "name": "stdout",
     "output_type": "stream",
     "text": [
      "+-----+\n",
      "|ratio|\n",
      "+-----+\n",
      "|  0.5|\n",
      "+-----+\n",
      "\n"
     ]
    }
   ],
   "source": [
    "##finding out the active ratio\n",
    "df_output = df_filtered.withColumn(\"ratio\", col('count') / df_count ).filter(col('status') == 'open').selectExpr('ratio')\n",
    "df_output.show()"
   ]
  },
  {
   "cell_type": "code",
   "execution_count": null,
   "id": "f5aac266",
   "metadata": {},
   "outputs": [],
   "source": []
  }
 ],
 "metadata": {
  "kernelspec": {
   "display_name": "Python 3 (ipykernel)",
   "language": "python",
   "name": "python3"
  },
  "language_info": {
   "codemirror_mode": {
    "name": "ipython",
    "version": 3
   },
   "file_extension": ".py",
   "mimetype": "text/x-python",
   "name": "python",
   "nbconvert_exporter": "python",
   "pygments_lexer": "ipython3",
   "version": "3.9.7"
  }
 },
 "nbformat": 4,
 "nbformat_minor": 5
}
