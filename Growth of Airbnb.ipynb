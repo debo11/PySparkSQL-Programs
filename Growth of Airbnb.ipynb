{
 "cells": [
  {
   "cell_type": "code",
   "execution_count": 34,
   "id": "26799c17",
   "metadata": {},
   "outputs": [],
   "source": [
    "from pyspark.sql import SparkSession\n",
    "from pyspark.sql.functions import col,substring,desc,lag\n",
    "from pyspark.sql.window import Window"
   ]
  },
  {
   "cell_type": "code",
   "execution_count": 35,
   "id": "02e3af33",
   "metadata": {},
   "outputs": [],
   "source": [
    "spark = SparkSession.builder.master('local').appName('Growth of Airbnb').getOrCreate()"
   ]
  },
  {
   "cell_type": "code",
   "execution_count": 36,
   "id": "281b9527",
   "metadata": {},
   "outputs": [],
   "source": [
    "df_input = spark.read.options(header='True', InferSchema='True').csv('airbnb_search_details.csv')\n",
    "#df_input.show(5)"
   ]
  },
  {
   "cell_type": "code",
   "execution_count": 42,
   "id": "17f93f99",
   "metadata": {},
   "outputs": [],
   "source": [
    "##creating column period with year format and taking count for current year.\n",
    "df_monthly_count = df_input.withColumn(\"period\", substring('host_since', 1,4))\n",
    "df_monthly_count = df_monthly_count.groupBy('period').count()\n",
    "df_monthly_count = df_monthly_count.withColumnRenamed(\"count\", \"current_year_count\").orderBy('period')\n",
    "#df_monthly_count.show()"
   ]
  },
  {
   "cell_type": "code",
   "execution_count": 43,
   "id": "5e7e7d75",
   "metadata": {},
   "outputs": [],
   "source": [
    "##taking count for previous year\n",
    "windowSpec  = Window.orderBy(\"period\")\n",
    "df_monthly_count = df_monthly_count.withColumn(\"previous_year_count\",lag(\"current_year_count\",1).over(windowSpec))\n",
    "#df_monthly_count.show()"
   ]
  },
  {
   "cell_type": "code",
   "execution_count": 49,
   "id": "896772ef",
   "metadata": {},
   "outputs": [
    {
     "name": "stdout",
     "output_type": "stream",
     "text": [
      "+------+------------------+-------------------+-------------------+\n",
      "|period|current_year_count|previous_year_count|  growth_percentage|\n",
      "+------+------------------+-------------------+-------------------+\n",
      "|  2009|                 2|                  0|                0.0|\n",
      "|  2010|                 4|                  2|              100.0|\n",
      "|  2011|                 9|                  4|              125.0|\n",
      "|  2012|                10|                  9|  11.11111111111111|\n",
      "|  2013|                30|                 10|              200.0|\n",
      "|  2014|                33|                 30|               10.0|\n",
      "|  2015|                33|                 33|                0.0|\n",
      "|  2016|                28|                 33|-15.151515151515152|\n",
      "|  2017|                11|                 28| -60.71428571428571|\n",
      "+------+------------------+-------------------+-------------------+\n",
      "\n"
     ]
    }
   ],
   "source": [
    "##finding estimated growth\n",
    "df_output =  df_monthly_count.withColumn(\"growth_percentage\", ((col('current_year_count') - col('previous_year_count'))/ col('previous_year_count')) *100)\n",
    "df_output = df_output.na.fill(value=0)\n",
    "df_output.show()"
   ]
  },
  {
   "cell_type": "code",
   "execution_count": null,
   "id": "8db9bd33",
   "metadata": {},
   "outputs": [],
   "source": []
  }
 ],
 "metadata": {
  "kernelspec": {
   "display_name": "Python 3 (ipykernel)",
   "language": "python",
   "name": "python3"
  },
  "language_info": {
   "codemirror_mode": {
    "name": "ipython",
    "version": 3
   },
   "file_extension": ".py",
   "mimetype": "text/x-python",
   "name": "python",
   "nbconvert_exporter": "python",
   "pygments_lexer": "ipython3",
   "version": "3.9.7"
  }
 },
 "nbformat": 4,
 "nbformat_minor": 5
}
