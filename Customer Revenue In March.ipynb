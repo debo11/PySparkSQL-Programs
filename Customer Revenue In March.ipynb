{
 "cells": [
  {
   "cell_type": "code",
   "execution_count": 58,
   "id": "1eb2be3c",
   "metadata": {},
   "outputs": [],
   "source": [
    "import pandas as pd\n",
    "from pyspark.sql.functions import *\n",
    "from pyspark.sql import SparkSession\n",
    "spark = SparkSession.builder.appName(\"Customer Revenue In March\").getOrCreate()"
   ]
  },
  {
   "cell_type": "code",
   "execution_count": 67,
   "id": "c269604d",
   "metadata": {},
   "outputs": [
    {
     "data": {
      "text/plain": [
       "[Row(id=1, cust_id=3, order_date='04-03-2019 00:00', order_details='Coat', total_order_cost=100),\n",
       " Row(id=2, cust_id=3, order_date='01-03-2019 00:00', order_details='Shoes', total_order_cost=80),\n",
       " Row(id=3, cust_id=3, order_date='07-03-2019 00:00', order_details='Skirt', total_order_cost=30),\n",
       " Row(id=4, cust_id=7, order_date='01-02-2019 00:00', order_details='Coat', total_order_cost=25),\n",
       " Row(id=5, cust_id=7, order_date='10-03-2019 00:00', order_details='Shoes', total_order_cost=80)]"
      ]
     },
     "execution_count": 67,
     "metadata": {},
     "output_type": "execute_result"
    }
   ],
   "source": [
    "df_order_input = spark.read.options(header='true', InferSchema='true').csv('order.csv')\n",
    "df_order_input.collect()"
   ]
  },
  {
   "cell_type": "code",
   "execution_count": 65,
   "id": "669a1a63",
   "metadata": {},
   "outputs": [],
   "source": [
    "df_grouped = df_order_input.filter(df_order_input['order_date'].between('01-03-2019 00:00','31-03-2019 00:00'))"
   ]
  },
  {
   "cell_type": "code",
   "execution_count": 66,
   "id": "54ba2395",
   "metadata": {},
   "outputs": [
    {
     "name": "stdout",
     "output_type": "stream",
     "text": [
      "+-------+-------+\n",
      "|cust_id|revenue|\n",
      "+-------+-------+\n",
      "|      3|    210|\n",
      "|      7|     80|\n",
      "+-------+-------+\n",
      "\n"
     ]
    }
   ],
   "source": [
    "df_order = df_grouped.groupBy(['cust_id']).sum().selectExpr('cust_id','`sum(total_order_cost)` as revenue').show()"
   ]
  },
  {
   "cell_type": "code",
   "execution_count": null,
   "id": "40b4322c",
   "metadata": {},
   "outputs": [],
   "source": []
  }
 ],
 "metadata": {
  "kernelspec": {
   "display_name": "Python 3 (ipykernel)",
   "language": "python",
   "name": "python3"
  },
  "language_info": {
   "codemirror_mode": {
    "name": "ipython",
    "version": 3
   },
   "file_extension": ".py",
   "mimetype": "text/x-python",
   "name": "python",
   "nbconvert_exporter": "python",
   "pygments_lexer": "ipython3",
   "version": "3.9.7"
  }
 },
 "nbformat": 4,
 "nbformat_minor": 5
}
