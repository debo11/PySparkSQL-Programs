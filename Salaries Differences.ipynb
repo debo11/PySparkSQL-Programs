{
 "cells": [
  {
   "cell_type": "code",
   "execution_count": 113,
   "id": "9f0216fc",
   "metadata": {},
   "outputs": [],
   "source": [
    "from pyspark.sql import SparkSession\n",
    "import pyspark.sql.functions as F\n",
    "from pyspark.sql.functions import col, max as max_\n",
    "from pyspark.sql.window import Window\n",
    "from pyspark.sql.functions import lag"
   ]
  },
  {
   "cell_type": "code",
   "execution_count": 114,
   "id": "9cd05c65",
   "metadata": {},
   "outputs": [],
   "source": [
    "spark = SparkSession.builder.appName('Salaries Differences').getOrCreate()"
   ]
  },
  {
   "cell_type": "code",
   "execution_count": 115,
   "id": "587146c5",
   "metadata": {},
   "outputs": [],
   "source": [
    "df_employee_input= spark.read.options(header= 'True', InferSchema='True').csv('db_employee.csv')\n",
    "df_dept_input= spark.read.options(header= 'True', InferSchema='True').csv('db_dept.csv')\n",
    "#df_employee_input.show()\n",
    "#df_dept_input.show()"
   ]
  },
  {
   "cell_type": "code",
   "execution_count": 116,
   "id": "5191eb4d",
   "metadata": {},
   "outputs": [],
   "source": [
    "df_grouped_salary = df_employee_input.groupBy('department_id').max('salary').orderBy('department_id').select(col(\"department_id\"),col(\"max(salary)\").alias(\"max_salary\"))"
   ]
  },
  {
   "cell_type": "code",
   "execution_count": 117,
   "id": "2de79ca0",
   "metadata": {},
   "outputs": [],
   "source": [
    "df_joined = df_grouped_salary.join(df_dept_input, df_grouped_salary.department_id == df_dept_input.id, 'inner').orderBy('department_id').selectExpr('department_id','max_salary','department')"
   ]
  },
  {
   "cell_type": "code",
   "execution_count": 118,
   "id": "47b0bbc8",
   "metadata": {},
   "outputs": [],
   "source": [
    "df_joined.createOrReplaceTempView(\"dept\")\n",
    "df_dept_filtered= spark.sql(\"select a.department_id,a.max_salary from dept a where a.department in('marketing','engineering')\")"
   ]
  },
  {
   "cell_type": "code",
   "execution_count": 121,
   "id": "4033fe95",
   "metadata": {},
   "outputs": [],
   "source": [
    "window = Window.partitionBy().orderBy(\"department_id\")\n",
    "df_output = df_dept_filtered.withColumn(\"salary_difference\", col(\"max_salary\") - F.lag(col(\"max_salary\"), 1).over(window))"
   ]
  },
  {
   "cell_type": "code",
   "execution_count": 122,
   "id": "e7591709",
   "metadata": {},
   "outputs": [
    {
     "name": "stdout",
     "output_type": "stream",
     "text": [
      "+-----------------+\n",
      "|salary_difference|\n",
      "+-----------------+\n",
      "|             2400|\n",
      "+-----------------+\n",
      "\n"
     ]
    }
   ],
   "source": [
    "df_output.filter(\"salary_difference IS NOT NULL\").selectExpr('salary_difference').show()"
   ]
  },
  {
   "cell_type": "code",
   "execution_count": null,
   "id": "46c1ea75",
   "metadata": {},
   "outputs": [],
   "source": []
  }
 ],
 "metadata": {
  "kernelspec": {
   "display_name": "Python 3 (ipykernel)",
   "language": "python",
   "name": "python3"
  },
  "language_info": {
   "codemirror_mode": {
    "name": "ipython",
    "version": 3
   },
   "file_extension": ".py",
   "mimetype": "text/x-python",
   "name": "python",
   "nbconvert_exporter": "python",
   "pygments_lexer": "ipython3",
   "version": "3.9.7"
  }
 },
 "nbformat": 4,
 "nbformat_minor": 5
}
