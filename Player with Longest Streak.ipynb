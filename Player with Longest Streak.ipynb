{
 "cells": [
  {
   "cell_type": "code",
   "execution_count": 151,
   "id": "387f6e52",
   "metadata": {},
   "outputs": [],
   "source": [
    "from pyspark.sql import SparkSession\n",
    "from pyspark.sql import functions as f\n",
    "from pyspark.sql.functions import desc,row_number,when,col,max\n",
    "from pyspark.sql.window import Window "
   ]
  },
  {
   "cell_type": "code",
   "execution_count": 152,
   "id": "0c5aad87",
   "metadata": {},
   "outputs": [],
   "source": [
    "spark = SparkSession.builder.master('local').appName('Player with Longest Streak').getOrCreate()"
   ]
  },
  {
   "cell_type": "code",
   "execution_count": 153,
   "id": "20de4cc7",
   "metadata": {},
   "outputs": [],
   "source": [
    "df_input = spark.read.options(header='True', InferSchema='True').csv('players_results.csv').orderBy('player_id','match_date')\n",
    "#df_input.show()"
   ]
  },
  {
   "cell_type": "code",
   "execution_count": 157,
   "id": "0543b47e",
   "metadata": {},
   "outputs": [],
   "source": [
    "##filtering out consecutive winning streak each time for each player\n",
    "df_input.createOrReplaceTempView('t')\n",
    "df_output = spark.sql('select distinct player_id,match_result, count(*) as consecutive_count from (select player_id,match_result, (row_number() over (order by player_id) - row_number() over (partition by match_result order by player_id)) as grp from t  ) t  group by player_id,grp, match_result')\n",
    "df_output = df_output.filter((col(\"match_result\") == 'W'))\n",
    "#df_output.show()"
   ]
  },
  {
   "cell_type": "code",
   "execution_count": 158,
   "id": "1c1bc5b9",
   "metadata": {},
   "outputs": [],
   "source": [
    "##finding out the max consecutive winning streak for each players\n",
    "df_output = df_output.groupBy('player_id').max('consecutive_count').select(col('player_id'),col('max(consecutive_count)').alias('winning_streak'))\n",
    "#df_output.show()"
   ]
  },
  {
   "cell_type": "code",
   "execution_count": 159,
   "id": "092e1384",
   "metadata": {},
   "outputs": [
    {
     "name": "stdout",
     "output_type": "stream",
     "text": [
      "+---------+--------------+\n",
      "|player_id|winning_streak|\n",
      "+---------+--------------+\n",
      "|      402|             5|\n",
      "|      403|             5|\n",
      "+---------+--------------+\n",
      "\n"
     ]
    }
   ],
   "source": [
    "##finding out max streak players\n",
    "df_output.createOrReplaceTempView('fb')\n",
    "df_output = spark.sql(' select player_id,winning_streak from ( select player_id,winning_streak, dense_rank() over( order by winning_streak desc) as rnk from fb) a where a.rnk =1');\n",
    "df_output.show()"
   ]
  },
  {
   "cell_type": "code",
   "execution_count": null,
   "id": "cdd959bc",
   "metadata": {},
   "outputs": [],
   "source": []
  }
 ],
 "metadata": {
  "kernelspec": {
   "display_name": "Python 3 (ipykernel)",
   "language": "python",
   "name": "python3"
  },
  "language_info": {
   "codemirror_mode": {
    "name": "ipython",
    "version": 3
   },
   "file_extension": ".py",
   "mimetype": "text/x-python",
   "name": "python",
   "nbconvert_exporter": "python",
   "pygments_lexer": "ipython3",
   "version": "3.9.7"
  }
 },
 "nbformat": 4,
 "nbformat_minor": 5
}
