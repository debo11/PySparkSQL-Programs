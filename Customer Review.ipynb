{
 "cells": [
  {
   "cell_type": "code",
   "execution_count": 62,
   "id": "d1f8e63f",
   "metadata": {},
   "outputs": [],
   "source": [
    "from pyspark.sql import SparkSession\n",
    "from pyspark.sql.functions import col,concat_ws"
   ]
  },
  {
   "cell_type": "code",
   "execution_count": 63,
   "id": "baf4d05d",
   "metadata": {},
   "outputs": [],
   "source": [
    "spark = SparkSession.builder.appName('Customer Review').getOrCreate()"
   ]
  },
  {
   "cell_type": "code",
   "execution_count": 64,
   "id": "9f1d4a25",
   "metadata": {},
   "outputs": [],
   "source": [
    "df_input = spark.read.options(header='True', InferSchema='True').csv('customer_data.csv')\n",
    "#df_input.show()"
   ]
  },
  {
   "cell_type": "code",
   "execution_count": 77,
   "id": "03a3a26e",
   "metadata": {},
   "outputs": [],
   "source": [
    "##finding out the time difference\n",
    "df_customer_concat = df_input.withColumn('time_diff', col('endtime').cast(\"long\")- col('starttime').cast(\"long\"))\n",
    "df_customer_concat = df_customer_concat.withColumn('Cus_CusCare', concat_ws('_','from_number','to_number')).withColumn('CusCare_Cus', concat_ws('_','to_number','from_number'))\n",
    "#df_customer_concat.show()"
   ]
  },
  {
   "cell_type": "code",
   "execution_count": 78,
   "id": "03ce8b60",
   "metadata": {},
   "outputs": [],
   "source": [
    "## distributing dataset for both missed and non missed calls\n",
    "df_missed_call = df_customer_concat.filter('time_diff == 0')\n",
    "df_non_missed_call = df_customer_concat.filter('time_diff != 0')\n",
    "df_missed_call = df_missed_call.withColumnRenamed(\"Cus_CusCare\",\"Customer_CustomerCare\")\n",
    "df_missed_call = df_missed_call.withColumnRenamed(\"From_number\",\"Customer_Call_Received\")\n",
    "df_missed_call = df_missed_call.withColumnRenamed(\"to_number\",\"to\")\n",
    "df_missed_call = df_missed_call.withColumnRenamed(\"time_diff\",\"td\")\n",
    "df_non_missed_call = df_non_missed_call.withColumnRenamed(\"CusCare_Cus\",\"CustomerCare_Customer\")\n",
    "#df_missed_call.show()\n",
    "#df_non_missed_call.show()"
   ]
  },
  {
   "cell_type": "code",
   "execution_count": 79,
   "id": "67612621",
   "metadata": {
    "scrolled": true
   },
   "outputs": [
    {
     "name": "stdout",
     "output_type": "stream",
     "text": [
      "+----------------------+\n",
      "|Customer_Call_Received|\n",
      "+----------------------+\n",
      "|                   100|\n",
      "|                   200|\n",
      "|                   300|\n",
      "+----------------------+\n",
      "\n"
     ]
    }
   ],
   "source": [
    "##Customer who received call within 30 mint\n",
    "df_output = df_missed_call.join(df_non_missed_call, df_missed_call.Customer_CustomerCare == df_non_missed_call.CustomerCare_Customer, 'inner')\n",
    "df_output = df_output.filter('time_diff < 1800').selectExpr('Customer_Call_Received')\n",
    "df_output.show()"
   ]
  },
  {
   "cell_type": "code",
   "execution_count": null,
   "id": "5b394126",
   "metadata": {},
   "outputs": [],
   "source": []
  }
 ],
 "metadata": {
  "kernelspec": {
   "display_name": "Python 3 (ipykernel)",
   "language": "python",
   "name": "python3"
  },
  "language_info": {
   "codemirror_mode": {
    "name": "ipython",
    "version": 3
   },
   "file_extension": ".py",
   "mimetype": "text/x-python",
   "name": "python",
   "nbconvert_exporter": "python",
   "pygments_lexer": "ipython3",
   "version": "3.9.7"
  }
 },
 "nbformat": 4,
 "nbformat_minor": 5
}
