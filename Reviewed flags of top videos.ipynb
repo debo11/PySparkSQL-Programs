{
 "cells": [
  {
   "cell_type": "code",
   "execution_count": 2,
   "id": "221d8eb8",
   "metadata": {},
   "outputs": [],
   "source": [
    "from pyspark.sql import SparkSession\n",
    "from pyspark.sql import functions as f\n",
    "from pyspark.sql.window import Window\n",
    "from pyspark.sql.functions import col,desc,max,row_number"
   ]
  },
  {
   "cell_type": "code",
   "execution_count": 3,
   "id": "602f8155",
   "metadata": {},
   "outputs": [],
   "source": [
    "spark = SparkSession.builder.master('local').appName('Reviewed flags of top videos').getOrCreate()"
   ]
  },
  {
   "cell_type": "code",
   "execution_count": 4,
   "id": "a489dfd4",
   "metadata": {},
   "outputs": [
    {
     "name": "stdout",
     "output_type": "stream",
     "text": [
      "+--------------+-------------+-----------+-------+\n",
      "|user_firstname|user_lastname|   video_id|flag_id|\n",
      "+--------------+-------------+-----------+-------+\n",
      "|       Richard|       Hasson|y6120QOlsfU| 0cazx3|\n",
      "|          Mark|          May|Ct6BUPvE2sM| 1cn76u|\n",
      "|          Gina|       Korman|dQw4w9WgXcQ| 1i43zk|\n",
      "|          Mark|          May|Ct6BUPvE2sM| 1n0vef|\n",
      "|          Mark|          May|jNQXAC9IVRw| 1sv6ib|\n",
      "|          Gina|       Korman|dQw4w9WgXcQ| 20xekb|\n",
      "|          Mark|          May|5qap5aO4i9A| 4cvwuv|\n",
      "|        Daniel|         Bell|5qap5aO4i9A| 4sd6dv|\n",
      "|       Richard|       Hasson|y6120QOlsfU| 6jjkvn|\n",
      "|       Pauline|        Wilks|jNQXAC9IVRw| 7ks264|\n",
      "+--------------+-------------+-----------+-------+\n",
      "only showing top 10 rows\n",
      "\n",
      "+-------+--------------+-------------------+----------------+\n",
      "|flag_id|reviewed_by_yt|      reviewed_date|reviewed_outcome|\n",
      "+-------+--------------+-------------------+----------------+\n",
      "| 0cazx3|         false|               null|            null|\n",
      "| 1cn76u|          true|2022-03-15 00:00:00|         REMOVED|\n",
      "| 1i43zk|          true|2022-03-15 00:00:00|         REMOVED|\n",
      "| 1n0vef|          true|2022-03-15 00:00:00|         REMOVED|\n",
      "| 1sv6ib|          true|2022-03-15 00:00:00|        APPROVED|\n",
      "| 20xekb|          true|2022-03-17 00:00:00|         REMOVED|\n",
      "| 4cvwuv|          true|2022-03-15 00:00:00|        APPROVED|\n",
      "| 4l1tk7|         false|               null|            null|\n",
      "| 4sd6dv|          true|2022-03-14 00:00:00|         REMOVED|\n",
      "| 6jjkvn|          true|2022-03-16 00:00:00|        APPROVED|\n",
      "+-------+--------------+-------------------+----------------+\n",
      "only showing top 10 rows\n",
      "\n"
     ]
    }
   ],
   "source": [
    "df_user_flags = spark.read.options(header='True', InferSchema='True').csv('user_flags.csv')\n",
    "df_flag_review = spark.read.options(header='True', InferSchema='True').csv('flag_review.csv')\n",
    "df_user_flags.show(10)\n",
    "df_flag_review.show(10)"
   ]
  },
  {
   "cell_type": "code",
   "execution_count": 144,
   "id": "083bf8d9",
   "metadata": {},
   "outputs": [],
   "source": [
    "##to calculate max count of flaged video based on video_id\n",
    "df_flag_count = df_user_flags.groupBy('video_id').count()\n",
    "df_flag_count = df_flag_count.withColumnRenamed(\"count\", \"flag_count\").orderBy(f.desc(\"flag_count\"))\n",
    "df_flag_count = df_flag_count.withColumnRenamed(\"video_id\", \"video_no\")\n",
    "df_flag_count.createOrReplaceTempView(\"fb\")\n",
    "df_most_flagged_video = spark.sql(\"select video_no,flag_count,rnk from \"+ \" (select video_no,flag_count, row_number() OVER ( ORDER BY flag_count DESC) as rnk \" +\" FROM fb) tmp where rnk =1 \").selectExpr('video_no')\n",
    "#df_most_flagged_video.show()"
   ]
  },
  {
   "cell_type": "code",
   "execution_count": 146,
   "id": "caaecac5",
   "metadata": {},
   "outputs": [],
   "source": [
    "##filtering out the flag_id for most flagged video\n",
    "df_most_flaged_video = df_user_flags.join(df_most_flagged_video, df_user_flags.video_id == df_most_flagged_video.video_no, 'inner').selectExpr('video_no','flag_id')\n",
    "#df_most_flaged_video.show()"
   ]
  },
  {
   "cell_type": "code",
   "execution_count": 147,
   "id": "cd7e1425",
   "metadata": {},
   "outputs": [],
   "source": [
    "##joining above df with flag_review df to get the  review status as true\n",
    "df_review_status = df_flag_review.join(df_most_flaged_video,df_flag_review.flag_id == df_most_flaged_video.flag_id, 'inner')\n",
    "df_review_status = df_review_status.filter(df_review_status.reviewed_by_yt == 'true')\n",
    "#df_review_status.show()"
   ]
  },
  {
   "cell_type": "code",
   "execution_count": 148,
   "id": "3e13febc",
   "metadata": {},
   "outputs": [
    {
     "name": "stdout",
     "output_type": "stream",
     "text": [
      "+-----------+-----------------------+\n",
      "|   video_id|number_of_reviewd_flags|\n",
      "+-----------+-----------------------+\n",
      "|dQw4w9WgXcQ|                      5|\n",
      "+-----------+-----------------------+\n",
      "\n"
     ]
    }
   ],
   "source": [
    "## finding the final count of reviwed_by_yt as true\n",
    "df_output =  df_review_status.groupBy('video_no').count().select(col('video_no').alias('video_id'),col('count').alias('number_of_reviewd_flags'))\n",
    "df_output.show()"
   ]
  },
  {
   "cell_type": "code",
   "execution_count": null,
   "id": "d3fea580",
   "metadata": {},
   "outputs": [],
   "source": []
  }
 ],
 "metadata": {
  "kernelspec": {
   "display_name": "Python 3 (ipykernel)",
   "language": "python",
   "name": "python3"
  },
  "language_info": {
   "codemirror_mode": {
    "name": "ipython",
    "version": 3
   },
   "file_extension": ".py",
   "mimetype": "text/x-python",
   "name": "python",
   "nbconvert_exporter": "python",
   "pygments_lexer": "ipython3",
   "version": "3.9.7"
  }
 },
 "nbformat": 4,
 "nbformat_minor": 5
}
