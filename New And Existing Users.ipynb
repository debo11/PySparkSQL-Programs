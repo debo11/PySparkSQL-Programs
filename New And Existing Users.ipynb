{
 "cells": [
  {
   "cell_type": "code",
   "execution_count": 77,
   "id": "0a8f15ad",
   "metadata": {},
   "outputs": [],
   "source": [
    "from pyspark.sql import SparkSession\n",
    "from pyspark.sql.functions import col,substring,when,asc"
   ]
  },
  {
   "cell_type": "code",
   "execution_count": 6,
   "id": "5cf72f5d",
   "metadata": {},
   "outputs": [],
   "source": [
    "spark = SparkSession.builder.appName('New And Existing Users').getOrCreate()"
   ]
  },
  {
   "cell_type": "code",
   "execution_count": 7,
   "id": "071693cd",
   "metadata": {},
   "outputs": [],
   "source": [
    "df_input = spark.read.options(header='True', InferSchema='True').csv('fact_events.csv')\n",
    "#df_input.show()"
   ]
  },
  {
   "cell_type": "code",
   "execution_count": 8,
   "id": "2cd70995",
   "metadata": {},
   "outputs": [
    {
     "name": "stdout",
     "output_type": "stream",
     "text": [
      "+---+----------+----------+----------------+---------+-------------------+--------+-------+\n",
      "| id|   time_id|   user_id|     customer_id|client_id|         event_type|event_id| period|\n",
      "+---+----------+----------+----------------+---------+-------------------+--------+-------+\n",
      "|  1|2020-02-28|3668-QPYBK|          Sendit|  desktop|       message sent|       3|2020-02|\n",
      "|  2|2020-02-28|7892-POOKP|       Connectix|   mobile|      file received|       2|2020-02|\n",
      "|  3|2020-04-03|9763-GRSKD|          Zoomit|  desktop|video call received|       7|2020-04|\n",
      "|  4|2020-04-02|9763-GRSKD|       Connectix|  desktop|video call received|       7|2020-04|\n",
      "|  5|2020-02-06|9237-HQITU|          Sendit|  desktop|video call received|       7|2020-02|\n",
      "|  6|2020-02-27|8191-XWSZG|       Connectix|  desktop|      file received|       2|2020-02|\n",
      "|  7|2020-04-03|9237-HQITU|       Connectix|  desktop|video call received|       7|2020-04|\n",
      "|  8|2020-03-01|9237-HQITU|       Connectix|   mobile|   message received|       4|2020-03|\n",
      "|  9|2020-04-02|4190-MFLUW|       Connectix|   mobile|video call received|       7|2020-04|\n",
      "| 10|2020-04-21|9763-GRSKD|          Sendit|  desktop|      file received|       2|2020-04|\n",
      "| 11|2020-02-28|5129-JLPIS|Electric Gravity|   mobile| video call started|       6|2020-02|\n",
      "| 12|2020-03-31|6713-OKOMC|       Connectix|  desktop|      file received|       2|2020-03|\n",
      "| 13|2020-03-21|6388-TABGU|       Connectix|  desktop|       message sent|       3|2020-03|\n",
      "| 14|2020-03-03|7469-LKBCI|       Connectix|   mobile|video call received|       7|2020-03|\n",
      "| 15|2020-02-11|9237-HQITU|       Connectix|  desktop|video call received|       7|2020-02|\n",
      "| 16|2020-03-01|5575-GNVDE|          Zoomit|  desktop|      file received|       2|2020-03|\n",
      "| 17|2020-03-02|6388-TABGU|       Connectix|  desktop|       message sent|       3|2020-03|\n",
      "| 18|2020-04-06|9305-CDSKC|       Connectix|  desktop|   message received|       4|2020-04|\n",
      "| 19|2020-02-13|3668-QPYBK|       Connectix|   mobile|          file sent|       1|2020-02|\n",
      "| 20|2020-04-03|9959-WOFKT|       Connectix|  desktop|      file received|       2|2020-04|\n",
      "+---+----------+----------+----------------+---------+-------------------+--------+-------+\n",
      "only showing top 20 rows\n",
      "\n"
     ]
    }
   ],
   "source": [
    "##creating period column with YYYY-MM\n",
    "df_period = df_input.withColumn(\"period\", substring('time_id',1,7))\n",
    "df_period.show()"
   ]
  },
  {
   "cell_type": "code",
   "execution_count": 135,
   "id": "e104406b",
   "metadata": {},
   "outputs": [
    {
     "name": "stdout",
     "output_type": "stream",
     "text": [
      "+---+----------+----------+----------------+---------+-------------------+--------+-------+\n",
      "| id|   time_id|   user_id|     customer_id|client_id|         event_type|event_id| period|\n",
      "+---+----------+----------+----------------+---------+-------------------+--------+-------+\n",
      "|  9|2020-04-02|4190-MFLUW|       Connectix|   mobile|video call received|       7|2020-04|\n",
      "| 40|2020-03-25|4190-MFLUW|       Connectix|   mobile|      file received|       2|2020-03|\n",
      "| 47|2020-04-06|4190-MFLUW|       Connectix|   mobile|          file sent|       1|2020-04|\n",
      "| 63|2020-03-07|4190-MFLUW|Electric Gravity|  desktop|       message sent|       3|2020-03|\n",
      "| 64|2020-03-05|4190-MFLUW|       Connectix|  desktop|          file sent|       1|2020-03|\n",
      "| 75|2020-03-02|4190-MFLUW|          Sendit|   mobile|       message sent|       3|2020-03|\n",
      "|126|2020-03-25|4190-MFLUW|       Connectix|  desktop| video call started|       6|2020-03|\n",
      "+---+----------+----------+----------------+---------+-------------------+--------+-------+\n",
      "\n"
     ]
    }
   ],
   "source": [
    "df_period.filter(df_period.user_id == '4190-MFLUW').show()"
   ]
  },
  {
   "cell_type": "code",
   "execution_count": 50,
   "id": "96d72a3e",
   "metadata": {},
   "outputs": [
    {
     "name": "stdout",
     "output_type": "stream",
     "text": [
      "+-------+-----+\n",
      "| period|count|\n",
      "+-------+-----+\n",
      "|2020-02|   13|\n",
      "|2020-03|   17|\n",
      "|2020-04|   14|\n",
      "+-------+-----+\n",
      "\n"
     ]
    }
   ],
   "source": [
    "##getting new user purchase\n",
    "df_period.createOrReplaceTempView(\"fb\")\n",
    "df_most_flagged_video = spark.sql(\"select period,user_id,rnk from \"+ \" (select period,user_id, ROW_NUMBER() OVER ( PARTITION BY period,user_id ORDER BY period,user_id) as rnk \" +\" FROM fb) tmp where rnk=1  \")\n",
    "df_most_flagged_video.groupBy('period').count().show()"
   ]
  },
  {
   "cell_type": "code",
   "execution_count": 95,
   "id": "247da2aa",
   "metadata": {},
   "outputs": [
    {
     "name": "stdout",
     "output_type": "stream",
     "text": [
      "+----------+-------+----------+----------+---------+\n",
      "|   user_id| period|  February|     March|    April|\n",
      "+----------+-------+----------+----------+---------+\n",
      "|1452-KIOVK|2020-02|1452-KIOVK| In-Active|In-Active|\n",
      "|3668-QPYBK|2020-02|3668-QPYBK| In-Active|In-Active|\n",
      "|3655-SNQYZ|2020-02|3655-SNQYZ| In-Active|In-Active|\n",
      "|7892-POOKP|2020-02|7892-POOKP| In-Active|In-Active|\n",
      "|8191-XWSZG|2020-02|8191-XWSZG| In-Active|In-Active|\n",
      "|7469-LKBCI|2020-02|7469-LKBCI| In-Active|In-Active|\n",
      "|6713-OKOMC|2020-02|6713-OKOMC| In-Active|In-Active|\n",
      "|7795-CFOCW|2020-02|7795-CFOCW| In-Active|In-Active|\n",
      "|7590-VHVEG|2020-02|7590-VHVEG| In-Active|In-Active|\n",
      "|9237-HQITU|2020-02|9237-HQITU| In-Active|In-Active|\n",
      "|5129-JLPIS|2020-02|5129-JLPIS| In-Active|In-Active|\n",
      "|0280-XJGEX|2020-02|0280-XJGEX| In-Active|In-Active|\n",
      "|9305-CDSKC|2020-02|9305-CDSKC| In-Active|In-Active|\n",
      "|6388-TABGU|2020-03| In-Active|6388-TABGU|In-Active|\n",
      "|9305-CDSKC|2020-03| In-Active|9305-CDSKC|In-Active|\n",
      "|5129-JLPIS|2020-03| In-Active|5129-JLPIS|In-Active|\n",
      "|4190-MFLUW|2020-03| In-Active|4190-MFLUW|In-Active|\n",
      "|4183-MYFRB|2020-03| In-Active|4183-MYFRB|In-Active|\n",
      "|8091-TTVAX|2020-03| In-Active|8091-TTVAX|In-Active|\n",
      "|6713-OKOMC|2020-03| In-Active|6713-OKOMC|In-Active|\n",
      "+----------+-------+----------+----------+---------+\n",
      "only showing top 20 rows\n",
      "\n"
     ]
    }
   ],
   "source": [
    "##getting existing users purchase\n",
    "df_existing_user = df_period.select('user_id','period').distinct()\n",
    "df_existing_user = df_existing_user.withColumn(\"February\",  when(df_existing_user.period =='2020-02', df_existing_user.user_id).otherwise('In-Active'))\n",
    "df_existing_user = df_existing_user.withColumn(\"March\",  when(df_existing_user.period =='2020-03', df_existing_user.user_id).otherwise('In-Active'))\n",
    "df_existing_user = df_existing_user.withColumn(\"April\",  when(df_existing_user.period =='2020-04', df_existing_user.user_id).otherwise('In-Active'))\n",
    "df_existing_user.orderBy('period').show()"
   ]
  },
  {
   "cell_type": "code",
   "execution_count": 133,
   "id": "9844d0ab",
   "metadata": {},
   "outputs": [
    {
     "name": "stdout",
     "output_type": "stream",
     "text": [
      "+----------+-------+---------+----------+---------+\n",
      "|   user_id| period| February|     March|    April|\n",
      "+----------+-------+---------+----------+---------+\n",
      "|6388-TABGU|2020-03|In-Active|6388-TABGU|In-Active|\n",
      "+----------+-------+---------+----------+---------+\n",
      "\n"
     ]
    }
   ],
   "source": [
    "df_existing_user.filter(df_period.user_id == '6388-TABGU').show()"
   ]
  },
  {
   "cell_type": "code",
   "execution_count": 132,
   "id": "7ee7c16b",
   "metadata": {},
   "outputs": [
    {
     "name": "stdout",
     "output_type": "stream",
     "text": [
      "+-----------+----------+\n",
      "|time_period|   user_id|\n",
      "+-----------+----------+\n",
      "|    2020-02|3668-QPYBK|\n",
      "|    2020-02|3655-SNQYZ|\n",
      "|    2020-02|7795-CFOCW|\n",
      "|    2020-02|9237-HQITU|\n",
      "|    2020-02|9305-CDSKC|\n",
      "|    2020-02|1452-KIOVK|\n",
      "|    2020-02|6713-OKOMC|\n",
      "|    2020-02|7590-VHVEG|\n",
      "|    2020-02|5129-JLPIS|\n",
      "|    2020-02|0280-XJGEX|\n",
      "|    2020-02|7892-POOKP|\n",
      "|    2020-02|8191-XWSZG|\n",
      "|    2020-02|7469-LKBCI|\n",
      "+-----------+----------+\n",
      "\n",
      "+-----------+----------+\n",
      "|time_period|   user_id|\n",
      "+-----------+----------+\n",
      "|    2020-03|6388-TABGU|\n",
      "|    2020-03|4190-MFLUW|\n",
      "|    2020-03|8091-TTVAX|\n",
      "|    2020-03|4183-MYFRB|\n",
      "|    2020-03|5575-GNVDE|\n",
      "+-----------+----------+\n",
      "\n",
      "+-----------+----------+\n",
      "|time_period|   user_id|\n",
      "+-----------+----------+\n",
      "|    2020-04|6388-TABGU|\n",
      "|    2020-04|0280-XJGEX|\n",
      "|    2020-04|6713-OKOMC|\n",
      "|    2020-04|7590-VHVEG|\n",
      "|    2020-04|1452-KIOVK|\n",
      "+-----------+----------+\n",
      "\n"
     ]
    },
    {
     "ename": "AttributeError",
     "evalue": "'NoneType' object has no attribute 'union'",
     "output_type": "error",
     "traceback": [
      "\u001b[1;31m---------------------------------------------------------------------------\u001b[0m",
      "\u001b[1;31mAttributeError\u001b[0m                            Traceback (most recent call last)",
      "Input \u001b[1;32mIn [132]\u001b[0m, in \u001b[0;36m<cell line: 5>\u001b[1;34m()\u001b[0m\n\u001b[0;32m      3\u001b[0m df_march_new_user \u001b[38;5;241m=\u001b[39m spark\u001b[38;5;241m.\u001b[39msql(\u001b[38;5;124m\"\u001b[39m\u001b[38;5;124mselect \u001b[39m\u001b[38;5;124m'\u001b[39m\u001b[38;5;124m2020-03\u001b[39m\u001b[38;5;124m'\u001b[39m\u001b[38;5;124m as time_period,user_id FROM fb2 where march not in (select february from fb2) \u001b[39m\u001b[38;5;124m\"\u001b[39m)\u001b[38;5;241m.\u001b[39mshow(\u001b[38;5;241m50\u001b[39m)\n\u001b[0;32m      4\u001b[0m df_april_new_user \u001b[38;5;241m=\u001b[39m spark\u001b[38;5;241m.\u001b[39msql(\u001b[38;5;124m\"\u001b[39m\u001b[38;5;124mselect \u001b[39m\u001b[38;5;124m'\u001b[39m\u001b[38;5;124m2020-04\u001b[39m\u001b[38;5;124m'\u001b[39m\u001b[38;5;124m as time_period,user_id FROM fb2 where march not in (select april from fb2) \u001b[39m\u001b[38;5;124m\"\u001b[39m)\u001b[38;5;241m.\u001b[39mshow(\u001b[38;5;241m50\u001b[39m)\n\u001b[1;32m----> 5\u001b[0m df_merged \u001b[38;5;241m=\u001b[39m \u001b[43mdf_feb_new_user\u001b[49m\u001b[38;5;241;43m.\u001b[39;49m\u001b[43munion\u001b[49m(df_march_new_user)\u001b[38;5;241m.\u001b[39munion(df_april_new_user)\u001b[38;5;241m.\u001b[39mshow(\u001b[38;5;241m50\u001b[39m)\n",
      "\u001b[1;31mAttributeError\u001b[0m: 'NoneType' object has no attribute 'union'"
     ]
    }
   ],
   "source": [
    "df_existing_user.createOrReplaceTempView(\"fb2\")\n",
    "df_feb_new_user = spark.sql(\"select '2020-02' as time_period,user_id FROM fb2 where february!='In-Active'\").show(50)\n",
    "df_march_new_user = spark.sql(\"select '2020-03' as time_period,user_id FROM fb2 where march not in (select february from fb2) \").show(50)\n",
    "df_april_new_user = spark.sql(\"select '2020-04' as time_period,user_id FROM fb2 where march not in (select april from fb2) \").show(50)\n",
    "df_merged = df_feb_new_user.union(df_march_new_user).union(df_april_new_user).show(50)\n",
    "#df_new_user_count = df_merged.groupBy('period').count().show()"
   ]
  },
  {
   "cell_type": "code",
   "execution_count": null,
   "id": "3e0c38d2",
   "metadata": {},
   "outputs": [],
   "source": []
  }
 ],
 "metadata": {
  "kernelspec": {
   "display_name": "Python 3 (ipykernel)",
   "language": "python",
   "name": "python3"
  },
  "language_info": {
   "codemirror_mode": {
    "name": "ipython",
    "version": 3
   },
   "file_extension": ".py",
   "mimetype": "text/x-python",
   "name": "python",
   "nbconvert_exporter": "python",
   "pygments_lexer": "ipython3",
   "version": "3.9.7"
  }
 },
 "nbformat": 4,
 "nbformat_minor": 5
}
