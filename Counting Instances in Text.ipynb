{
 "cells": [
  {
   "cell_type": "code",
   "execution_count": 23,
   "id": "17f2d727",
   "metadata": {},
   "outputs": [],
   "source": [
    "from pyspark.sql import SparkSession\n",
    "from pyspark.sql import functions as F\n",
    "from pyspark.sql.window import Window\n",
    "from pyspark.sql.functions import split,lit\n",
    "from pyspark.sql.types import StructType, StructField, StringType"
   ]
  },
  {
   "cell_type": "code",
   "execution_count": 14,
   "id": "c35f1864",
   "metadata": {},
   "outputs": [],
   "source": [
    "spark = SparkSession.builder.appName('Counting Instances in Text').getOrCreate()"
   ]
  },
  {
   "cell_type": "code",
   "execution_count": 25,
   "id": "956a32b0",
   "metadata": {},
   "outputs": [],
   "source": [
    "df_input = spark.read.options(header='True', InferSchema='True').csv('google_file_store.csv')\n",
    "#df_input.show()"
   ]
  },
  {
   "cell_type": "code",
   "execution_count": 26,
   "id": "36459855",
   "metadata": {},
   "outputs": [],
   "source": [
    "bull_count = df_input.filter(df_input.contents.contains('bull')).count()\n",
    "bear_count = df_input.filter(df_input.contents.contains('bear')).count()"
   ]
  },
  {
   "cell_type": "code",
   "execution_count": 40,
   "id": "edea226f",
   "metadata": {},
   "outputs": [
    {
     "name": "stdout",
     "output_type": "stream",
     "text": [
      "bull_count: 3\n",
      "bear_count: 2\n"
     ]
    }
   ],
   "source": [
    "print(\"bull_count:\", bull_count)\n",
    "print(\"bear_count:\", bear_count)"
   ]
  },
  {
   "cell_type": "code",
   "execution_count": null,
   "id": "8726bcf4",
   "metadata": {},
   "outputs": [],
   "source": []
  }
 ],
 "metadata": {
  "kernelspec": {
   "display_name": "Python 3 (ipykernel)",
   "language": "python",
   "name": "python3"
  },
  "language_info": {
   "codemirror_mode": {
    "name": "ipython",
    "version": 3
   },
   "file_extension": ".py",
   "mimetype": "text/x-python",
   "name": "python",
   "nbconvert_exporter": "python",
   "pygments_lexer": "ipython3",
   "version": "3.9.7"
  }
 },
 "nbformat": 4,
 "nbformat_minor": 5
}
