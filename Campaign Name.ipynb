{
 "cells": [
  {
   "cell_type": "code",
   "execution_count": 4,
   "id": "23c5bc2f",
   "metadata": {},
   "outputs": [],
   "source": [
    "from pyspark.sql import SparkSession\n",
    "from pyspark.sql.functions import col,lit"
   ]
  },
  {
   "cell_type": "code",
   "execution_count": 5,
   "id": "6ad1bc2c",
   "metadata": {},
   "outputs": [],
   "source": [
    "spark = SparkSession.builder.master('local').appName('Campaign Name').getOrCreate()"
   ]
  },
  {
   "cell_type": "code",
   "execution_count": 6,
   "id": "3604267b",
   "metadata": {},
   "outputs": [
    {
     "data": {
      "text/plain": [
       "387567"
      ]
     },
     "execution_count": 6,
     "metadata": {},
     "output_type": "execute_result"
    }
   ],
   "source": [
    "df_input = spark.read.options(header='True', InferSchema='True',  quote = \"\\\"\", escape = \"\\\"\").csv('events.csv')\n",
    "df_input.count()"
   ]
  },
  {
   "cell_type": "code",
   "execution_count": 7,
   "id": "7c7d5e67",
   "metadata": {},
   "outputs": [],
   "source": [
    "##filtering out following events(app_lauch,add_to_cart,create_order,payment_suceess)\n",
    "df_event_app_launch = df_input.filter(col('event_name') == 'app_launch').selectExpr('city','event_name','campaign','customer_user_id').orderBy('city').distinct()\n",
    "df_event_add_to_cart = df_input.filter(col('event_name') == 'add_to_cart').selectExpr('city','event_name','campaign','customer_user_id').orderBy('city').distinct()\n",
    "df_event_create_order = df_input.filter(col('event_name') == 'create_order').selectExpr('city','event_name','campaign','customer_user_id').orderBy('city').distinct()\n",
    "df_event_payment_success = df_input.filter(col('event_name') == 'payment_success').selectExpr('city','event_name','campaign','customer_user_id').orderBy('city').distinct()\n",
    "#df_event_app_launch.count()\n",
    "#df_event_add_to_cart.count()\n",
    "#df_event_create_order.count()\n",
    "#df_event_payment_success.count()\n"
   ]
  },
  {
   "cell_type": "code",
   "execution_count": 12,
   "id": "d6c9002c",
   "metadata": {},
   "outputs": [
    {
     "name": "stdout",
     "output_type": "stream",
     "text": [
      "+---------+----------+--------------------+---------------+\n",
      "|  al_city|event_name|            campaign|app_lauch_count|\n",
      "+---------+----------+--------------------+---------------+\n",
      "|Hyderabad|app_launch|                None|             17|\n",
      "|Hyderabad|app_launch|App Purchase_iOS_HYD|             21|\n",
      "|Hyderabad|app_launch|Newspaper Inserts...|              1|\n",
      "|Hyderabad|app_launch|                  NA|           1457|\n",
      "|Hyderabad|app_launch|ET-007-App-Purcha...|            196|\n",
      "|Hyderabad|app_launch|App Installs_iOS_HYD|            141|\n",
      "|Hyderabad|app_launch|ET-006-TOF-Broad-...|              2|\n",
      "|Hyderabad|app_launch|Founders Notes - ...|              1|\n",
      "|Hyderabad|app_launch|App Installs_Andr...|            319|\n",
      "|Hyderabad|app_launch|ET-003-TOF-LAL-Pu...|              1|\n",
      "|Hyderabad|app_launch|Womens Day SMS ca...|              1|\n",
      "|Hyderabad|app_launch|Womens Day SMS ca...|              6|\n",
      "|Hyderabad|app_launch|ET-001-App-Purcha...|            940|\n",
      "|Hyderabad|app_launch|Feb 2021 Install ...|              6|\n",
      "|Hyderabad|app_launch|App Installs_iOS_BLR|              2|\n",
      "|Hyderabad|app_launch|TimesofIndia_BLRT...|              2|\n",
      "|Hyderabad|app_launch|App Purchase_Andr...|              8|\n",
      "|Hyderabad|app_launch|ET-008-App Instal...|             15|\n",
      "|Hyderabad|app_launch|UrbanPiper Invite...|              4|\n",
      "|Hyderabad|app_launch|ET-004-TOF-LAL-Pu...|            270|\n",
      "|Hyderabad|app_launch|TOI_BangaloreTime...|              1|\n",
      "|Hyderabad|app_launch|Website Download ...|             96|\n",
      "|Hyderabad|app_launch|ET-005-ATC-Androi...|              2|\n",
      "|Hyderabad|app_launch|DR UP Download Ca...|             39|\n",
      "|Hyderabad|app_launch|TOI_BLRTIMES_DR25...|             22|\n",
      "|Hyderabad|app_launch|TOI_HYDTIMES_Mang...|             24|\n",
      "|Hyderabad|app_launch|ET-013-ATC-Androi...|              4|\n",
      "|Hyderabad|app_launch|App Purchase_iOS_BLR|              1|\n",
      "|Hyderabad|app_launch|         13564801359|              1|\n",
      "|Hyderabad|app_launch|    28-feb-sms-blast|              3|\n",
      "|Hyderabad|app_launch|Hyd TOI Advertori...|              7|\n",
      "|Hyderabad|app_launch|         13706962689|              2|\n",
      "|Hyderabad|app_launch|ET-010-App Instal...|             24|\n",
      "|Hyderabad|app_launch|ET-008-TOF-Intere...|             44|\n",
      "|Hyderabad|app_launch|Deep Rooted Hyder...|              3|\n",
      "|Hyderabad|app_launch|App Installs_Andr...|              4|\n",
      "|Hyderabad|app_launch|App Purchase_Andr...|              1|\n",
      "|Hyderabad|app_launch|TOI_HydTimes_Comm...|             24|\n",
      "|Hyderabad|app_launch|ET-007-TOF-Intere...|              1|\n",
      "|Hyderabad|app_launch|ET-005-TOF-Broad-...|            146|\n",
      "|Hyderabad|app_launch|         13706600298|              5|\n",
      "|Hyderabad|app_launch|TOI_HYDTimes_100%...|             17|\n",
      "|Hyderabad|app_launch|ET-002-TOF-Broad-...|             24|\n",
      "+---------+----------+--------------------+---------------+\n",
      "\n"
     ]
    }
   ],
   "source": [
    "##taking count of each event based on city\n",
    "df_event_app_launch.createOrReplaceTempView(\"app_lauch\")\n",
    "df_event_add_to_cart.createOrReplaceTempView(\"add_to_cart\")\n",
    "df_event_create_order.createOrReplaceTempView(\"create_order\")\n",
    "df_event_payment_success.createOrReplaceTempView(\"payment_success\")\n",
    "df_event_count_app_launch = spark.sql(\"select city as al_city,event_name,campaign,count(*) as app_lauch_count from  app_lauch where city='Hyderabad' group by city,event_name,campaign order by city,event_name \")\n",
    "df_event_count_add_to_cart = spark.sql(\"select city atc_city ,event_name,count(*) as add_to_cart_count from  add_to_cart where city='Hyderabad' group by city,event_name order by city,event_name \")\n",
    "df_event_count_create_order = spark.sql(\"select city as co_city,event_name,count(*) as create_order_count from  create_order where city='Hyderabad' group by city,event_name order by city,event_name \")\n",
    "df_event_count_payment_success = spark.sql(\"select city as ps_city,event_name,count(*) as payment_success_count from  payment_success where city='Hyderabad' group by city,event_name order by city,event_name \")\n",
    "\n",
    "df_event_count_app_launch.show(43)"
   ]
  },
  {
   "cell_type": "code",
   "execution_count": 254,
   "id": "a1328c2f",
   "metadata": {},
   "outputs": [],
   "source": [
    "##merging above datasets and dispalying count values\n",
    "df_merged = df_event_count_app_launch.join(df_event_count_add_to_cart, df_event_count_app_launch.al_city == df_event_count_add_to_cart.atc_city, 'inner').join(df_event_count_create_order, df_event_count_app_launch.al_city == df_event_count_create_order.co_city, 'inner').join(df_event_count_payment_success, df_event_count_app_launch.al_city == df_event_count_payment_success.ps_city, 'inner').selectExpr('al_city','app_lauch_count','add_to_cart_count','create_order_count','payment_success_count')\n",
    "#df_merged.show()"
   ]
  },
  {
   "cell_type": "code",
   "execution_count": 255,
   "id": "9bf75e72",
   "metadata": {},
   "outputs": [
    {
     "data": {
      "text/plain": [
       "0.5115692048801009"
      ]
     },
     "execution_count": 255,
     "metadata": {},
     "output_type": "execute_result"
    }
   ],
   "source": [
    "1216/2377"
   ]
  },
  {
   "cell_type": "code",
   "execution_count": 256,
   "id": "6a6b68bc",
   "metadata": {},
   "outputs": [
    {
     "data": {
      "text/plain": [
       "(0.5121638924455826, 0.33418693982074266, 0.23201024327784892)"
      ]
     },
     "execution_count": 256,
     "metadata": {},
     "output_type": "execute_result"
    }
   ],
   "source": [
    "2000/3905 , 1305/3905, 906/3905"
   ]
  },
  {
   "cell_type": "code",
   "execution_count": null,
   "id": "be1ce3cd",
   "metadata": {},
   "outputs": [],
   "source": [
    "df_merged"
   ]
  },
  {
   "cell_type": "code",
   "execution_count": 257,
   "id": "ab89c062",
   "metadata": {},
   "outputs": [],
   "source": [
    "##to convert into percentage\n",
    "df_merged_percentage = df_merged.withColumn(\"app_lauch_percentage\", lit(100))\n",
    "df_merged_percentage = df_merged_percentage.withColumn(\"add_to_cart_percentage\", (col('add_to_cart_count')/ col('app_lauch_count')) *100 )\n",
    "df_merged_percentage = df_merged_percentage.withColumn(\"create_order_percentage\", (col('create_order_count')/ col('app_lauch_count')) *100 )\n",
    "df_merged_percentage = df_merged_percentage.withColumn(\"payment_success_percentage\", (col('payment_success_count')/ col('app_lauch_count')) *100 )\n",
    "#df_merged_percentage.show()"
   ]
  },
  {
   "cell_type": "code",
   "execution_count": 258,
   "id": "705abae7",
   "metadata": {},
   "outputs": [
    {
     "name": "stdout",
     "output_type": "stream",
     "text": [
      "+---------+----------+--------------------+--------------------+--------------------+\n",
      "|     city| app_lauch|         add_to_cart|        create_order|     payment_success|\n",
      "+---------+----------+--------------------+--------------------+--------------------+\n",
      "|Hyderabad|3905(100)%|2000(51.216389244...|1305(33.418693982...|906(23.2010243277...|\n",
      "+---------+----------+--------------------+--------------------+--------------------+\n",
      "\n"
     ]
    }
   ],
   "source": [
    "##formatting based on the required output\n",
    "df_merged_percentage.createOrReplaceTempView(\"event_master_table\")\n",
    "df_output = spark.sql(\"select  al_city as city ,concat(app_lauch_count, '(', app_lauch_percentage, ')%') as app_lauch,concat(add_to_cart_count, '(', add_to_cart_percentage, ')%') as add_to_cart,concat(create_order_count, '(', create_order_percentage, ')%') as create_order, concat(payment_success_count, '(', payment_success_percentage, ')%') as payment_success from  event_master_table\")\n",
    "df_output.show()"
   ]
  },
  {
   "cell_type": "code",
   "execution_count": null,
   "id": "62eccd64",
   "metadata": {},
   "outputs": [],
   "source": []
  }
 ],
 "metadata": {
  "kernelspec": {
   "display_name": "Python 3 (ipykernel)",
   "language": "python",
   "name": "python3"
  },
  "language_info": {
   "codemirror_mode": {
    "name": "ipython",
    "version": 3
   },
   "file_extension": ".py",
   "mimetype": "text/x-python",
   "name": "python",
   "nbconvert_exporter": "python",
   "pygments_lexer": "ipython3",
   "version": "3.9.7"
  }
 },
 "nbformat": 4,
 "nbformat_minor": 5
}
