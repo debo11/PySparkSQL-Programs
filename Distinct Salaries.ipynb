{
 "cells": [
  {
   "cell_type": "code",
   "execution_count": 1,
   "id": "9b6d83e4",
   "metadata": {},
   "outputs": [],
   "source": [
    "from pyspark.sql import SparkSession\n",
    "from pyspark.sql.functions import col"
   ]
  },
  {
   "cell_type": "code",
   "execution_count": 2,
   "id": "7924a388",
   "metadata": {},
   "outputs": [],
   "source": [
    "spark = SparkSession.builder.appName('Distinct Salaries').getOrCreate()"
   ]
  },
  {
   "cell_type": "code",
   "execution_count": 3,
   "id": "8c320590",
   "metadata": {},
   "outputs": [
    {
     "name": "stdout",
     "output_type": "stream",
     "text": [
      "+---+----------+---------+---+---+--------------+----------+------+------+-----+--------------------+----------+-------+----------+\n",
      "| id|first_name|last_name|age|sex|employee_title|department|salary|target|bonus|               email|      city|address|manager_id|\n",
      "+---+----------+---------+---+---+--------------+----------+------+------+-----+--------------------+----------+-------+----------+\n",
      "|  1|     Allen|     Wang| 55|  F|       Manager|Management|200000|     0|  300|   Allen@company.com|California|   23St|         1|\n",
      "| 13|     Katty|     Bond| 56|  F|       Manager|Management|150000|     0|  300|   Katty@company.com|   Arizona|   null|         1|\n",
      "| 19|    George|      Joe| 50|  M|       Manager|Management|100000|     0|  300|  George@company.com|   Florida|   26St|         1|\n",
      "| 11|   Richerd|     Gear| 57|  M|       Manager|Management|250000|     0|  300| Richerd@company.com|   Alabama|   null|         1|\n",
      "| 10|  Jennifer|     Dion| 34|  F|         Sales|     Sales|100000|   200|  150|Jennifer@company.com|   Alabama|   null|        13|\n",
      "| 18|     Laila|     Mark| 26|  F|         Sales|     Sales|100000|   200|  150|   Laila@company.com|   Florida|   23St|        11|\n",
      "| 20|    Sarrah|    Bicky| 31|  F|  Senior Sales|     Sales|200000|   200|  150|  Sarrah@company.com|   Florida|   53St|        19|\n",
      "| 21|     Suzan|      Lee| 34|  F|         Sales|     Sales|130000|   200|  150|   Suzan@company.com|   Florida|   56St|        19|\n",
      "| 22|     Mandy|     John| 31|  F|         Sales|     Sales|130000|   200|  150|   Mandy@company.com|   Florida|   45St|        19|\n",
      "| 23|   Britney|    Berry| 45|  F|         Sales|     Sales|120000|   200|  100| Britney@company.com|   Florida|   86St|        19|\n",
      "+---+----------+---------+---+---+--------------+----------+------+------+-----+--------------------+----------+-------+----------+\n",
      "only showing top 10 rows\n",
      "\n"
     ]
    }
   ],
   "source": [
    "df_input = spark.read.options(header='True', InferSchema='True').csv('twitter_employee.csv')\n",
    "df_input.show(10)"
   ]
  },
  {
   "cell_type": "code",
   "execution_count": 12,
   "id": "63d28afb",
   "metadata": {},
   "outputs": [
    {
     "name": "stdout",
     "output_type": "stream",
     "text": [
      "+----------+------+\n",
      "|department|salary|\n",
      "+----------+------+\n",
      "|     Audit|110000|\n",
      "|     Audit|100000|\n",
      "|     Audit| 70000|\n",
      "|Management|250000|\n",
      "|Management|200000|\n",
      "|Management|150000|\n",
      "|     Sales|220000|\n",
      "|     Sales|200000|\n",
      "|     Sales|150000|\n",
      "+----------+------+\n",
      "\n"
     ]
    }
   ],
   "source": [
    "df_input.createOrReplaceTempView('log')\n",
    "df_top_three_salaries = spark.sql(\"select department,salary from (select department,salary,DENSE_RANK() OVER(partition by department order by salary desc) as rnk from log)tmp where rnk<=3\")\n",
    "df_top_three_salaries.orderBy('department').distinct().show()"
   ]
  },
  {
   "cell_type": "code",
   "execution_count": null,
   "id": "eb1a4517",
   "metadata": {},
   "outputs": [],
   "source": []
  }
 ],
 "metadata": {
  "kernelspec": {
   "display_name": "Python 3 (ipykernel)",
   "language": "python",
   "name": "python3"
  },
  "language_info": {
   "codemirror_mode": {
    "name": "ipython",
    "version": 3
   },
   "file_extension": ".py",
   "mimetype": "text/x-python",
   "name": "python",
   "nbconvert_exporter": "python",
   "pygments_lexer": "ipython3",
   "version": "3.9.7"
  }
 },
 "nbformat": 4,
 "nbformat_minor": 5
}
