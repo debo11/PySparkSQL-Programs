{
 "cells": [
  {
   "cell_type": "code",
   "execution_count": 2,
   "id": "ab74570c",
   "metadata": {},
   "outputs": [],
   "source": [
    "import pandas as pd"
   ]
  },
  {
   "cell_type": "code",
   "execution_count": 3,
   "id": "78aa0d5a",
   "metadata": {},
   "outputs": [
    {
     "name": "stdout",
     "output_type": "stream",
     "text": [
      "Requirement already satisfied: openpyxl in c:\\users\\debashishc\\appdata\\local\\programs\\python\\python39\\lib\\site-packages (3.0.10)Note: you may need to restart the kernel to use updated packages.\n",
      "\n",
      "Requirement already satisfied: et-xmlfile in c:\\users\\debashishc\\appdata\\local\\programs\\python\\python39\\lib\\site-packages (from openpyxl) (1.1.0)\n"
     ]
    },
    {
     "name": "stderr",
     "output_type": "stream",
     "text": [
      "WARNING: You are using pip version 21.2.3; however, version 22.2.2 is available.\n",
      "You should consider upgrading via the 'C:\\Users\\debashishc\\AppData\\Local\\Programs\\Python\\Python39\\python.exe -m pip install --upgrade pip' command.\n"
     ]
    }
   ],
   "source": [
    "pip install openpyxl\n"
   ]
  },
  {
   "cell_type": "code",
   "execution_count": 131,
   "id": "07e7fd56",
   "metadata": {},
   "outputs": [
    {
     "name": "stdout",
     "output_type": "stream",
     "text": [
      "Collecting fastparquetNote: you may need to restart the kernel to use updated packages.\n"
     ]
    },
    {
     "name": "stderr",
     "output_type": "stream",
     "text": [
      "WARNING: You are using pip version 21.2.3; however, version 22.2.2 is available.\n",
      "You should consider upgrading via the 'C:\\Users\\debashishc\\AppData\\Local\\Programs\\Python\\Python39\\python.exe -m pip install --upgrade pip' command.\n"
     ]
    },
    {
     "name": "stdout",
     "output_type": "stream",
     "text": [
      "\n",
      "  Downloading fastparquet-0.8.3-cp39-cp39-win_amd64.whl (605 kB)\n",
      "Requirement already satisfied: numpy>=1.18 in c:\\users\\debashishc\\appdata\\local\\programs\\python\\python39\\lib\\site-packages (from fastparquet) (1.22.3)\n",
      "Requirement already satisfied: packaging in c:\\users\\debashishc\\appdata\\local\\programs\\python\\python39\\lib\\site-packages (from fastparquet) (21.3)\n",
      "Requirement already satisfied: pandas>=1.1.0 in c:\\users\\debashishc\\appdata\\local\\programs\\python\\python39\\lib\\site-packages (from fastparquet) (1.4.2)\n",
      "Collecting fsspec\n",
      "  Using cached fsspec-2022.8.2-py3-none-any.whl (140 kB)\n",
      "Collecting cramjam>=2.3.0\n",
      "  Downloading cramjam-2.5.0-cp39-none-win_amd64.whl (993 kB)\n",
      "Requirement already satisfied: python-dateutil>=2.8.1 in c:\\users\\debashishc\\appdata\\local\\programs\\python\\python39\\lib\\site-packages (from pandas>=1.1.0->fastparquet) (2.8.2)\n",
      "Requirement already satisfied: pytz>=2020.1 in c:\\users\\debashishc\\appdata\\local\\programs\\python\\python39\\lib\\site-packages (from pandas>=1.1.0->fastparquet) (2022.1)\n",
      "Requirement already satisfied: six>=1.5 in c:\\users\\debashishc\\appdata\\local\\programs\\python\\python39\\lib\\site-packages (from python-dateutil>=2.8.1->pandas>=1.1.0->fastparquet) (1.16.0)\n",
      "Requirement already satisfied: pyparsing!=3.0.5,>=2.0.2 in c:\\users\\debashishc\\appdata\\local\\programs\\python\\python39\\lib\\site-packages (from packaging->fastparquet) (3.0.9)\n",
      "Installing collected packages: fsspec, cramjam, fastparquet\n",
      "Successfully installed cramjam-2.5.0 fastparquet-0.8.3 fsspec-2022.8.2\n"
     ]
    }
   ],
   "source": [
    "pip install fastparquet"
   ]
  },
  {
   "cell_type": "code",
   "execution_count": 4,
   "id": "e8c84cfe",
   "metadata": {},
   "outputs": [
    {
     "name": "stdout",
     "output_type": "stream",
     "text": [
      "Requirement already satisfied: xlsxwriter in c:\\users\\debashishc\\appdata\\local\\programs\\python\\python39\\lib\\site-packages (3.0.3)\n",
      "Note: you may need to restart the kernel to use updated packages.\n"
     ]
    },
    {
     "name": "stderr",
     "output_type": "stream",
     "text": [
      "WARNING: You are using pip version 21.2.3; however, version 22.2.2 is available.\n",
      "You should consider upgrading via the 'C:\\Users\\debashishc\\AppData\\Local\\Programs\\Python\\Python39\\python.exe -m pip install --upgrade pip' command.\n"
     ]
    }
   ],
   "source": [
    "pip install xlsxwriter"
   ]
  },
  {
   "cell_type": "code",
   "execution_count": 185,
   "id": "ca7b90e5",
   "metadata": {},
   "outputs": [
    {
     "data": {
      "text/plain": [
       "date_reported          710581\n",
       "uuid                   710581\n",
       "nbfc_name              710581\n",
       "date_opened            710581\n",
       "latest_payment_date    693797\n",
       "sanctioned_amount      671205\n",
       "user_level_dpd          11536\n",
       "nbfc_user_level_dpd     11259\n",
       "current_balance        710581\n",
       "overdue_balance        416593\n",
       "dtype: int64"
      ]
     },
     "execution_count": 185,
     "metadata": {},
     "output_type": "execute_result"
    }
   ],
   "source": [
    "df = pd.read_csv(\"bureau_reporting_july_31_conversion.csv\")\n",
    "df = df[df['nbfc_name'].notnull()]\n",
    "df = df.query(\"nbfc_name != 'quadrillion'\")\n",
    "df = df.convert_dtypes()\n",
    "df.count()"
   ]
  },
  {
   "cell_type": "code",
   "execution_count": 186,
   "id": "6481d5dc",
   "metadata": {},
   "outputs": [
    {
     "data": {
      "text/html": [
       "<div>\n",
       "<style scoped>\n",
       "    .dataframe tbody tr th:only-of-type {\n",
       "        vertical-align: middle;\n",
       "    }\n",
       "\n",
       "    .dataframe tbody tr th {\n",
       "        vertical-align: top;\n",
       "    }\n",
       "\n",
       "    .dataframe thead th {\n",
       "        text-align: right;\n",
       "    }\n",
       "</style>\n",
       "<table border=\"1\" class=\"dataframe\">\n",
       "  <thead>\n",
       "    <tr style=\"text-align: right;\">\n",
       "      <th></th>\n",
       "      <th>date_reported</th>\n",
       "      <th>uuid</th>\n",
       "      <th>date_opened</th>\n",
       "      <th>latest_payment_date</th>\n",
       "      <th>sanctioned_amount</th>\n",
       "      <th>user_level_dpd</th>\n",
       "      <th>nbfc_user_level_dpd</th>\n",
       "      <th>current_balance</th>\n",
       "      <th>overdue_balance</th>\n",
       "    </tr>\n",
       "    <tr>\n",
       "      <th>nbfc_name</th>\n",
       "      <th></th>\n",
       "      <th></th>\n",
       "      <th></th>\n",
       "      <th></th>\n",
       "      <th></th>\n",
       "      <th></th>\n",
       "      <th></th>\n",
       "      <th></th>\n",
       "      <th></th>\n",
       "    </tr>\n",
       "  </thead>\n",
       "  <tbody>\n",
       "    <tr>\n",
       "      <th>aphelion</th>\n",
       "      <td>108062</td>\n",
       "      <td>108062</td>\n",
       "      <td>108062</td>\n",
       "      <td>105562</td>\n",
       "      <td>95278</td>\n",
       "      <td>129</td>\n",
       "      <td>129</td>\n",
       "      <td>108062</td>\n",
       "      <td>129</td>\n",
       "    </tr>\n",
       "    <tr>\n",
       "      <th>cash_suvidha</th>\n",
       "      <td>990</td>\n",
       "      <td>990</td>\n",
       "      <td>990</td>\n",
       "      <td>990</td>\n",
       "      <td>762</td>\n",
       "      <td>0</td>\n",
       "      <td>0</td>\n",
       "      <td>990</td>\n",
       "      <td>0</td>\n",
       "    </tr>\n",
       "    <tr>\n",
       "      <th>chaitanya</th>\n",
       "      <td>44224</td>\n",
       "      <td>44224</td>\n",
       "      <td>44224</td>\n",
       "      <td>44213</td>\n",
       "      <td>34000</td>\n",
       "      <td>419</td>\n",
       "      <td>419</td>\n",
       "      <td>44224</td>\n",
       "      <td>419</td>\n",
       "    </tr>\n",
       "    <tr>\n",
       "      <th>dmi</th>\n",
       "      <td>374269</td>\n",
       "      <td>374269</td>\n",
       "      <td>374269</td>\n",
       "      <td>362210</td>\n",
       "      <td>366150</td>\n",
       "      <td>7857</td>\n",
       "      <td>7626</td>\n",
       "      <td>374269</td>\n",
       "      <td>311740</td>\n",
       "    </tr>\n",
       "    <tr>\n",
       "      <th>dmi_ifund</th>\n",
       "      <td>6665</td>\n",
       "      <td>6665</td>\n",
       "      <td>6665</td>\n",
       "      <td>6665</td>\n",
       "      <td>5600</td>\n",
       "      <td>1</td>\n",
       "      <td>1</td>\n",
       "      <td>6665</td>\n",
       "      <td>1</td>\n",
       "    </tr>\n",
       "    <tr>\n",
       "      <th>faircent</th>\n",
       "      <td>28023</td>\n",
       "      <td>28023</td>\n",
       "      <td>28023</td>\n",
       "      <td>28016</td>\n",
       "      <td>27953</td>\n",
       "      <td>5</td>\n",
       "      <td>5</td>\n",
       "      <td>28023</td>\n",
       "      <td>5</td>\n",
       "    </tr>\n",
       "    <tr>\n",
       "      <th>garage</th>\n",
       "      <td>10406</td>\n",
       "      <td>10406</td>\n",
       "      <td>10406</td>\n",
       "      <td>10406</td>\n",
       "      <td>8549</td>\n",
       "      <td>3</td>\n",
       "      <td>3</td>\n",
       "      <td>10406</td>\n",
       "      <td>3</td>\n",
       "    </tr>\n",
       "    <tr>\n",
       "      <th>ifund</th>\n",
       "      <td>19189</td>\n",
       "      <td>19189</td>\n",
       "      <td>19189</td>\n",
       "      <td>19188</td>\n",
       "      <td>14160</td>\n",
       "      <td>15</td>\n",
       "      <td>15</td>\n",
       "      <td>19189</td>\n",
       "      <td>15</td>\n",
       "    </tr>\n",
       "    <tr>\n",
       "      <th>nacl</th>\n",
       "      <td>56843</td>\n",
       "      <td>56843</td>\n",
       "      <td>56843</td>\n",
       "      <td>56241</td>\n",
       "      <td>56843</td>\n",
       "      <td>1390</td>\n",
       "      <td>1350</td>\n",
       "      <td>56843</td>\n",
       "      <td>55649</td>\n",
       "    </tr>\n",
       "    <tr>\n",
       "      <th>vivriti</th>\n",
       "      <td>61910</td>\n",
       "      <td>61910</td>\n",
       "      <td>61910</td>\n",
       "      <td>60306</td>\n",
       "      <td>61910</td>\n",
       "      <td>1717</td>\n",
       "      <td>1711</td>\n",
       "      <td>61910</td>\n",
       "      <td>48632</td>\n",
       "    </tr>\n",
       "  </tbody>\n",
       "</table>\n",
       "</div>"
      ],
      "text/plain": [
       "              date_reported    uuid  date_opened  latest_payment_date  \\\n",
       "nbfc_name                                                               \n",
       "aphelion             108062  108062       108062               105562   \n",
       "cash_suvidha            990     990          990                  990   \n",
       "chaitanya             44224   44224        44224                44213   \n",
       "dmi                  374269  374269       374269               362210   \n",
       "dmi_ifund              6665    6665         6665                 6665   \n",
       "faircent              28023   28023        28023                28016   \n",
       "garage                10406   10406        10406                10406   \n",
       "ifund                 19189   19189        19189                19188   \n",
       "nacl                  56843   56843        56843                56241   \n",
       "vivriti               61910   61910        61910                60306   \n",
       "\n",
       "              sanctioned_amount  user_level_dpd  nbfc_user_level_dpd  \\\n",
       "nbfc_name                                                              \n",
       "aphelion                  95278             129                  129   \n",
       "cash_suvidha                762               0                    0   \n",
       "chaitanya                 34000             419                  419   \n",
       "dmi                      366150            7857                 7626   \n",
       "dmi_ifund                  5600               1                    1   \n",
       "faircent                  27953               5                    5   \n",
       "garage                     8549               3                    3   \n",
       "ifund                     14160              15                   15   \n",
       "nacl                      56843            1390                 1350   \n",
       "vivriti                   61910            1717                 1711   \n",
       "\n",
       "              current_balance  overdue_balance  \n",
       "nbfc_name                                       \n",
       "aphelion               108062              129  \n",
       "cash_suvidha              990                0  \n",
       "chaitanya               44224              419  \n",
       "dmi                    374269           311740  \n",
       "dmi_ifund                6665                1  \n",
       "faircent                28023                5  \n",
       "garage                  10406                3  \n",
       "ifund                   19189               15  \n",
       "nacl                    56843            55649  \n",
       "vivriti                 61910            48632  "
      ]
     },
     "execution_count": 186,
     "metadata": {},
     "output_type": "execute_result"
    }
   ],
   "source": [
    "df.groupby('nbfc_name').count()"
   ]
  },
  {
   "cell_type": "code",
   "execution_count": 172,
   "id": "3ddb1729",
   "metadata": {},
   "outputs": [
    {
     "data": {
      "text/plain": [
       "date_reported           string\n",
       "uuid                    string\n",
       "nbfc_name               string\n",
       "date_opened             string\n",
       "latest_payment_date     string\n",
       "sanctioned_amount        Int64\n",
       "user_level_dpd           Int64\n",
       "nbfc_user_level_dpd      Int64\n",
       "current_balance        Float64\n",
       "overdue_balance          Int64\n",
       "dtype: object"
      ]
     },
     "execution_count": 172,
     "metadata": {},
     "output_type": "execute_result"
    }
   ],
   "source": [
    "df.dtypes"
   ]
  },
  {
   "cell_type": "code",
   "execution_count": 159,
   "id": "3cc12fa6",
   "metadata": {},
   "outputs": [
    {
     "data": {
      "text/plain": [
       "<StringArray>\n",
       "[         'dmi',         'nacl',       'garage',     'aphelion',\n",
       "      'vivriti',    'chaitanya',     'faircent',        'ifund',\n",
       "    'dmi_ifund', 'cash_suvidha']\n",
       "Length: 10, dtype: string"
      ]
     },
     "execution_count": 159,
     "metadata": {},
     "output_type": "execute_result"
    }
   ],
   "source": [
    "df['nbfc_name'].unique()"
   ]
  },
  {
   "cell_type": "code",
   "execution_count": 160,
   "id": "7ebf6713",
   "metadata": {},
   "outputs": [
    {
     "name": "stdout",
     "output_type": "stream",
     "text": [
      "dmi\n",
      "nacl\n",
      "garage\n",
      "aphelion\n",
      "vivriti\n",
      "chaitanya\n",
      "faircent\n",
      "ifund\n",
      "dmi_ifund\n",
      "cash_suvidha\n"
     ]
    }
   ],
   "source": [
    "for name in df['nbfc_name'].unique():\n",
    "    print(name)"
   ]
  },
  {
   "cell_type": "code",
   "execution_count": 187,
   "id": "90cf186f",
   "metadata": {
    "scrolled": false
   },
   "outputs": [],
   "source": [
    "##creating blank template apart from quad\n",
    "writer = pd.ExcelWriter(\"Splitted Bereau Report.xlsx\", engine ='xlsxwriter')\n",
    "for name in df['nbfc_name'].unique():\n",
    "    newDf = df[df['nbfc_name'] == name]\n",
    "    newDf.to_excel(writer, sheet_name = name, index = False)\n",
    "    \n",
    "writer.save()"
   ]
  },
  {
   "cell_type": "code",
   "execution_count": null,
   "id": "692e0d4e",
   "metadata": {},
   "outputs": [],
   "source": [
    "##creating blank template for quadrillion\n",
    "for i in range(3):\n",
    "    sub_df = df.iloc[(i*1000000):((i+1)*1000000)]\n",
    "    sub_df.to_excel(f\"test-{i}.xlsx\", sheet_name=\"a\")"
   ]
  },
  {
   "cell_type": "code",
   "execution_count": null,
   "id": "47ed8de2",
   "metadata": {},
   "outputs": [],
   "source": []
  }
 ],
 "metadata": {
  "kernelspec": {
   "display_name": "Python 3 (ipykernel)",
   "language": "python",
   "name": "python3"
  },
  "language_info": {
   "codemirror_mode": {
    "name": "ipython",
    "version": 3
   },
   "file_extension": ".py",
   "mimetype": "text/x-python",
   "name": "python",
   "nbconvert_exporter": "python",
   "pygments_lexer": "ipython3",
   "version": "3.9.7"
  }
 },
 "nbformat": 4,
 "nbformat_minor": 5
}
