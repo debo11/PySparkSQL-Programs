{
 "cells": [
  {
   "cell_type": "code",
   "execution_count": 12,
   "id": "8e64de44",
   "metadata": {},
   "outputs": [],
   "source": [
    "from pyspark.sql import SparkSession\n",
    "from pyspark.sql.functions import col,substring"
   ]
  },
  {
   "cell_type": "code",
   "execution_count": 3,
   "id": "3fd26309",
   "metadata": {},
   "outputs": [],
   "source": [
    "spark = SparkSession.builder.appName('Distance Per Dollar').getOrCreate()"
   ]
  },
  {
   "cell_type": "code",
   "execution_count": 8,
   "id": "b42fdb0a",
   "metadata": {},
   "outputs": [
    {
     "name": "stdout",
     "output_type": "stream",
     "text": [
      "+----------+------------+--------------+------------------+-------------+-------------------------+\n",
      "|request_id|request_date|request_status|distance_to_travel|monetary_cost|driver_to_client_distance|\n",
      "+----------+------------+--------------+------------------+-------------+-------------------------+\n",
      "|         1|  2020-01-09|       success|             70.59|         6.56|                    14.36|\n",
      "|         2|  2020-01-24|       success|             93.36|        22.68|                     19.9|\n",
      "|         3|  2020-02-08|          fail|             51.24|        11.39|                    21.32|\n",
      "|         4|  2020-02-23|       success|             61.58|         8.04|                    44.26|\n",
      "|         5|  2020-03-09|       success|             25.04|         7.19|                     1.74|\n",
      "+----------+------------+--------------+------------------+-------------+-------------------------+\n",
      "only showing top 5 rows\n",
      "\n"
     ]
    }
   ],
   "source": [
    "df_input = spark.read.options(header='True', InferSchema='True').csv('uber_request_logs.csv')\n",
    "df_input.show(5)"
   ]
  },
  {
   "cell_type": "code",
   "execution_count": 30,
   "id": "a08d16b3",
   "metadata": {},
   "outputs": [],
   "source": [
    "##calculating distance per dollar for everyday\n",
    "df_distance_per_dollar = df_input.withColumn(\"distance_to_cost\",  col('distance_to_travel') / col('monetary_cost')).orderBy('request_date')\n",
    "df_monthly_average = df_distance_per_dollar.withColumn(\"time_period\", substring('request_date', 1,7))\n",
    "df_distance_per_dollar = df_monthly_average.select('request_date','distance_to_cost','time_period')\n",
    "#df_distance_per_dollar.show"
   ]
  },
  {
   "cell_type": "code",
   "execution_count": 31,
   "id": "e8c5e493",
   "metadata": {},
   "outputs": [],
   "source": [
    "##calculating average distance_to_cost based on every month YYYY-MM. will create period column with substing of request_date \n",
    "df_monthly_average = df_distance_per_dollar.withColumn(\"period\", substring('request_date', 1,7))\n",
    "df_monthly_average = df_monthly_average.groupBy('period').avg('distance_to_cost').orderBy('period')\n",
    "df_monthly_average = df_monthly_average.withColumnRenamed(\"avg(distance_to_cost)\", \"avg_distance_to_cost\")\n",
    "#df_monthly_average.show()"
   ]
  },
  {
   "cell_type": "code",
   "execution_count": 34,
   "id": "540aee7e",
   "metadata": {},
   "outputs": [
    {
     "name": "stdout",
     "output_type": "stream",
     "text": [
      "+------------+-------------------+--------------------+\n",
      "|request_date|   distance_to_cost|avg_distance_to_cost|\n",
      "+------------+-------------------+--------------------+\n",
      "|  2020-01-09| 10.760670731707318|   7.438536424054718|\n",
      "|  2020-01-24|  4.116402116402116|   7.438536424054718|\n",
      "|  2020-02-08|  4.498683055311677|   6.078943517705589|\n",
      "|  2020-02-23|  7.659203980099503|   6.078943517705589|\n",
      "|  2020-03-09| 3.4826147426981917|   6.609897114938839|\n",
      "|  2020-03-24|  9.737179487179487|   6.609897114938839|\n",
      "|  2020-04-08| 1.9267139479905437|   3.116035545423843|\n",
      "|  2020-04-23|  4.305357142857143|   3.116035545423843|\n",
      "|  2020-05-08| 14.017326732673268|   7.580134837808106|\n",
      "|  2020-05-23| 1.1429429429429432|   7.580134837808106|\n",
      "|  2020-06-07| 12.347560975609756|   7.376940758685239|\n",
      "|  2020-06-22| 2.4063205417607225|   7.376940758685239|\n",
      "|  2020-07-07| 0.8299549549549549|   2.853939465781571|\n",
      "|  2020-07-22|  4.877923976608187|   2.853939465781571|\n",
      "|  2020-08-06| 2.0395794681508965|  13.652941907988492|\n",
      "|  2020-08-21| 25.266304347826086|  13.652941907988492|\n",
      "|  2020-09-05|  3.768852459016393|  1.9477326811210998|\n",
      "|  2020-09-20|0.12661290322580646|  1.9477326811210998|\n",
      "|  2020-10-05|         3.26953125|   2.806518022558849|\n",
      "|  2020-10-20|  2.343504795117698|   2.806518022558849|\n",
      "+------------+-------------------+--------------------+\n",
      "\n"
     ]
    }
   ],
   "source": [
    "##joining above two dataframes to get resultant\n",
    "df_output = df_distance_per_dollar.join(df_monthly_average, df_distance_per_dollar.time_period == df_monthly_average.period, 'inner')\n",
    "df_output = df_output.select('request_date','distance_to_cost','avg_distance_to_cost').orderBy('request_date')\n",
    "df_output.show()"
   ]
  },
  {
   "cell_type": "code",
   "execution_count": null,
   "id": "4c6732be",
   "metadata": {},
   "outputs": [],
   "source": []
  }
 ],
 "metadata": {
  "kernelspec": {
   "display_name": "Python 3 (ipykernel)",
   "language": "python",
   "name": "python3"
  },
  "language_info": {
   "codemirror_mode": {
    "name": "ipython",
    "version": 3
   },
   "file_extension": ".py",
   "mimetype": "text/x-python",
   "name": "python",
   "nbconvert_exporter": "python",
   "pygments_lexer": "ipython3",
   "version": "3.9.7"
  }
 },
 "nbformat": 4,
 "nbformat_minor": 5
}
