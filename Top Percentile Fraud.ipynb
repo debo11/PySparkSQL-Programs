{
 "cells": [
  {
   "cell_type": "code",
   "execution_count": 1,
   "id": "8a0705a6",
   "metadata": {},
   "outputs": [],
   "source": [
    "from pyspark.sql import SparkSession\n",
    "from pyspark.sql import functions as F\n",
    "from pyspark.sql.window import Window\n",
    "from pyspark.sql.functions import lag\n",
    "from pyspark.sql.functions import col, when, lit"
   ]
  },
  {
   "cell_type": "code",
   "execution_count": 11,
   "id": "ddb2b524",
   "metadata": {},
   "outputs": [],
   "source": [
    "spark = SparkSession.builder.appName('Top Percentile Fraud').getOrCreate()"
   ]
  },
  {
   "cell_type": "code",
   "execution_count": 12,
   "id": "59671a03",
   "metadata": {},
   "outputs": [
    {
     "name": "stdout",
     "output_type": "stream",
     "text": [
      "+----------+-----+----------+-----------+\n",
      "|policy_num|state|claim_cost|fraud_score|\n",
      "+----------+-----+----------+-----------+\n",
      "|  ABCD1001|   CA|      4113|      0.613|\n",
      "|  ABCD1002|   CA|      3946|      0.156|\n",
      "|  ABCD1003|   CA|      4335|      0.014|\n",
      "|  ABCD1004|   CA|      3967|      0.142|\n",
      "|  ABCD1005|   CA|      1599|      0.889|\n",
      "|  ABCD1006|   CA|      1021|      0.873|\n",
      "|  ABCD1007|   CA|      1725|      0.512|\n",
      "|  ABCD1008|   CA|      1794|      0.349|\n",
      "|  ABCD1009|   CA|      4593|      0.574|\n",
      "|  ABCD1010|   CA|      3430|      0.929|\n",
      "|  ABCD1011|   CA|      4648|      0.183|\n",
      "|  ABCD1012|   CA|      3963|      0.511|\n",
      "|  ABCD1013|   CA|      3284|       0.22|\n",
      "|  ABCD1014|   CA|      1068|      0.025|\n",
      "|  ABCD1015|   CA|      4171|      0.368|\n",
      "|  ABCD1016|   CA|      1639|      0.964|\n",
      "|  ABCD1017|   CA|      2171|      0.288|\n",
      "|  ABCD1018|   CA|      2627|      0.337|\n",
      "|  ABCD1019|   CA|      1681|      0.181|\n",
      "|  ABCD1020|   CA|      1516|      0.074|\n",
      "+----------+-----+----------+-----------+\n",
      "only showing top 20 rows\n",
      "\n"
     ]
    }
   ],
   "source": [
    "df_input = spark.read.options(header= 'True', InferSchema='True').csv('fraud_score.csv')\n",
    "df_input.show()"
   ]
  },
  {
   "cell_type": "code",
   "execution_count": null,
   "id": "75be2141",
   "metadata": {},
   "outputs": [],
   "source": []
  }
 ],
 "metadata": {
  "kernelspec": {
   "display_name": "Python 3 (ipykernel)",
   "language": "python",
   "name": "python3"
  },
  "language_info": {
   "codemirror_mode": {
    "name": "ipython",
    "version": 3
   },
   "file_extension": ".py",
   "mimetype": "text/x-python",
   "name": "python",
   "nbconvert_exporter": "python",
   "pygments_lexer": "ipython3",
   "version": "3.9.7"
  }
 },
 "nbformat": 4,
 "nbformat_minor": 5
}
