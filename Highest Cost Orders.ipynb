{
 "cells": [
  {
   "cell_type": "code",
   "execution_count": 7,
   "id": "8c57830f",
   "metadata": {},
   "outputs": [],
   "source": [
    "import pandas as pd\n",
    "from pyspark.sql.functions import *\n",
    "from pyspark.sql import SparkSession\n",
    "spark = SparkSession.builder.appName(\"Highest Cost Orders\").getOrCreate()"
   ]
  },
  {
   "cell_type": "code",
   "execution_count": 8,
   "id": "54223950",
   "metadata": {},
   "outputs": [
    {
     "name": "stdout",
     "output_type": "stream",
     "text": [
      "+---+----------+---------+-------------+--------------------+------------+\n",
      "| id|first_name|last_name|         city|             address|phone_number|\n",
      "+---+----------+---------+-------------+--------------------+------------+\n",
      "|  8|      John|   Joseph|San Francisco|                null|928-386-8164|\n",
      "|  7|      Jill|  Michael|       Austin|                null|813-297-0692|\n",
      "|  4|   William|   Daniel|       Denver|                null|813-368-1200|\n",
      "|  5|     Henry|  Jackson|        Miami|                null|808-601-7513|\n",
      "| 13|      Emma|    Isaac|        Miami|                null|808-690-5201|\n",
      "| 14|      Liam|   Samuel|        Miami|                null|808-555-5201|\n",
      "| 15|       Mia|     Owen|        Miami|                null|808-640-5201|\n",
      "|  1|      Mark|   Thomas|      Arizona|  4476 Parkway Drive|602-993-5916|\n",
      "| 12|       Eva|    Lucas|      Arizona|     4379 Skips Lane|301-509-8805|\n",
      "|  6|      Jack|    Aiden|      Arizona|  4833 Coplin Avenue|480-303-1527|\n",
      "|  2|      Mona|   Adrian|  Los Angeles|     1958 Peck Court|714-409-9432|\n",
      "| 10|      Lili|   Oliver|  Los Angeles|  3832 Euclid Avenue|530-695-1180|\n",
      "|  3|    Farida|   Joseph|San Francisco|3153 Rhapsody Street|813-368-1200|\n",
      "|  9|    Justin|Alexander|       Denver|4470 McKinley Avenue|970-433-7589|\n",
      "| 11|     Frank|    Jacob|        Miami|  1299 Randall Drive|        null|\n",
      "+---+----------+---------+-------------+--------------------+------------+\n",
      "\n",
      "+---+-------+----------+-------------+----------------+\n",
      "| id|cust_id|order_date|order_details|total_order_cost|\n",
      "+---+-------+----------+-------------+----------------+\n",
      "|  1|      3|04-03-2019|         Coat|             100|\n",
      "|  2|      3|01-03-2019|        Shoes|              80|\n",
      "|  3|      3|07-03-2019|        Skirt|              30|\n",
      "|  4|      7|01-02-2019|         Coat|              25|\n",
      "|  5|      7|10-03-2019|        Shoes|              80|\n",
      "|  6|     15|01-02-2019|        Boats|             100|\n",
      "|  7|     15|11-01-2019|       Shirts|              60|\n",
      "|  8|     15|11-03-2019|      Slipper|              20|\n",
      "|  9|     15|01-03-2019|        Jeans|              80|\n",
      "| 10|     15|09-03-2019|       Shirts|              50|\n",
      "| 11|      5|01-02-2019|        Shoes|              80|\n",
      "| 12|     12|11-01-2019|       Shirts|              60|\n",
      "| 13|     12|11-03-2019|      Slipper|              20|\n",
      "| 14|      4|01-02-2019|        Shoes|              80|\n",
      "| 15|      4|11-01-2019|       Shirts|              60|\n",
      "| 16|      3|19-04-2019|       Shirts|              50|\n",
      "| 17|      7|19-04-2019|         Suit|             150|\n",
      "| 18|     15|19-04-2019|        Skirt|              30|\n",
      "| 19|     15|20-04-2019|      Dresses|             200|\n",
      "| 20|     12|11-01-2019|         Coat|             125|\n",
      "+---+-------+----------+-------------+----------------+\n",
      "only showing top 20 rows\n",
      "\n"
     ]
    }
   ],
   "source": [
    "df_customer_input = spark.read.options(header='true', InferSchema='true').csv('customer.csv')\n",
    "df_order_input = spark.read.options(header='true', InferSchema='true').csv('orders.csv')\n",
    "df_customer_input.show()\n",
    "df_order_input.show()"
   ]
  },
  {
   "cell_type": "code",
   "execution_count": 65,
   "id": "f1be7b45",
   "metadata": {},
   "outputs": [
    {
     "name": "stdout",
     "output_type": "stream",
     "text": [
      "+-------+----------+----------+\n",
      "|cust_id|order_date|total_cost|\n",
      "+-------+----------+----------+\n",
      "|      7|19-04-2019|       275|\n",
      "|      5|01-02-2019|        80|\n",
      "|      4|11-01-2019|        60|\n",
      "|     15|11-01-2019|        60|\n",
      "|     15|19-04-2019|        30|\n",
      "|     15|20-04-2019|       200|\n",
      "|     15|09-03-2019|        50|\n",
      "|      3|01-03-2019|        80|\n",
      "|     15|01-02-2019|       100|\n",
      "|      3|07-03-2019|        30|\n",
      "|     15|11-03-2019|        20|\n",
      "|     12|11-03-2019|        20|\n",
      "|      3|04-03-2019|       100|\n",
      "|     12|11-01-2019|       185|\n",
      "|      7|10-03-2019|        80|\n",
      "|      7|03-04-2019|        50|\n",
      "|      4|01-02-2019|        80|\n",
      "|      3|19-04-2019|        50|\n",
      "|      7|02-04-2019|        30|\n",
      "|      7|04-04-2019|        25|\n",
      "+-------+----------+----------+\n",
      "only showing top 20 rows\n",
      "\n"
     ]
    }
   ],
   "source": [
    "\n",
    "df_order = df_order_input.groupBy(['cust_id','order_date']).sum().selectExpr('cust_id','order_date','`sum(total_order_cost)` as total_cost').show()"
   ]
  },
  {
   "cell_type": "code",
   "execution_count": 61,
   "id": "6f4d6758",
   "metadata": {},
   "outputs": [],
   "source": [
    "df_grouped_order = df_order.filter((df_order['order_date'] >='01-02-2019') & (df_order['order_date'] >='01-05-2019'))"
   ]
  },
  {
   "cell_type": "code",
   "execution_count": 62,
   "id": "01de39cd",
   "metadata": {},
   "outputs": [],
   "source": [
    "df_max = df_order.orderBy(desc(\"total_cost\"))"
   ]
  },
  {
   "cell_type": "code",
   "execution_count": 63,
   "id": "bf69b3cf",
   "metadata": {},
   "outputs": [
    {
     "name": "stdout",
     "output_type": "stream",
     "text": [
      "+----------+----------+----------+\n",
      "|first_name|order_date|total_cost|\n",
      "+----------+----------+----------+\n",
      "|Jill      |19-04-2019|275       |\n",
      "+----------+----------+----------+\n",
      "only showing top 1 row\n",
      "\n"
     ]
    }
   ],
   "source": [
    "df_output = df_max.join(df_customer_input, df_max.cust_id == df_customer_input.id ,\"inner\")['first_name','order_date','total_cost'].show(1, False)"
   ]
  },
  {
   "cell_type": "code",
   "execution_count": null,
   "id": "e213b947",
   "metadata": {},
   "outputs": [],
   "source": []
  }
 ],
 "metadata": {
  "kernelspec": {
   "display_name": "Python 3 (ipykernel)",
   "language": "python",
   "name": "python3"
  },
  "language_info": {
   "codemirror_mode": {
    "name": "ipython",
    "version": 3
   },
   "file_extension": ".py",
   "mimetype": "text/x-python",
   "name": "python",
   "nbconvert_exporter": "python",
   "pygments_lexer": "ipython3",
   "version": "3.9.7"
  }
 },
 "nbformat": 4,
 "nbformat_minor": 5
}
